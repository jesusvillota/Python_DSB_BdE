{
 "cells": [
  {
   "cell_type": "markdown",
   "metadata": {},
   "source": [
    "<!-- Container with white background -->\n",
    "<div style=\"background-color: white; padding: 20px; border-radius: 10px;\">\n",
    "\n",
    "  <!-- Name in bold and approximate LaTeX font style with the logo blue color -->\n",
    "  <h1 style=\"font-family: 'Times New Roman', Times, serif; font-weight: bold; color: #38549c; text-align: center;\">\n",
    "    Introduction to Python | Session #2\n",
    "  </h1>\n",
    "\n",
    "  <!-- Project name in similar style with the logo blue color in italics -->\n",
    "  <h2 style=\"font-family: 'Times New Roman', Times, serif; color: #38549c; text-align: center; font-style: italic;\">\n",
    "    Diploma in Banking Supervision\n",
    "  </h2>\n",
    "\n",
    "  <!-- CEMFI logo centered -->\n",
    "  <div style=\"text-align: center; margin-bottom: 40px;\">\n",
    "    <img src=\"https://www.cemfi.es/images/Logo-Azul.png\" alt=\"CEMFI Logo\" style=\"width:200px;\">\n",
    "  </div>\n",
    "\n",
    "  <!-- Catchy message about authorship -->\n",
    "  <p style=\"font-family: 'Times New Roman', Times, serif; color: #38549c; text-align: center; font-size: 1.2em;\">\n",
    "    Jesus Villota Miranda © 2025\n",
    "  </p>\n",
    "\n",
    "  <!-- Contact information with logos -->\n",
    "  <p style=\"font-family: 'Times New Roman', Times, serif; color: #38549c; text-align: center; font-size: 1em;\">\n",
    "    <!-- Contact: -->\n",
    "    <a href=\"mailto:jesus.villota@cemfi.edu.es\" style=\"color: #38549c;\">\n",
    "      <img src=\"https://cdn-icons-png.flaticon.com/512/11679/11679732.png\" alt=\"Email Logo\" style=\"width: 20px; vertical-align: middle;\">\n",
    "      jesus.villota@cemfi.edu.es\n",
    "    </a> |\n",
    "    <a href=\"https://www.linkedin.com/in/jesusvillotamiranda/\" target=\"_blank\" style=\"color: #38549c;\">\n",
    "      <img src=\"https://1.bp.blogspot.com/-onvhHUdW1Us/YI52e9j4eKI/AAAAAAAAE4c/6s9wzOpIDYcAo4YmTX1Qg51OlwMFmilFACLcBGAsYHQ/s1600/Logo%2BLinkedin.png\" alt=\"LinkedIn Logo\" style=\"width: 20px; vertical-align: middle;\">\n",
    "      LinkedIn\n",
    "    </a>\n",
    "  </p>\n",
    "\n",
    "</div>\n"
   ]
  },
  {
   "cell_type": "markdown",
   "metadata": {},
   "source": [
    ":::{note}\n",
    "This material is mostly adapted from the following resources:\n",
    "- [Earth and Environmental Data Science: Pandas](https://earth-env-data-science.github.io/lectures/pandas/pandas_intro.html)\n",
    "- [Python Programming for Data Science: Pandas](https://www.tomasbeuzen.com/python-programming-for-data-science/chapters/chapter7-pandas.html)\n",
    "- [Data Science for Energy System Modelling: Introduction to pandas](https://fneum.github.io/data-science-for-esm/03-workshop-pandas.html)\n",
    ":::\n"
   ]
  },
  {
   "cell_type": "markdown",
   "metadata": {},
   "source": [
    "# **5. Introduction to `pandas`**\n",
    "<hr>"
   ]
  },
  {
   "cell_type": "markdown",
   "metadata": {},
   "source": [
    "<img src=\"https://pandas.pydata.org/static/img/pandas.svg\" width=\"300px\" />\n",
    "\n",
    "Pandas is the most popular Python library for tabular data structures. You can think of Pandas as an extremely powerful version of Excel (but free and with a lot more features!). \n",
    "\n",
    ":::{note}\n",
    "Documentation for this package is available at https://pandas.pydata.org/docs/.\n",
    ":::"
   ]
  },
  {
   "cell_type": "markdown",
   "metadata": {},
   "source": [
    "[Pandas](http://pandas.pydata.org/) is a an open source library providing high-performance, easy-to-use data structures and data analysis tools. Pandas is particularly suited to the analysis of _tabular_ data, i.e. data that can can go into a table. In other words, if you can imagine the data in an Excel spreadsheet, then Pandas is the tool for the job.\n",
    "\n",
    "- A fast and efficient DataFrame object for data manipulation with indexing;\n",
    "- Tools for reading and writing data: CSV and text files, Excel, SQL;\n",
    "- Intelligent data alignment and integrated handling of missing data;\n",
    "- Flexible reshaping and pivoting of data sets;\n",
    "- Intelligent label-based slicing, indexing, and subsetting of large data sets;\n",
    "- High performance aggregating, merging, joining or transforming data;\n",
    "- Hierarchical indexing provides an intuitive way of working with high-dimensional data;\n",
    "- Time series-functionality: date-based indexing, frequency conversion, moving windows, date shifting and lagging;"
   ]
  },
  {
   "cell_type": "markdown",
   "metadata": {},
   "source": [
    "<img src=\"https://media.geeksforgeeks.org/wp-content/cdn-uploads/creating_dataframe1.png\" width=\"720px\" />"
   ]
  },
  {
   "cell_type": "markdown",
   "metadata": {},
   "source": [
    "We usually import pandas with the alias `pd`. You'll see these two imports at the top of most data science workflows:"
   ]
  },
  {
   "cell_type": "code",
   "execution_count": 2245,
   "metadata": {},
   "outputs": [],
   "source": [
    "import pandas as pd\n",
    "import numpy as np"
   ]
  },
  {
   "cell_type": "markdown",
   "metadata": {
    "tags": []
   },
   "source": [
    "## **5.1. Pandas Series**\n",
    "\n",
    "- A Series is like a NumPy array but with an **index**. The index contains the labels that we use to access the data.\n",
    "- They are strictly 1-dimensional and can contain any data type (integers, strings, floats, objects, etc), including a mix of them. \n",
    "- Series can be created from a scalar, a list, ndarray or dictionary using `pd.Series()` (**note the capital \"S\"**). \n",
    "- Here are some example series:\n",
    "\n",
    "![](https://www.tomasbeuzen.com/python-programming-for-data-science/_images/series.png)"
   ]
  },
  {
   "cell_type": "markdown",
   "metadata": {},
   "source": [
    "### **5.1.1. Creating Series**\n",
    "\n",
    "There are many ways to [create a Series](https://pandas.pydata.org/pandas-docs/stable/dsintro.html#series). We will just show a few. The core constructor is [`pd.Series()`](https://pandas.pydata.org/docs/reference/api/pandas.Series.html) (note the capital \"S\")\n",
    "\n",
    "A Series can be created from a scalar, a list, ndarray or dictionary using \n",
    "\n",
    "- Creating a Series from a list or ndarray:\n",
    ":::{python}\n",
    "`pd.Series(data, index, name)`\n",
    "- `data`: list or ndarray\n",
    "- `index`: optional, list of labels, default None\n",
    "- `name`: optional, string, default None\n",
    ":::\n",
    "\n",
    "- Creating a Series from a dictionary:\n",
    ":::{python}\n",
    "`pd.Series(dict, name)`\n",
    "- `dict`: dictionary with labels as keys and values as data\n",
    "- `name`: optional, string, default None\n",
    ":::"
   ]
  },
  {
   "cell_type": "markdown",
   "metadata": {},
   "source": [
    "By default, series are labelled with indices starting from 0. For example:"
   ]
  },
  {
   "cell_type": "code",
   "execution_count": 2246,
   "metadata": {},
   "outputs": [
    {
     "data": {
      "application/vnd.microsoft.datawrangler.viewer.v0+json": {
       "columns": [
        {
         "name": "index",
         "rawType": "int64",
         "type": "integer"
        },
        {
         "name": "0",
         "rawType": "float64",
         "type": "float"
        }
       ],
       "ref": "b6b37004-275e-454e-b41c-61d0ba3dae06",
       "rows": [
        [
         "0",
         "-5.0"
        ],
        [
         "1",
         "1.3"
        ],
        [
         "2",
         "21.0"
        ],
        [
         "3",
         "6.0"
        ],
        [
         "4",
         "3.0"
        ]
       ],
       "shape": {
        "columns": 1,
        "rows": 5
       }
      },
      "text/plain": [
       "0    -5.0\n",
       "1     1.3\n",
       "2    21.0\n",
       "3     6.0\n",
       "4     3.0\n",
       "dtype: float64"
      ]
     },
     "execution_count": 2246,
     "metadata": {},
     "output_type": "execute_result"
    }
   ],
   "source": [
    "data = [-5, 1.3, 21, 6, 3]\n",
    "pd.Series(data)"
   ]
  },
  {
   "cell_type": "markdown",
   "metadata": {},
   "source": [
    "But you can add a custom index and a name"
   ]
  },
  {
   "cell_type": "code",
   "execution_count": 2247,
   "metadata": {},
   "outputs": [
    {
     "data": {
      "application/vnd.microsoft.datawrangler.viewer.v0+json": {
       "columns": [
        {
         "name": "index",
         "rawType": "object",
         "type": "string"
        },
        {
         "name": "my_series",
         "rawType": "float64",
         "type": "float"
        }
       ],
       "ref": "d001f08a-e984-482e-9f54-fb2f17a922a0",
       "rows": [
        [
         "a",
         "-5.0"
        ],
        [
         "b",
         "1.3"
        ],
        [
         "c",
         "21.0"
        ],
        [
         "d",
         "6.0"
        ],
        [
         "e",
         "3.0"
        ]
       ],
       "shape": {
        "columns": 1,
        "rows": 5
       }
      },
      "text/plain": [
       "a    -5.0\n",
       "b     1.3\n",
       "c    21.0\n",
       "d     6.0\n",
       "e     3.0\n",
       "Name: my_series, dtype: float64"
      ]
     },
     "execution_count": 2247,
     "metadata": {},
     "output_type": "execute_result"
    }
   ],
   "source": [
    "# Creating a Series from a list\n",
    "data = [-5, 1.3, 21, 6, 3]\n",
    "index = ['a', 'b', 'c', 'd', 'e']\n",
    "name = 'my_series'\n",
    "pd.Series(data=data, index=index, name=name)"
   ]
  },
  {
   "cell_type": "markdown",
   "metadata": {},
   "source": [
    "Or from an ndarray:"
   ]
  },
  {
   "cell_type": "code",
   "execution_count": 2248,
   "metadata": {},
   "outputs": [
    {
     "data": {
      "application/vnd.microsoft.datawrangler.viewer.v0+json": {
       "columns": [
        {
         "name": "index",
         "rawType": "object",
         "type": "string"
        },
        {
         "name": "my_series",
         "rawType": "float64",
         "type": "float"
        }
       ],
       "ref": "2f0053d9-bc30-404e-a293-d05c78b0ee1e",
       "rows": [
        [
         "a",
         "-5.0"
        ],
        [
         "b",
         "1.3"
        ],
        [
         "c",
         "21.0"
        ],
        [
         "d",
         "6.0"
        ],
        [
         "e",
         "3.0"
        ]
       ],
       "shape": {
        "columns": 1,
        "rows": 5
       }
      },
      "text/plain": [
       "a    -5.0\n",
       "b     1.3\n",
       "c    21.0\n",
       "d     6.0\n",
       "e     3.0\n",
       "Name: my_series, dtype: float64"
      ]
     },
     "execution_count": 2248,
     "metadata": {},
     "output_type": "execute_result"
    }
   ],
   "source": [
    "# Creating a Series from a NumPy array\n",
    "data = np.array([-5, 1.3, 21, 6, 3])\n",
    "pd.Series(data=data, index=index, name=name)"
   ]
  },
  {
   "cell_type": "markdown",
   "metadata": {},
   "source": [
    "You can create a Series from a dictionary; in this case, the keys will be used as the index:"
   ]
  },
  {
   "cell_type": "code",
   "execution_count": 2249,
   "metadata": {},
   "outputs": [
    {
     "data": {
      "application/vnd.microsoft.datawrangler.viewer.v0+json": {
       "columns": [
        {
         "name": "index",
         "rawType": "object",
         "type": "string"
        },
        {
         "name": "my_series",
         "rawType": "float64",
         "type": "float"
        }
       ],
       "ref": "8f296cf5-5fcc-48d3-bc04-59ce05dca9cb",
       "rows": [
        [
         "a",
         "-5.0"
        ],
        [
         "b",
         "1.3"
        ],
        [
         "c",
         "21.0"
        ],
        [
         "d",
         "6.0"
        ],
        [
         "e",
         "3.0"
        ]
       ],
       "shape": {
        "columns": 1,
        "rows": 5
       }
      },
      "text/plain": [
       "a    -5.0\n",
       "b     1.3\n",
       "c    21.0\n",
       "d     6.0\n",
       "e     3.0\n",
       "Name: my_series, dtype: float64"
      ]
     },
     "execution_count": 2249,
     "metadata": {},
     "output_type": "execute_result"
    }
   ],
   "source": [
    "# Creating a Series from a dictionary\n",
    "data = {'a': -5, 'b': 1.3, 'c': 21, 'd': 6, 'e': 3}\n",
    "pd.Series(data=data, name=name)"
   ]
  },
  {
   "cell_type": "markdown",
   "metadata": {},
   "source": [
    "### **3.1.2. Series Characteristics**"
   ]
  },
  {
   "cell_type": "markdown",
   "metadata": {},
   "source": [
    "Series can be given a `name` attribute. I almost never use this but it might come up sometimes:"
   ]
  },
  {
   "cell_type": "code",
   "execution_count": 2250,
   "metadata": {},
   "outputs": [
    {
     "data": {
      "application/vnd.microsoft.datawrangler.viewer.v0+json": {
       "columns": [
        {
         "name": "index",
         "rawType": "object",
         "type": "string"
        },
        {
         "name": "final_grades",
         "rawType": "int64",
         "type": "integer"
        }
       ],
       "ref": "0fa11f6c-6057-4e92-81c8-d32659936cc3",
       "rows": [
        [
         "Alice",
         "10"
        ],
        [
         "Bob",
         "7"
        ],
        [
         "Charlie",
         "2"
        ],
        [
         "David",
         "6"
        ],
        [
         "Eve",
         "4"
        ],
        [
         "Frank",
         "8"
        ]
       ],
       "shape": {
        "columns": 1,
        "rows": 6
       }
      },
      "text/plain": [
       "Alice      10\n",
       "Bob         7\n",
       "Charlie     2\n",
       "David       6\n",
       "Eve         4\n",
       "Frank       8\n",
       "Name: final_grades, dtype: int64"
      ]
     },
     "execution_count": 2250,
     "metadata": {},
     "output_type": "execute_result"
    }
   ],
   "source": [
    "data = [10,7,2,6,4,8]\n",
    "index = [\"Alice\", \"Bob\", \"Charlie\", \"David\", \"Eve\", \"Frank\"]\n",
    "grades10 = pd.Series(data, index, name=\"final_grades\")\n",
    "grades10"
   ]
  },
  {
   "cell_type": "code",
   "execution_count": 2251,
   "metadata": {},
   "outputs": [
    {
     "data": {
      "text/plain": [
       "'final_grades'"
      ]
     },
     "execution_count": 2251,
     "metadata": {},
     "output_type": "execute_result"
    }
   ],
   "source": [
    "grades10.name"
   ]
  },
  {
   "cell_type": "code",
   "execution_count": 2252,
   "metadata": {},
   "outputs": [
    {
     "data": {
      "application/vnd.microsoft.datawrangler.viewer.v0+json": {
       "columns": [
        {
         "name": "index",
         "rawType": "object",
         "type": "string"
        },
        {
         "name": "grades_on_10_scale",
         "rawType": "int64",
         "type": "integer"
        }
       ],
       "ref": "6357814c-3f5a-4ef2-9be1-8a167aff9566",
       "rows": [
        [
         "Alice",
         "10"
        ],
        [
         "Bob",
         "7"
        ],
        [
         "Charlie",
         "2"
        ],
        [
         "David",
         "6"
        ],
        [
         "Eve",
         "4"
        ],
        [
         "Frank",
         "8"
        ]
       ],
       "shape": {
        "columns": 1,
        "rows": 6
       }
      },
      "text/plain": [
       "Alice      10\n",
       "Bob         7\n",
       "Charlie     2\n",
       "David       6\n",
       "Eve         4\n",
       "Frank       8\n",
       "Name: grades_on_10_scale, dtype: int64"
      ]
     },
     "execution_count": 2252,
     "metadata": {},
     "output_type": "execute_result"
    }
   ],
   "source": [
    "grades10.rename(\"grades_on_10_scale\")"
   ]
  },
  {
   "cell_type": "markdown",
   "metadata": {},
   "source": [
    "You can access the index labels of your series using the `.index` attribute:"
   ]
  },
  {
   "cell_type": "code",
   "execution_count": 2253,
   "metadata": {},
   "outputs": [
    {
     "data": {
      "text/plain": [
       "Index(['Alice', 'Bob', 'Charlie', 'David', 'Eve', 'Frank'], dtype='object')"
      ]
     },
     "execution_count": 2253,
     "metadata": {},
     "output_type": "execute_result"
    }
   ],
   "source": [
    "grades10.index"
   ]
  },
  {
   "cell_type": "markdown",
   "metadata": {},
   "source": [
    "You can access the underlying data array using `.values`. This is a NumPy array:"
   ]
  },
  {
   "cell_type": "code",
   "execution_count": 2254,
   "metadata": {},
   "outputs": [
    {
     "name": "stdout",
     "output_type": "stream",
     "text": [
      "<class 'numpy.ndarray'>\n"
     ]
    },
    {
     "data": {
      "text/plain": [
       "array([10,  7,  2,  6,  4,  8])"
      ]
     },
     "execution_count": 2254,
     "metadata": {},
     "output_type": "execute_result"
    }
   ],
   "source": [
    "print(type(grades10.values))\n",
    "grades10.values"
   ]
  },
  {
   "cell_type": "markdown",
   "metadata": {},
   "source": [
    "## **5.1.3. Series Operations**"
   ]
  },
  {
   "cell_type": "markdown",
   "metadata": {},
   "source": [
    "We can broadcast operations across the entire Series. For example, we can multiply all values by 2/5 to change the grades to a 4-point scale:"
   ]
  },
  {
   "cell_type": "code",
   "execution_count": 2255,
   "metadata": {},
   "outputs": [
    {
     "data": {
      "application/vnd.microsoft.datawrangler.viewer.v0+json": {
       "columns": [
        {
         "name": "index",
         "rawType": "object",
         "type": "string"
        },
        {
         "name": "grades_on_4_scale",
         "rawType": "float64",
         "type": "float"
        }
       ],
       "ref": "0131e99a-125c-4c50-b97f-e8f138be49f6",
       "rows": [
        [
         "Alice",
         "4.0"
        ],
        [
         "Bob",
         "2.8"
        ],
        [
         "Charlie",
         "0.8"
        ],
        [
         "David",
         "2.4"
        ],
        [
         "Eve",
         "1.6"
        ],
        [
         "Frank",
         "3.2"
        ]
       ],
       "shape": {
        "columns": 1,
        "rows": 6
       }
      },
      "text/plain": [
       "Alice      4.0\n",
       "Bob        2.8\n",
       "Charlie    0.8\n",
       "David      2.4\n",
       "Eve        1.6\n",
       "Frank      3.2\n",
       "Name: grades_on_4_scale, dtype: float64"
      ]
     },
     "execution_count": 2255,
     "metadata": {},
     "output_type": "execute_result"
    }
   ],
   "source": [
    "grades4 = grades10 * 2/5\n",
    "grades4.rename(\"grades_on_4_scale\")"
   ]
  },
  {
   "cell_type": "markdown",
   "metadata": {},
   "source": [
    "We can add Series together. This will align the indices and add the values where they match:"
   ]
  },
  {
   "cell_type": "code",
   "execution_count": 2256,
   "metadata": {},
   "outputs": [
    {
     "data": {
      "application/vnd.microsoft.datawrangler.viewer.v0+json": {
       "columns": [
        {
         "name": "index",
         "rawType": "object",
         "type": "string"
        },
        {
         "name": "final_grades",
         "rawType": "float64",
         "type": "float"
        }
       ],
       "ref": "42031d26-5387-4dac-9dbb-b7d2e49ec861",
       "rows": [
        [
         "Alice",
         "14.0"
        ],
        [
         "Bob",
         "9.8"
        ],
        [
         "Charlie",
         "2.8"
        ],
        [
         "David",
         "8.4"
        ],
        [
         "Eve",
         "5.6"
        ],
        [
         "Frank",
         "11.2"
        ]
       ],
       "shape": {
        "columns": 1,
        "rows": 6
       }
      },
      "text/plain": [
       "Alice      14.0\n",
       "Bob         9.8\n",
       "Charlie     2.8\n",
       "David       8.4\n",
       "Eve         5.6\n",
       "Frank      11.2\n",
       "Name: final_grades, dtype: float64"
      ]
     },
     "execution_count": 2256,
     "metadata": {},
     "output_type": "execute_result"
    }
   ],
   "source": [
    "grades10 + grades4"
   ]
  },
  {
   "cell_type": "markdown",
   "metadata": {},
   "source": [
    "Series have many built-in methods for various operations. The cell below lists them:\n",
    "<!-- You can find them all by running `help(pd.Series)`: -->"
   ]
  },
  {
   "cell_type": "code",
   "execution_count": 2257,
   "metadata": {},
   "outputs": [
    {
     "name": "stdout",
     "output_type": "stream",
     "text": [
      "['T', 'abs', 'add', 'add_prefix', 'add_suffix', 'agg', 'aggregate', 'align', 'all', 'any', 'apply', 'argmax', 'argmin', 'argsort', 'array', 'asfreq', 'asof', 'astype', 'at', 'at_time', 'attrs', 'autocorr', 'axes', 'backfill', 'between', 'between_time', 'bfill', 'bool', 'case_when', 'cat', 'clip', 'combine', 'combine_first', 'compare', 'convert_dtypes', 'copy', 'corr', 'count', 'cov', 'cummax', 'cummin', 'cumprod', 'cumsum', 'describe', 'diff', 'div', 'divide', 'divmod', 'dot', 'drop', 'drop_duplicates', 'droplevel', 'dropna', 'dt', 'dtype', 'dtypes', 'duplicated', 'empty', 'eq', 'equals', 'ewm', 'expanding', 'explode', 'factorize', 'ffill', 'fillna', 'filter', 'first', 'first_valid_index', 'flags', 'floordiv', 'ge', 'get', 'groupby', 'gt', 'hasnans', 'head', 'hist', 'iat', 'idxmax', 'idxmin', 'iloc', 'index', 'infer_objects', 'info', 'interpolate', 'is_monotonic_decreasing', 'is_monotonic_increasing', 'is_unique', 'isin', 'isna', 'isnull', 'item', 'items', 'keys', 'kurt', 'kurtosis', 'last', 'last_valid_index', 'le', 'list', 'loc', 'lt', 'map', 'mask', 'max', 'mean', 'median', 'memory_usage', 'min', 'mod', 'mode', 'mul', 'multiply', 'name', 'nbytes', 'ndim', 'ne', 'nlargest', 'notna', 'notnull', 'nsmallest', 'nunique', 'pad', 'pct_change', 'pipe', 'plot', 'pop', 'pow', 'prod', 'product', 'quantile', 'radd', 'rank', 'ravel', 'rdiv', 'rdivmod', 'reindex', 'reindex_like', 'rename', 'rename_axis', 'reorder_levels', 'repeat', 'replace', 'resample', 'reset_index', 'rfloordiv', 'rmod', 'rmul', 'rolling', 'round', 'rpow', 'rsub', 'rtruediv', 'sample', 'searchsorted', 'sem', 'set_axis', 'set_flags', 'shape', 'shift', 'size', 'skew', 'sort_index', 'sort_values', 'sparse', 'squeeze', 'std', 'str', 'struct', 'sub', 'subtract', 'sum', 'swapaxes', 'swaplevel', 'tail', 'take', 'to_clipboard', 'to_csv', 'to_dict', 'to_excel', 'to_frame', 'to_hdf', 'to_json', 'to_latex', 'to_list', 'to_markdown', 'to_numpy', 'to_period', 'to_pickle', 'to_sql', 'to_string', 'to_timestamp', 'to_xarray', 'tolist', 'transform', 'transpose', 'truediv', 'truncate', 'tz_convert', 'tz_localize', 'unique', 'unstack', 'update', 'value_counts', 'values', 'var', 'view', 'where', 'xs']\n"
     ]
    }
   ],
   "source": [
    "print([_ for _ in dir(pd.Series) if not _.startswith(\"_\")])  # print all common methods"
   ]
  },
  {
   "cell_type": "code",
   "execution_count": 2258,
   "metadata": {},
   "outputs": [
    {
     "data": {
      "text/plain": [
       "np.float64(2.466666666666667)"
      ]
     },
     "execution_count": 2258,
     "metadata": {},
     "output_type": "execute_result"
    }
   ],
   "source": [
    "grades4.mean()"
   ]
  },
  {
   "cell_type": "code",
   "execution_count": 2259,
   "metadata": {},
   "outputs": [
    {
     "data": {
      "text/plain": [
       "np.float64(1.1430952132988164)"
      ]
     },
     "execution_count": 2259,
     "metadata": {},
     "output_type": "execute_result"
    }
   ],
   "source": [
    "grades4.std()"
   ]
  },
  {
   "cell_type": "code",
   "execution_count": 2260,
   "metadata": {},
   "outputs": [
    {
     "data": {
      "text/plain": [
       "np.float64(2.5999999999999996)"
      ]
     },
     "execution_count": 2260,
     "metadata": {},
     "output_type": "execute_result"
    }
   ],
   "source": [
    "grades4.median()"
   ]
  },
  {
   "cell_type": "code",
   "execution_count": 2261,
   "metadata": {},
   "outputs": [
    {
     "data": {
      "text/plain": [
       "(np.float64(0.8), np.float64(4.0))"
      ]
     },
     "execution_count": 2261,
     "metadata": {},
     "output_type": "execute_result"
    }
   ],
   "source": [
    "grades4.min(), grades4.max()"
   ]
  },
  {
   "cell_type": "code",
   "execution_count": 2262,
   "metadata": {},
   "outputs": [
    {
     "data": {
      "text/plain": [
       "np.float64(14.8)"
      ]
     },
     "execution_count": 2262,
     "metadata": {},
     "output_type": "execute_result"
    }
   ],
   "source": [
    "grades4.sum()"
   ]
  },
  {
   "cell_type": "code",
   "execution_count": 2263,
   "metadata": {},
   "outputs": [
    {
     "data": {
      "application/vnd.microsoft.datawrangler.viewer.v0+json": {
       "columns": [
        {
         "name": "index",
         "rawType": "object",
         "type": "string"
        },
        {
         "name": "final_grades",
         "rawType": "float64",
         "type": "float"
        }
       ],
       "ref": "7148e51b-b9cb-42f3-9594-ed106687e3ae",
       "rows": [
        [
         "count",
         "6.0"
        ],
        [
         "mean",
         "2.466666666666667"
        ],
        [
         "std",
         "1.1430952132988164"
        ],
        [
         "min",
         "0.8"
        ],
        [
         "25%",
         "1.8"
        ],
        [
         "50%",
         "2.5999999999999996"
        ],
        [
         "75%",
         "3.1"
        ],
        [
         "max",
         "4.0"
        ]
       ],
       "shape": {
        "columns": 1,
        "rows": 8
       }
      },
      "text/plain": [
       "count    6.000000\n",
       "mean     2.466667\n",
       "std      1.143095\n",
       "min      0.800000\n",
       "25%      1.800000\n",
       "50%      2.600000\n",
       "75%      3.100000\n",
       "max      4.000000\n",
       "Name: final_grades, dtype: float64"
      ]
     },
     "execution_count": 2263,
     "metadata": {},
     "output_type": "execute_result"
    }
   ],
   "source": [
    "grades4.describe()"
   ]
  },
  {
   "cell_type": "markdown",
   "metadata": {},
   "source": [
    "## **5.1.3. Series Slicing**"
   ]
  },
  {
   "cell_type": "markdown",
   "metadata": {},
   "source": [
    "We can get values via the `.loc` and `.iloc` attributes.\n",
    "\n",
    "- `.loc` is used for label-based indexing, which means you access elements by their index labels:\n",
    "\n",
    "| Syntax | Description | Example | Result |\n",
    "|--------|-------------|---------|--------|\n",
    "| `series.loc[label]` | Single label access | `s.loc['b']` | Value at index 'b' |\n",
    "| `series.loc[label_list]` | Multiple labels | `s.loc[['a', 'c']]` | Series with values at 'a' and 'c' |\n",
    "| `series.loc[start:end]` | Slice by labels (inclusive) | `s.loc['a':'c']` | Series from 'a' to 'c' (inclusive) |\n",
    "| `series.loc[condition]` | Boolean indexing | `s.loc[s > 5]` | Values where condition is True |\n",
    "\n",
    "- `.iloc` is used for positional indexing, which means you access elements by their integer position in the Series:\n",
    "\n",
    "| Syntax | Description | Example | Result |\n",
    "|--------|-------------|---------|--------|\n",
    "| `series.iloc[position]` | Single position access | `s.iloc[1]` | Value at position 1 |\n",
    "| `series.iloc[position_list]` | Multiple positions | `s.iloc[[0, 2]]` | Series with values at positions 0 and 2 |\n",
    "| `series.iloc[start:end]` | Slice by positions (exclusive end) | `s.iloc[1:3]` | Series from position 1 to 2 |\n",
    "| `series.iloc[negative_pos]` | Negative indexing | `s.iloc[-1]` | Value at last position |\n",
    "\n",
    "**Key Differences:**\n",
    "\n",
    "1) Indexing method:\n",
    "    - `.loc` uses the actual index labels (strings, dates, etc.)\n",
    "    - `.iloc` uses integer positions (0, 1, 2, ...)\n",
    "2) Slicing behavior:\n",
    "    - `.loc` slicing is inclusive of both endpoints\n",
    "    - `.iloc` slicing is exclusive of the end position"
   ]
  },
  {
   "cell_type": "code",
   "execution_count": 2264,
   "metadata": {},
   "outputs": [
    {
     "data": {
      "text/plain": [
       "np.float64(2.4)"
      ]
     },
     "execution_count": 2264,
     "metadata": {},
     "output_type": "execute_result"
    }
   ],
   "source": [
    "grades4.loc[\"David\"]"
   ]
  },
  {
   "cell_type": "markdown",
   "metadata": {},
   "source": [
    "Or by raw position using `.iloc`"
   ]
  },
  {
   "cell_type": "code",
   "execution_count": 2265,
   "metadata": {},
   "outputs": [
    {
     "data": {
      "text/plain": [
       "np.float64(2.8)"
      ]
     },
     "execution_count": 2265,
     "metadata": {},
     "output_type": "execute_result"
    }
   ],
   "source": [
    "grades4.iloc[1]"
   ]
  },
  {
   "cell_type": "markdown",
   "metadata": {},
   "source": [
    "We can pass a list or array to loc to get multiple rows back:"
   ]
  },
  {
   "cell_type": "code",
   "execution_count": 2266,
   "metadata": {},
   "outputs": [
    {
     "data": {
      "application/vnd.microsoft.datawrangler.viewer.v0+json": {
       "columns": [
        {
         "name": "index",
         "rawType": "object",
         "type": "string"
        },
        {
         "name": "final_grades",
         "rawType": "float64",
         "type": "float"
        }
       ],
       "ref": "246dd3f2-2df0-4a51-b6c7-edfc40d94d9c",
       "rows": [
        [
         "Alice",
         "4.0"
        ],
        [
         "David",
         "2.4"
        ]
       ],
       "shape": {
        "columns": 1,
        "rows": 2
       }
      },
      "text/plain": [
       "Alice    4.0\n",
       "David    2.4\n",
       "Name: final_grades, dtype: float64"
      ]
     },
     "execution_count": 2266,
     "metadata": {},
     "output_type": "execute_result"
    }
   ],
   "source": [
    "grades4.loc[[\"Alice\", \"David\"]]"
   ]
  },
  {
   "cell_type": "markdown",
   "metadata": {},
   "source": [
    "Or select a range of rows using slicing:"
   ]
  },
  {
   "cell_type": "code",
   "execution_count": 2267,
   "metadata": {},
   "outputs": [
    {
     "data": {
      "application/vnd.microsoft.datawrangler.viewer.v0+json": {
       "columns": [
        {
         "name": "index",
         "rawType": "object",
         "type": "string"
        },
        {
         "name": "final_grades",
         "rawType": "float64",
         "type": "float"
        }
       ],
       "ref": "fbeebe24-fb57-4833-99ed-a094fa3492c3",
       "rows": [
        [
         "Alice",
         "4.0"
        ],
        [
         "Bob",
         "2.8"
        ],
        [
         "Charlie",
         "0.8"
        ],
        [
         "David",
         "2.4"
        ]
       ],
       "shape": {
        "columns": 1,
        "rows": 4
       }
      },
      "text/plain": [
       "Alice      4.0\n",
       "Bob        2.8\n",
       "Charlie    0.8\n",
       "David      2.4\n",
       "Name: final_grades, dtype: float64"
      ]
     },
     "execution_count": 2267,
     "metadata": {},
     "output_type": "execute_result"
    }
   ],
   "source": [
    "grades4.loc[\"Alice\":\"David\"]"
   ]
  },
  {
   "cell_type": "code",
   "execution_count": 2268,
   "metadata": {},
   "outputs": [
    {
     "data": {
      "application/vnd.microsoft.datawrangler.viewer.v0+json": {
       "columns": [
        {
         "name": "index",
         "rawType": "object",
         "type": "string"
        },
        {
         "name": "final_grades",
         "rawType": "float64",
         "type": "float"
        }
       ],
       "ref": "48deedde-5702-4eab-bb54-2a37320d050c",
       "rows": [
        [
         "Alice",
         "4.0"
        ],
        [
         "Bob",
         "2.8"
        ],
        [
         "Charlie",
         "0.8"
        ],
        [
         "David",
         "2.4"
        ]
       ],
       "shape": {
        "columns": 1,
        "rows": 4
       }
      },
      "text/plain": [
       "Alice      4.0\n",
       "Bob        2.8\n",
       "Charlie    0.8\n",
       "David      2.4\n",
       "Name: final_grades, dtype: float64"
      ]
     },
     "execution_count": 2268,
     "metadata": {},
     "output_type": "execute_result"
    }
   ],
   "source": [
    "grades4.iloc[:4]"
   ]
  },
  {
   "cell_type": "markdown",
   "metadata": {},
   "source": [
    "We can also do boolean indexing with series:"
   ]
  },
  {
   "cell_type": "code",
   "execution_count": 2269,
   "metadata": {},
   "outputs": [
    {
     "data": {
      "application/vnd.microsoft.datawrangler.viewer.v0+json": {
       "columns": [
        {
         "name": "index",
         "rawType": "object",
         "type": "string"
        },
        {
         "name": "final_grades",
         "rawType": "bool",
         "type": "boolean"
        }
       ],
       "ref": "c43dc984-a8f2-4060-a10c-4b0eae58ae70",
       "rows": [
        [
         "Alice",
         "True"
        ],
        [
         "Bob",
         "True"
        ],
        [
         "Charlie",
         "False"
        ],
        [
         "David",
         "True"
        ],
        [
         "Eve",
         "False"
        ],
        [
         "Frank",
         "True"
        ]
       ],
       "shape": {
        "columns": 1,
        "rows": 6
       }
      },
      "text/plain": [
       "Alice       True\n",
       "Bob         True\n",
       "Charlie    False\n",
       "David       True\n",
       "Eve        False\n",
       "Frank       True\n",
       "Name: final_grades, dtype: bool"
      ]
     },
     "execution_count": 2269,
     "metadata": {},
     "output_type": "execute_result"
    }
   ],
   "source": [
    "(grades4 >= 2)"
   ]
  },
  {
   "cell_type": "markdown",
   "metadata": {},
   "source": [
    "By embedding the boolean condition in square brackets, we can filter the series to only include values that meet the condition:"
   ]
  },
  {
   "cell_type": "code",
   "execution_count": 2270,
   "metadata": {},
   "outputs": [
    {
     "data": {
      "application/vnd.microsoft.datawrangler.viewer.v0+json": {
       "columns": [
        {
         "name": "index",
         "rawType": "object",
         "type": "string"
        },
        {
         "name": "final_grades",
         "rawType": "float64",
         "type": "float"
        }
       ],
       "ref": "09b7f6f8-0564-42f6-829b-251590721d87",
       "rows": [
        [
         "Alice",
         "4.0"
        ],
        [
         "Bob",
         "2.8"
        ],
        [
         "David",
         "2.4"
        ],
        [
         "Frank",
         "3.2"
        ]
       ],
       "shape": {
        "columns": 1,
        "rows": 4
       }
      },
      "text/plain": [
       "Alice    4.0\n",
       "Bob      2.8\n",
       "David    2.4\n",
       "Frank    3.2\n",
       "Name: final_grades, dtype: float64"
      ]
     },
     "execution_count": 2270,
     "metadata": {},
     "output_type": "execute_result"
    }
   ],
   "source": [
    "grades4[grades4 >= 2]"
   ]
  },
  {
   "cell_type": "code",
   "execution_count": 2271,
   "metadata": {},
   "outputs": [
    {
     "data": {
      "application/vnd.microsoft.datawrangler.viewer.v0+json": {
       "columns": [
        {
         "name": "index",
         "rawType": "object",
         "type": "string"
        },
        {
         "name": "final_grades",
         "rawType": "float64",
         "type": "float"
        }
       ],
       "ref": "80bee762-3277-4c84-9abd-32aeb5981bde",
       "rows": [
        [
         "Alice",
         "4.0"
        ],
        [
         "Bob",
         "2.8"
        ],
        [
         "Frank",
         "3.2"
        ]
       ],
       "shape": {
        "columns": 1,
        "rows": 3
       }
      },
      "text/plain": [
       "Alice    4.0\n",
       "Bob      2.8\n",
       "Frank    3.2\n",
       "Name: final_grades, dtype: float64"
      ]
     },
     "execution_count": 2271,
     "metadata": {},
     "output_type": "execute_result"
    }
   ],
   "source": [
    "grades4[grades4 > grades4.mean()]"
   ]
  },
  {
   "cell_type": "markdown",
   "metadata": {},
   "source": [
    "We can also check if an element is in the series:"
   ]
  },
  {
   "cell_type": "code",
   "execution_count": 2272,
   "metadata": {},
   "outputs": [
    {
     "data": {
      "text/plain": [
       "True"
      ]
     },
     "execution_count": 2272,
     "metadata": {},
     "output_type": "execute_result"
    }
   ],
   "source": [
    "\"Alice\" in grades4"
   ]
  },
  {
   "cell_type": "code",
   "execution_count": 2273,
   "metadata": {},
   "outputs": [
    {
     "data": {
      "text/plain": [
       "False"
      ]
     },
     "execution_count": 2273,
     "metadata": {},
     "output_type": "execute_result"
    }
   ],
   "source": [
    "\"Pepito\" in grades4"
   ]
  },
  {
   "cell_type": "markdown",
   "metadata": {},
   "source": [
    "**\"Chaining\"** operations together is also common with pandas:"
   ]
  },
  {
   "cell_type": "code",
   "execution_count": 2274,
   "metadata": {},
   "outputs": [
    {
     "data": {
      "text/plain": [
       "np.float64(90.83)"
      ]
     },
     "execution_count": 2274,
     "metadata": {},
     "output_type": "execute_result"
    }
   ],
   "source": [
    "grades10.add(3).pow(2).mean().round(2)"
   ]
  },
  {
   "cell_type": "markdown",
   "metadata": {},
   "source": [
    "# **5.2. Pandas DataFrames**\n",
    "\n",
    "There is a lot more to Series, but they are limited to a single **column**. A more useful Pandas data structure is the **DataFrame**. \n",
    "\n",
    "Pandas DataFrames are your new best friend. They are like the Excel spreadsheets you may be used to. DataFrames are really just Series stuck together! Think of a DataFrame as a dictionary of series, with the \"keys\" being the column labels and the \"values\" being the series data:\n",
    "\n",
    "![](img/chapter7/dataframe.png)\n",
    "\n",
    "![](https://www.tomasbeuzen.com/python-programming-for-data-science/_images/dataframe.png)"
   ]
  },
  {
   "cell_type": "markdown",
   "metadata": {},
   "source": [
    "### **5.2.1. Creating DataFrames**\n",
    "Dataframes can be created using `pd.DataFrame()` (note the capital \"D\" and \"F\") from a dictionary, a list of lists, or a NumPy array. \n",
    "> Note: like series, index and column labels of dataframes are labelled starting from 0 by default\n",
    "\n",
    "\n",
    "| Method | Example | Description |\n",
    "|--------|---------|-------------|\n",
    "| From dictionary of lists, arrays, or Series | \n",
    "`pd.DataFrame({'C1': [1, 2], 'C2': [3, 4]}, index=['R1', 'R2'])`\n",
    "<br><br>\n",
    "`pd.DataFrame({'C1': np.array([1, 2]), 'C2': np.array([3, 4])}, index=['R1', 'R2'])`\n",
    "<br><br>`\n",
    "pd.DataFrame({'C1': pd.Series([1, 2], index=['R1', 'R2']), 'C2': pd.Series([3, 4], index=['R1', 'R2'])})` | Each key becomes a column; values can be lists, NumPy arrays, or pandas Series |\n",
    "| From list of dictionaries | `pd.DataFrame([{'C1': 1, 'C2': 3}, {'C1': 2, 'C2': 4}], index=['R1', 'R2'])` | Each dictionary is a row; keys are columns |\n",
    "| From list of lists | `pd.DataFrame([[1, 3], [2, 4]], columns=['C1', 'C2'], index=['R1', 'R2'])` | Each inner list is a row; columns and row labels specified separately |\n",
    "| From NumPy array | `pd.DataFrame(np.array([[1, 3], [2, 4]]), columns=['C1', 'C2'], index=['R1', 'R2'])` | Each row of the array is a row; columns and row labels specified separately |"
   ]
  },
  {
   "cell_type": "code",
   "execution_count": 2275,
   "metadata": {},
   "outputs": [
    {
     "data": {
      "application/vnd.microsoft.datawrangler.viewer.v0+json": {
       "columns": [
        {
         "name": "index",
         "rawType": "object",
         "type": "string"
        },
        {
         "name": "C1",
         "rawType": "int64",
         "type": "integer"
        },
        {
         "name": "C2",
         "rawType": "int64",
         "type": "integer"
        },
        {
         "name": "C3",
         "rawType": "int64",
         "type": "integer"
        }
       ],
       "ref": "49a39809-7741-4315-944f-65ea66a05030",
       "rows": [
        [
         "R1",
         "1",
         "2",
         "3"
        ],
        [
         "R2",
         "4",
         "5",
         "6"
        ],
        [
         "R3",
         "7",
         "8",
         "9"
        ]
       ],
       "shape": {
        "columns": 3,
        "rows": 3
       }
      },
      "text/html": [
       "<div>\n",
       "<style scoped>\n",
       "    .dataframe tbody tr th:only-of-type {\n",
       "        vertical-align: middle;\n",
       "    }\n",
       "\n",
       "    .dataframe tbody tr th {\n",
       "        vertical-align: top;\n",
       "    }\n",
       "\n",
       "    .dataframe thead th {\n",
       "        text-align: right;\n",
       "    }\n",
       "</style>\n",
       "<table border=\"1\" class=\"dataframe\">\n",
       "  <thead>\n",
       "    <tr style=\"text-align: right;\">\n",
       "      <th></th>\n",
       "      <th>C1</th>\n",
       "      <th>C2</th>\n",
       "      <th>C3</th>\n",
       "    </tr>\n",
       "  </thead>\n",
       "  <tbody>\n",
       "    <tr>\n",
       "      <th>R1</th>\n",
       "      <td>1</td>\n",
       "      <td>2</td>\n",
       "      <td>3</td>\n",
       "    </tr>\n",
       "    <tr>\n",
       "      <th>R2</th>\n",
       "      <td>4</td>\n",
       "      <td>5</td>\n",
       "      <td>6</td>\n",
       "    </tr>\n",
       "    <tr>\n",
       "      <th>R3</th>\n",
       "      <td>7</td>\n",
       "      <td>8</td>\n",
       "      <td>9</td>\n",
       "    </tr>\n",
       "  </tbody>\n",
       "</table>\n",
       "</div>"
      ],
      "text/plain": [
       "    C1  C2  C3\n",
       "R1   1   2   3\n",
       "R2   4   5   6\n",
       "R3   7   8   9"
      ]
     },
     "execution_count": 2275,
     "metadata": {},
     "output_type": "execute_result"
    }
   ],
   "source": [
    "# Creating a DataFrame from a dictionary of lists: keys are column names, values are lists of column values\n",
    "pd.DataFrame(\n",
    "    data={\n",
    "        \"C1\": [1, 4, 7],\n",
    "        \"C2\": [2, 5, 8],\n",
    "        \"C3\": [3, 6, 9]\n",
    "    },\n",
    "    index=[\"R1\", \"R2\", \"R3\"]\n",
    ")"
   ]
  },
  {
   "cell_type": "code",
   "execution_count": 2276,
   "metadata": {},
   "outputs": [
    {
     "data": {
      "application/vnd.microsoft.datawrangler.viewer.v0+json": {
       "columns": [
        {
         "name": "index",
         "rawType": "object",
         "type": "string"
        },
        {
         "name": "C1",
         "rawType": "int64",
         "type": "integer"
        },
        {
         "name": "C2",
         "rawType": "int64",
         "type": "integer"
        },
        {
         "name": "C3",
         "rawType": "int64",
         "type": "integer"
        }
       ],
       "ref": "48646abd-2300-450f-a1fa-67baa860b9ca",
       "rows": [
        [
         "R1",
         "1",
         "2",
         "3"
        ],
        [
         "R2",
         "4",
         "5",
         "6"
        ],
        [
         "R3",
         "7",
         "8",
         "9"
        ]
       ],
       "shape": {
        "columns": 3,
        "rows": 3
       }
      },
      "text/html": [
       "<div>\n",
       "<style scoped>\n",
       "    .dataframe tbody tr th:only-of-type {\n",
       "        vertical-align: middle;\n",
       "    }\n",
       "\n",
       "    .dataframe tbody tr th {\n",
       "        vertical-align: top;\n",
       "    }\n",
       "\n",
       "    .dataframe thead th {\n",
       "        text-align: right;\n",
       "    }\n",
       "</style>\n",
       "<table border=\"1\" class=\"dataframe\">\n",
       "  <thead>\n",
       "    <tr style=\"text-align: right;\">\n",
       "      <th></th>\n",
       "      <th>C1</th>\n",
       "      <th>C2</th>\n",
       "      <th>C3</th>\n",
       "    </tr>\n",
       "  </thead>\n",
       "  <tbody>\n",
       "    <tr>\n",
       "      <th>R1</th>\n",
       "      <td>1</td>\n",
       "      <td>2</td>\n",
       "      <td>3</td>\n",
       "    </tr>\n",
       "    <tr>\n",
       "      <th>R2</th>\n",
       "      <td>4</td>\n",
       "      <td>5</td>\n",
       "      <td>6</td>\n",
       "    </tr>\n",
       "    <tr>\n",
       "      <th>R3</th>\n",
       "      <td>7</td>\n",
       "      <td>8</td>\n",
       "      <td>9</td>\n",
       "    </tr>\n",
       "  </tbody>\n",
       "</table>\n",
       "</div>"
      ],
      "text/plain": [
       "    C1  C2  C3\n",
       "R1   1   2   3\n",
       "R2   4   5   6\n",
       "R3   7   8   9"
      ]
     },
     "execution_count": 2276,
     "metadata": {},
     "output_type": "execute_result"
    }
   ],
   "source": [
    "# Creating a DataFrame from a dictionary of arrays: keys are column names, values are numpy arrays of column values\n",
    "pd.DataFrame(\n",
    "    data={\n",
    "        \"C1\": np.array([1, 4, 7]),\n",
    "        \"C2\": np.array([2, 5, 8]),\n",
    "        \"C3\": np.array([3, 6, 9])\n",
    "    },\n",
    "    index=[\"R1\", \"R2\", \"R3\"]\n",
    ")"
   ]
  },
  {
   "cell_type": "code",
   "execution_count": 2277,
   "metadata": {},
   "outputs": [
    {
     "data": {
      "application/vnd.microsoft.datawrangler.viewer.v0+json": {
       "columns": [
        {
         "name": "index",
         "rawType": "object",
         "type": "string"
        },
        {
         "name": "C1",
         "rawType": "int64",
         "type": "integer"
        },
        {
         "name": "C2",
         "rawType": "int64",
         "type": "integer"
        },
        {
         "name": "C3",
         "rawType": "int64",
         "type": "integer"
        }
       ],
       "ref": "bc06e286-cc49-4100-8d07-8ece78f2e80c",
       "rows": [
        [
         "R1",
         "1",
         "2",
         "3"
        ],
        [
         "R2",
         "4",
         "5",
         "6"
        ],
        [
         "R3",
         "7",
         "8",
         "9"
        ]
       ],
       "shape": {
        "columns": 3,
        "rows": 3
       }
      },
      "text/html": [
       "<div>\n",
       "<style scoped>\n",
       "    .dataframe tbody tr th:only-of-type {\n",
       "        vertical-align: middle;\n",
       "    }\n",
       "\n",
       "    .dataframe tbody tr th {\n",
       "        vertical-align: top;\n",
       "    }\n",
       "\n",
       "    .dataframe thead th {\n",
       "        text-align: right;\n",
       "    }\n",
       "</style>\n",
       "<table border=\"1\" class=\"dataframe\">\n",
       "  <thead>\n",
       "    <tr style=\"text-align: right;\">\n",
       "      <th></th>\n",
       "      <th>C1</th>\n",
       "      <th>C2</th>\n",
       "      <th>C3</th>\n",
       "    </tr>\n",
       "  </thead>\n",
       "  <tbody>\n",
       "    <tr>\n",
       "      <th>R1</th>\n",
       "      <td>1</td>\n",
       "      <td>2</td>\n",
       "      <td>3</td>\n",
       "    </tr>\n",
       "    <tr>\n",
       "      <th>R2</th>\n",
       "      <td>4</td>\n",
       "      <td>5</td>\n",
       "      <td>6</td>\n",
       "    </tr>\n",
       "    <tr>\n",
       "      <th>R3</th>\n",
       "      <td>7</td>\n",
       "      <td>8</td>\n",
       "      <td>9</td>\n",
       "    </tr>\n",
       "  </tbody>\n",
       "</table>\n",
       "</div>"
      ],
      "text/plain": [
       "    C1  C2  C3\n",
       "R1   1   2   3\n",
       "R2   4   5   6\n",
       "R3   7   8   9"
      ]
     },
     "execution_count": 2277,
     "metadata": {},
     "output_type": "execute_result"
    }
   ],
   "source": [
    "# Creating a DataFrame from a dictionary of Series: keys are column names, values are pandas Series of column values\n",
    "pd.DataFrame(\n",
    "    data={\n",
    "        \"C1\": pd.Series([1,4,7], index=[\"R1\", \"R2\", \"R3\"]),\n",
    "        \"C2\": pd.Series([2,5,8], index=[\"R1\", \"R2\", \"R3\"]),\n",
    "        \"C3\": pd.Series([3,6,9], index=[\"R1\", \"R2\", \"R3\"])\n",
    "    },\n",
    "    index=[\"R1\", \"R2\", \"R3\"]\n",
    ")"
   ]
  },
  {
   "cell_type": "code",
   "execution_count": 2278,
   "metadata": {},
   "outputs": [
    {
     "data": {
      "application/vnd.microsoft.datawrangler.viewer.v0+json": {
       "columns": [
        {
         "name": "index",
         "rawType": "object",
         "type": "string"
        },
        {
         "name": "C1",
         "rawType": "int64",
         "type": "integer"
        },
        {
         "name": "C2",
         "rawType": "int64",
         "type": "integer"
        },
        {
         "name": "C3",
         "rawType": "int64",
         "type": "integer"
        }
       ],
       "ref": "0c638ae7-8b9c-4880-9557-58b50923bd6b",
       "rows": [
        [
         "R1",
         "1",
         "2",
         "3"
        ],
        [
         "R2",
         "4",
         "5",
         "6"
        ],
        [
         "R3",
         "7",
         "8",
         "9"
        ]
       ],
       "shape": {
        "columns": 3,
        "rows": 3
       }
      },
      "text/html": [
       "<div>\n",
       "<style scoped>\n",
       "    .dataframe tbody tr th:only-of-type {\n",
       "        vertical-align: middle;\n",
       "    }\n",
       "\n",
       "    .dataframe tbody tr th {\n",
       "        vertical-align: top;\n",
       "    }\n",
       "\n",
       "    .dataframe thead th {\n",
       "        text-align: right;\n",
       "    }\n",
       "</style>\n",
       "<table border=\"1\" class=\"dataframe\">\n",
       "  <thead>\n",
       "    <tr style=\"text-align: right;\">\n",
       "      <th></th>\n",
       "      <th>C1</th>\n",
       "      <th>C2</th>\n",
       "      <th>C3</th>\n",
       "    </tr>\n",
       "  </thead>\n",
       "  <tbody>\n",
       "    <tr>\n",
       "      <th>R1</th>\n",
       "      <td>1</td>\n",
       "      <td>2</td>\n",
       "      <td>3</td>\n",
       "    </tr>\n",
       "    <tr>\n",
       "      <th>R2</th>\n",
       "      <td>4</td>\n",
       "      <td>5</td>\n",
       "      <td>6</td>\n",
       "    </tr>\n",
       "    <tr>\n",
       "      <th>R3</th>\n",
       "      <td>7</td>\n",
       "      <td>8</td>\n",
       "      <td>9</td>\n",
       "    </tr>\n",
       "  </tbody>\n",
       "</table>\n",
       "</div>"
      ],
      "text/plain": [
       "    C1  C2  C3\n",
       "R1   1   2   3\n",
       "R2   4   5   6\n",
       "R3   7   8   9"
      ]
     },
     "execution_count": 2278,
     "metadata": {},
     "output_type": "execute_result"
    }
   ],
   "source": [
    "# Creating a DataFrame from a list of dictionaries: each dictionary represents a row, keys are column names\n",
    "pd.DataFrame(\n",
    "    data=[\n",
    "        {\"C1\": 1, \"C2\": 2, \"C3\": 3},\n",
    "        {\"C1\": 4, \"C2\": 5, \"C3\": 6},\n",
    "        {\"C1\": 7, \"C2\": 8, \"C3\": 9}\n",
    "    ],\n",
    "    index=[\"R1\", \"R2\", \"R3\"]\n",
    ")"
   ]
  },
  {
   "cell_type": "code",
   "execution_count": 2279,
   "metadata": {},
   "outputs": [
    {
     "name": "stderr",
     "output_type": "stream",
     "text": [
      "/Users/jesusvillotamiranda/anaconda3/envs/datascience_course_cemfi/lib/python3.13/site-packages/IPython/core/displayhook.py:292: UserWarning: Output cache limit (currently 1000 entries) hit.\n",
      "Flushing oldest 200 entries.\n",
      "  warn('Output cache limit (currently {sz} entries) hit.\\n'\n"
     ]
    },
    {
     "data": {
      "application/vnd.microsoft.datawrangler.viewer.v0+json": {
       "columns": [
        {
         "name": "index",
         "rawType": "object",
         "type": "string"
        },
        {
         "name": "C1",
         "rawType": "int64",
         "type": "integer"
        },
        {
         "name": "C2",
         "rawType": "int64",
         "type": "integer"
        },
        {
         "name": "C3",
         "rawType": "int64",
         "type": "integer"
        }
       ],
       "ref": "f5c9231c-58c8-474d-8ba5-68aea3275454",
       "rows": [
        [
         "R1",
         "1",
         "2",
         "3"
        ],
        [
         "R2",
         "4",
         "5",
         "6"
        ],
        [
         "R3",
         "7",
         "8",
         "9"
        ]
       ],
       "shape": {
        "columns": 3,
        "rows": 3
       }
      },
      "text/html": [
       "<div>\n",
       "<style scoped>\n",
       "    .dataframe tbody tr th:only-of-type {\n",
       "        vertical-align: middle;\n",
       "    }\n",
       "\n",
       "    .dataframe tbody tr th {\n",
       "        vertical-align: top;\n",
       "    }\n",
       "\n",
       "    .dataframe thead th {\n",
       "        text-align: right;\n",
       "    }\n",
       "</style>\n",
       "<table border=\"1\" class=\"dataframe\">\n",
       "  <thead>\n",
       "    <tr style=\"text-align: right;\">\n",
       "      <th></th>\n",
       "      <th>C1</th>\n",
       "      <th>C2</th>\n",
       "      <th>C3</th>\n",
       "    </tr>\n",
       "  </thead>\n",
       "  <tbody>\n",
       "    <tr>\n",
       "      <th>R1</th>\n",
       "      <td>1</td>\n",
       "      <td>2</td>\n",
       "      <td>3</td>\n",
       "    </tr>\n",
       "    <tr>\n",
       "      <th>R2</th>\n",
       "      <td>4</td>\n",
       "      <td>5</td>\n",
       "      <td>6</td>\n",
       "    </tr>\n",
       "    <tr>\n",
       "      <th>R3</th>\n",
       "      <td>7</td>\n",
       "      <td>8</td>\n",
       "      <td>9</td>\n",
       "    </tr>\n",
       "  </tbody>\n",
       "</table>\n",
       "</div>"
      ],
      "text/plain": [
       "    C1  C2  C3\n",
       "R1   1   2   3\n",
       "R2   4   5   6\n",
       "R3   7   8   9"
      ]
     },
     "execution_count": 2279,
     "metadata": {},
     "output_type": "execute_result"
    }
   ],
   "source": [
    "# Creating a DataFrame from a list of lists\n",
    "pd.DataFrame(\n",
    "    data=[\n",
    "        [1, 2, 3],\n",
    "        [4, 5, 6],\n",
    "        [7, 8, 9]\n",
    "    ],\n",
    "    index=[\"R1\", \"R2\", \"R3\"],\n",
    "    columns=[\"C1\", \"C2\", \"C3\"]\n",
    ")"
   ]
  },
  {
   "cell_type": "code",
   "execution_count": 2280,
   "metadata": {},
   "outputs": [
    {
     "data": {
      "application/vnd.microsoft.datawrangler.viewer.v0+json": {
       "columns": [
        {
         "name": "index",
         "rawType": "object",
         "type": "string"
        },
        {
         "name": "C1",
         "rawType": "int64",
         "type": "integer"
        },
        {
         "name": "C2",
         "rawType": "int64",
         "type": "integer"
        },
        {
         "name": "C3",
         "rawType": "int64",
         "type": "integer"
        }
       ],
       "ref": "3b19b2fc-e213-46e5-966e-4e80e9e0ae8a",
       "rows": [
        [
         "R1",
         "1",
         "2",
         "3"
        ],
        [
         "R2",
         "4",
         "5",
         "6"
        ],
        [
         "R3",
         "7",
         "8",
         "9"
        ]
       ],
       "shape": {
        "columns": 3,
        "rows": 3
       }
      },
      "text/html": [
       "<div>\n",
       "<style scoped>\n",
       "    .dataframe tbody tr th:only-of-type {\n",
       "        vertical-align: middle;\n",
       "    }\n",
       "\n",
       "    .dataframe tbody tr th {\n",
       "        vertical-align: top;\n",
       "    }\n",
       "\n",
       "    .dataframe thead th {\n",
       "        text-align: right;\n",
       "    }\n",
       "</style>\n",
       "<table border=\"1\" class=\"dataframe\">\n",
       "  <thead>\n",
       "    <tr style=\"text-align: right;\">\n",
       "      <th></th>\n",
       "      <th>C1</th>\n",
       "      <th>C2</th>\n",
       "      <th>C3</th>\n",
       "    </tr>\n",
       "  </thead>\n",
       "  <tbody>\n",
       "    <tr>\n",
       "      <th>R1</th>\n",
       "      <td>1</td>\n",
       "      <td>2</td>\n",
       "      <td>3</td>\n",
       "    </tr>\n",
       "    <tr>\n",
       "      <th>R2</th>\n",
       "      <td>4</td>\n",
       "      <td>5</td>\n",
       "      <td>6</td>\n",
       "    </tr>\n",
       "    <tr>\n",
       "      <th>R3</th>\n",
       "      <td>7</td>\n",
       "      <td>8</td>\n",
       "      <td>9</td>\n",
       "    </tr>\n",
       "  </tbody>\n",
       "</table>\n",
       "</div>"
      ],
      "text/plain": [
       "    C1  C2  C3\n",
       "R1   1   2   3\n",
       "R2   4   5   6\n",
       "R3   7   8   9"
      ]
     },
     "execution_count": 2280,
     "metadata": {},
     "output_type": "execute_result"
    }
   ],
   "source": [
    "# Creating a DataFrame from a NumPy array\n",
    "pd.DataFrame(\n",
    "    data=np.array([\n",
    "        [1, 2, 3],\n",
    "        [4, 5, 6],\n",
    "        [7, 8, 9]\n",
    "    ]),\n",
    "    index=[\"R1\", \"R2\", \"R3\"],\n",
    "    columns=[\"C1\", \"C2\", \"C3\"]\n",
    ")"
   ]
  },
  {
   "cell_type": "markdown",
   "metadata": {},
   "source": [
    "### **5.2.2. Indexing and Slicing DataFrames**"
   ]
  },
  {
   "cell_type": "markdown",
   "metadata": {},
   "source": [
    "Similar to Series, we can slice and index DataFrames in several ways. The table below summarizes the main methods:\n",
    "\n",
    "| Method | Description |\n",
    "|---|---|\n",
    "| `df[<column label>]` or `df.<column label>` of `df.loc[:,<column label>]` | Access a single column by label (returns a Series) |\n",
    "| `df[[<col1>, <col2>]]` | Access multiple columns by label (returns a DataFrame) |\n",
    "| `df.loc[<row labels>, <column labels>]` | Access rows and columns by **label** (names) |\n",
    "| `df.iloc[<row positions>, <column positions>]` | Access rows and columns by **position** (integers) |\n",
    "| `df[<boolean condition>]` | Filter rows based on a boolean condition |"
   ]
  },
  {
   "cell_type": "code",
   "execution_count": 2281,
   "metadata": {},
   "outputs": [
    {
     "data": {
      "application/vnd.microsoft.datawrangler.viewer.v0+json": {
       "columns": [
        {
         "name": "index",
         "rawType": "object",
         "type": "string"
        },
        {
         "name": "area",
         "rawType": "object",
         "type": "string"
        },
        {
         "name": "year",
         "rawType": "int64",
         "type": "integer"
        },
        {
         "name": "gdp_growth",
         "rawType": "float64",
         "type": "float"
        },
        {
         "name": "inflation",
         "rawType": "float64",
         "type": "float"
        },
        {
         "name": "policy_rate",
         "rawType": "float64",
         "type": "float"
        },
        {
         "name": "unemployment",
         "rawType": "float64",
         "type": "float"
        },
        {
         "name": "fx_usd",
         "rawType": "float64",
         "type": "float"
        }
       ],
       "ref": "700a2106-a7ee-410a-afae-1b5a3e8d5f2c",
       "rows": [
        [
         "A",
         "USA",
         "2024",
         "2.1",
         "3.2",
         "5.25",
         "3.8",
         "1.0"
        ],
        [
         "B",
         "Eurozone",
         "2024",
         "1.3",
         "2.5",
         "4.0",
         "6.5",
         "1.09"
        ],
        [
         "C",
         "Japan",
         "2024",
         "0.7",
         "1.0",
         "-0.1",
         "2.6",
         "143.5"
        ],
        [
         "D",
         "UK",
         "2024",
         "1.5",
         "2.8",
         "5.0",
         "4.2",
         "0.79"
        ],
        [
         "E",
         "Canada",
         "2024",
         "1.8",
         "2.2",
         "4.75",
         "5.1",
         "1.36"
        ],
        [
         "F",
         "Australia",
         "2024",
         "2.0",
         "2.6",
         "4.35",
         "4.0",
         "1.51"
        ]
       ],
       "shape": {
        "columns": 7,
        "rows": 6
       }
      },
      "text/html": [
       "<div>\n",
       "<style scoped>\n",
       "    .dataframe tbody tr th:only-of-type {\n",
       "        vertical-align: middle;\n",
       "    }\n",
       "\n",
       "    .dataframe tbody tr th {\n",
       "        vertical-align: top;\n",
       "    }\n",
       "\n",
       "    .dataframe thead th {\n",
       "        text-align: right;\n",
       "    }\n",
       "</style>\n",
       "<table border=\"1\" class=\"dataframe\">\n",
       "  <thead>\n",
       "    <tr style=\"text-align: right;\">\n",
       "      <th></th>\n",
       "      <th>area</th>\n",
       "      <th>year</th>\n",
       "      <th>gdp_growth</th>\n",
       "      <th>inflation</th>\n",
       "      <th>policy_rate</th>\n",
       "      <th>unemployment</th>\n",
       "      <th>fx_usd</th>\n",
       "    </tr>\n",
       "  </thead>\n",
       "  <tbody>\n",
       "    <tr>\n",
       "      <th>A</th>\n",
       "      <td>USA</td>\n",
       "      <td>2024</td>\n",
       "      <td>2.1</td>\n",
       "      <td>3.2</td>\n",
       "      <td>5.25</td>\n",
       "      <td>3.8</td>\n",
       "      <td>1.00</td>\n",
       "    </tr>\n",
       "    <tr>\n",
       "      <th>B</th>\n",
       "      <td>Eurozone</td>\n",
       "      <td>2024</td>\n",
       "      <td>1.3</td>\n",
       "      <td>2.5</td>\n",
       "      <td>4.00</td>\n",
       "      <td>6.5</td>\n",
       "      <td>1.09</td>\n",
       "    </tr>\n",
       "    <tr>\n",
       "      <th>C</th>\n",
       "      <td>Japan</td>\n",
       "      <td>2024</td>\n",
       "      <td>0.7</td>\n",
       "      <td>1.0</td>\n",
       "      <td>-0.10</td>\n",
       "      <td>2.6</td>\n",
       "      <td>143.50</td>\n",
       "    </tr>\n",
       "    <tr>\n",
       "      <th>D</th>\n",
       "      <td>UK</td>\n",
       "      <td>2024</td>\n",
       "      <td>1.5</td>\n",
       "      <td>2.8</td>\n",
       "      <td>5.00</td>\n",
       "      <td>4.2</td>\n",
       "      <td>0.79</td>\n",
       "    </tr>\n",
       "    <tr>\n",
       "      <th>E</th>\n",
       "      <td>Canada</td>\n",
       "      <td>2024</td>\n",
       "      <td>1.8</td>\n",
       "      <td>2.2</td>\n",
       "      <td>4.75</td>\n",
       "      <td>5.1</td>\n",
       "      <td>1.36</td>\n",
       "    </tr>\n",
       "    <tr>\n",
       "      <th>F</th>\n",
       "      <td>Australia</td>\n",
       "      <td>2024</td>\n",
       "      <td>2.0</td>\n",
       "      <td>2.6</td>\n",
       "      <td>4.35</td>\n",
       "      <td>4.0</td>\n",
       "      <td>1.51</td>\n",
       "    </tr>\n",
       "  </tbody>\n",
       "</table>\n",
       "</div>"
      ],
      "text/plain": [
       "        area  year  gdp_growth  inflation  policy_rate  unemployment  fx_usd\n",
       "A        USA  2024         2.1        3.2         5.25           3.8    1.00\n",
       "B   Eurozone  2024         1.3        2.5         4.00           6.5    1.09\n",
       "C      Japan  2024         0.7        1.0        -0.10           2.6  143.50\n",
       "D         UK  2024         1.5        2.8         5.00           4.2    0.79\n",
       "E     Canada  2024         1.8        2.2         4.75           5.1    1.36\n",
       "F  Australia  2024         2.0        2.6         4.35           4.0    1.51"
      ]
     },
     "execution_count": 2281,
     "metadata": {},
     "output_type": "execute_result"
    }
   ],
   "source": [
    "df = pd.DataFrame(\n",
    "    data={\n",
    "        \"area\":           [\"USA\", \"Eurozone\", \"Japan\", \"UK\", \"Canada\", \"Australia\"],\n",
    "        \"year\":           [2024, 2024, 2024, 2024, 2024, 2024],\n",
    "        \"gdp_growth\":     [2.1, 1.3, 0.7, 1.5, 1.8, 2.0],      # in percent\n",
    "        \"inflation\":      [3.2, 2.5, 1.0, 2.8, 2.2, 2.6],      # in percent\n",
    "        \"policy_rate\":    [5.25, 4.00, -0.10, 5.00, 4.75, 4.35], # in percent\n",
    "        \"unemployment\":   [3.8, 6.5, 2.6, 4.2, 5.1, 4.0],      # in percent\n",
    "        \"fx_usd\":         [1.00, 1.09, 143.5, 0.79, 1.36, 1.51] # USD per unit of local currency\n",
    "    },\n",
    "    index=[\"A\", \"B\", \"C\", \"D\", \"E\", \"F\"]\n",
    ")\n",
    "df"
   ]
  },
  {
   "cell_type": "markdown",
   "metadata": {},
   "source": [
    "First, we will set the \"areas\" column as the index of the DataFrame. This will allow us to access rows by area name. We can do this using the `set_index()` method. \n",
    "\n",
    "```python\n",
    "df = df.set_index(\"area\")\n",
    "```\n",
    "\n",
    "We could also do it in-place (modifying the original DataFrame directly)\n",
    "\n",
    "```python\n",
    "df.set_index(\"area\", inplace=True)\n",
    "```"
   ]
  },
  {
   "cell_type": "code",
   "execution_count": 2282,
   "metadata": {},
   "outputs": [
    {
     "data": {
      "application/vnd.microsoft.datawrangler.viewer.v0+json": {
       "columns": [
        {
         "name": "area",
         "rawType": "object",
         "type": "string"
        },
        {
         "name": "year",
         "rawType": "int64",
         "type": "integer"
        },
        {
         "name": "gdp_growth",
         "rawType": "float64",
         "type": "float"
        },
        {
         "name": "inflation",
         "rawType": "float64",
         "type": "float"
        },
        {
         "name": "policy_rate",
         "rawType": "float64",
         "type": "float"
        },
        {
         "name": "unemployment",
         "rawType": "float64",
         "type": "float"
        },
        {
         "name": "fx_usd",
         "rawType": "float64",
         "type": "float"
        }
       ],
       "ref": "231c32b9-5595-4a58-bcbf-1293cc72a1f7",
       "rows": [
        [
         "USA",
         "2024",
         "2.1",
         "3.2",
         "5.25",
         "3.8",
         "1.0"
        ],
        [
         "Eurozone",
         "2024",
         "1.3",
         "2.5",
         "4.0",
         "6.5",
         "1.09"
        ],
        [
         "Japan",
         "2024",
         "0.7",
         "1.0",
         "-0.1",
         "2.6",
         "143.5"
        ],
        [
         "UK",
         "2024",
         "1.5",
         "2.8",
         "5.0",
         "4.2",
         "0.79"
        ],
        [
         "Canada",
         "2024",
         "1.8",
         "2.2",
         "4.75",
         "5.1",
         "1.36"
        ],
        [
         "Australia",
         "2024",
         "2.0",
         "2.6",
         "4.35",
         "4.0",
         "1.51"
        ]
       ],
       "shape": {
        "columns": 6,
        "rows": 6
       }
      },
      "text/html": [
       "<div>\n",
       "<style scoped>\n",
       "    .dataframe tbody tr th:only-of-type {\n",
       "        vertical-align: middle;\n",
       "    }\n",
       "\n",
       "    .dataframe tbody tr th {\n",
       "        vertical-align: top;\n",
       "    }\n",
       "\n",
       "    .dataframe thead th {\n",
       "        text-align: right;\n",
       "    }\n",
       "</style>\n",
       "<table border=\"1\" class=\"dataframe\">\n",
       "  <thead>\n",
       "    <tr style=\"text-align: right;\">\n",
       "      <th></th>\n",
       "      <th>year</th>\n",
       "      <th>gdp_growth</th>\n",
       "      <th>inflation</th>\n",
       "      <th>policy_rate</th>\n",
       "      <th>unemployment</th>\n",
       "      <th>fx_usd</th>\n",
       "    </tr>\n",
       "    <tr>\n",
       "      <th>area</th>\n",
       "      <th></th>\n",
       "      <th></th>\n",
       "      <th></th>\n",
       "      <th></th>\n",
       "      <th></th>\n",
       "      <th></th>\n",
       "    </tr>\n",
       "  </thead>\n",
       "  <tbody>\n",
       "    <tr>\n",
       "      <th>USA</th>\n",
       "      <td>2024</td>\n",
       "      <td>2.1</td>\n",
       "      <td>3.2</td>\n",
       "      <td>5.25</td>\n",
       "      <td>3.8</td>\n",
       "      <td>1.00</td>\n",
       "    </tr>\n",
       "    <tr>\n",
       "      <th>Eurozone</th>\n",
       "      <td>2024</td>\n",
       "      <td>1.3</td>\n",
       "      <td>2.5</td>\n",
       "      <td>4.00</td>\n",
       "      <td>6.5</td>\n",
       "      <td>1.09</td>\n",
       "    </tr>\n",
       "    <tr>\n",
       "      <th>Japan</th>\n",
       "      <td>2024</td>\n",
       "      <td>0.7</td>\n",
       "      <td>1.0</td>\n",
       "      <td>-0.10</td>\n",
       "      <td>2.6</td>\n",
       "      <td>143.50</td>\n",
       "    </tr>\n",
       "    <tr>\n",
       "      <th>UK</th>\n",
       "      <td>2024</td>\n",
       "      <td>1.5</td>\n",
       "      <td>2.8</td>\n",
       "      <td>5.00</td>\n",
       "      <td>4.2</td>\n",
       "      <td>0.79</td>\n",
       "    </tr>\n",
       "    <tr>\n",
       "      <th>Canada</th>\n",
       "      <td>2024</td>\n",
       "      <td>1.8</td>\n",
       "      <td>2.2</td>\n",
       "      <td>4.75</td>\n",
       "      <td>5.1</td>\n",
       "      <td>1.36</td>\n",
       "    </tr>\n",
       "    <tr>\n",
       "      <th>Australia</th>\n",
       "      <td>2024</td>\n",
       "      <td>2.0</td>\n",
       "      <td>2.6</td>\n",
       "      <td>4.35</td>\n",
       "      <td>4.0</td>\n",
       "      <td>1.51</td>\n",
       "    </tr>\n",
       "  </tbody>\n",
       "</table>\n",
       "</div>"
      ],
      "text/plain": [
       "           year  gdp_growth  inflation  policy_rate  unemployment  fx_usd\n",
       "area                                                                     \n",
       "USA        2024         2.1        3.2         5.25           3.8    1.00\n",
       "Eurozone   2024         1.3        2.5         4.00           6.5    1.09\n",
       "Japan      2024         0.7        1.0        -0.10           2.6  143.50\n",
       "UK         2024         1.5        2.8         5.00           4.2    0.79\n",
       "Canada     2024         1.8        2.2         4.75           5.1    1.36\n",
       "Australia  2024         2.0        2.6         4.35           4.0    1.51"
      ]
     },
     "execution_count": 2282,
     "metadata": {},
     "output_type": "execute_result"
    }
   ],
   "source": [
    "df = df.set_index(\"area\")\n",
    "df"
   ]
  },
  {
   "cell_type": "markdown",
   "metadata": {},
   "source": [
    "We can get a single column as a Series using python's getitem syntax on the DataFrame object."
   ]
  },
  {
   "cell_type": "code",
   "execution_count": 2283,
   "metadata": {},
   "outputs": [
    {
     "name": "stdout",
     "output_type": "stream",
     "text": [
      "<class 'pandas.core.series.Series'>\n"
     ]
    },
    {
     "data": {
      "application/vnd.microsoft.datawrangler.viewer.v0+json": {
       "columns": [
        {
         "name": "area",
         "rawType": "object",
         "type": "string"
        },
        {
         "name": "inflation",
         "rawType": "float64",
         "type": "float"
        }
       ],
       "ref": "70b0b3bc-17ad-4a94-8c7e-ced6d9262861",
       "rows": [
        [
         "USA",
         "3.2"
        ],
        [
         "Eurozone",
         "2.5"
        ],
        [
         "Japan",
         "1.0"
        ],
        [
         "UK",
         "2.8"
        ],
        [
         "Canada",
         "2.2"
        ],
        [
         "Australia",
         "2.6"
        ]
       ],
       "shape": {
        "columns": 1,
        "rows": 6
       }
      },
      "text/plain": [
       "area\n",
       "USA          3.2\n",
       "Eurozone     2.5\n",
       "Japan        1.0\n",
       "UK           2.8\n",
       "Canada       2.2\n",
       "Australia    2.6\n",
       "Name: inflation, dtype: float64"
      ]
     },
     "execution_count": 2283,
     "metadata": {},
     "output_type": "execute_result"
    }
   ],
   "source": [
    "print(type(df['inflation']))\n",
    "\n",
    "df['inflation'] # returns a series"
   ]
  },
  {
   "cell_type": "markdown",
   "metadata": {},
   "source": [
    "...or using attribute syntax."
   ]
  },
  {
   "cell_type": "code",
   "execution_count": 2284,
   "metadata": {},
   "outputs": [
    {
     "name": "stdout",
     "output_type": "stream",
     "text": [
      "<class 'pandas.core.series.Series'>\n"
     ]
    },
    {
     "data": {
      "application/vnd.microsoft.datawrangler.viewer.v0+json": {
       "columns": [
        {
         "name": "area",
         "rawType": "object",
         "type": "string"
        },
        {
         "name": "inflation",
         "rawType": "float64",
         "type": "float"
        }
       ],
       "ref": "adf05da4-2570-406a-8279-086944a85f8a",
       "rows": [
        [
         "USA",
         "3.2"
        ],
        [
         "Eurozone",
         "2.5"
        ],
        [
         "Japan",
         "1.0"
        ],
        [
         "UK",
         "2.8"
        ],
        [
         "Canada",
         "2.2"
        ],
        [
         "Australia",
         "2.6"
        ]
       ],
       "shape": {
        "columns": 1,
        "rows": 6
       }
      },
      "text/plain": [
       "area\n",
       "USA          3.2\n",
       "Eurozone     2.5\n",
       "Japan        1.0\n",
       "UK           2.8\n",
       "Canada       2.2\n",
       "Australia    2.6\n",
       "Name: inflation, dtype: float64"
      ]
     },
     "execution_count": 2284,
     "metadata": {},
     "output_type": "execute_result"
    }
   ],
   "source": [
    "print(type(df.inflation))\n",
    "\n",
    "df.inflation # same thing as above, also returns a series"
   ]
  },
  {
   "cell_type": "code",
   "execution_count": 2285,
   "metadata": {},
   "outputs": [
    {
     "name": "stdout",
     "output_type": "stream",
     "text": [
      "<class 'pandas.core.series.Series'>\n"
     ]
    },
    {
     "data": {
      "application/vnd.microsoft.datawrangler.viewer.v0+json": {
       "columns": [
        {
         "name": "area",
         "rawType": "object",
         "type": "string"
        },
        {
         "name": "inflation",
         "rawType": "float64",
         "type": "float"
        }
       ],
       "ref": "e9435926-f1a4-4a80-8402-4ad036c65fce",
       "rows": [
        [
         "USA",
         "3.2"
        ],
        [
         "Eurozone",
         "2.5"
        ],
        [
         "Japan",
         "1.0"
        ],
        [
         "UK",
         "2.8"
        ],
        [
         "Canada",
         "2.2"
        ],
        [
         "Australia",
         "2.6"
        ]
       ],
       "shape": {
        "columns": 1,
        "rows": 6
       }
      },
      "text/plain": [
       "area\n",
       "USA          3.2\n",
       "Eurozone     2.5\n",
       "Japan        1.0\n",
       "UK           2.8\n",
       "Canada       2.2\n",
       "Australia    2.6\n",
       "Name: inflation, dtype: float64"
      ]
     },
     "execution_count": 2285,
     "metadata": {},
     "output_type": "execute_result"
    }
   ],
   "source": [
    "print(type(df.loc[:,\"inflation\"]))\n",
    "\n",
    "df.loc[:,\"inflation\"] # same thing as above, also returns a series"
   ]
  },
  {
   "cell_type": "markdown",
   "metadata": {},
   "source": [
    "If we use a list of column names, we get a DataFrame back:"
   ]
  },
  {
   "cell_type": "code",
   "execution_count": 2286,
   "metadata": {},
   "outputs": [
    {
     "name": "stdout",
     "output_type": "stream",
     "text": [
      "<class 'pandas.core.frame.DataFrame'>\n"
     ]
    },
    {
     "data": {
      "application/vnd.microsoft.datawrangler.viewer.v0+json": {
       "columns": [
        {
         "name": "area",
         "rawType": "object",
         "type": "string"
        },
        {
         "name": "inflation",
         "rawType": "float64",
         "type": "float"
        }
       ],
       "ref": "648332b6-33b5-486a-940a-13cde28b3501",
       "rows": [
        [
         "USA",
         "3.2"
        ],
        [
         "Eurozone",
         "2.5"
        ],
        [
         "Japan",
         "1.0"
        ],
        [
         "UK",
         "2.8"
        ],
        [
         "Canada",
         "2.2"
        ],
        [
         "Australia",
         "2.6"
        ]
       ],
       "shape": {
        "columns": 1,
        "rows": 6
       }
      },
      "text/html": [
       "<div>\n",
       "<style scoped>\n",
       "    .dataframe tbody tr th:only-of-type {\n",
       "        vertical-align: middle;\n",
       "    }\n",
       "\n",
       "    .dataframe tbody tr th {\n",
       "        vertical-align: top;\n",
       "    }\n",
       "\n",
       "    .dataframe thead th {\n",
       "        text-align: right;\n",
       "    }\n",
       "</style>\n",
       "<table border=\"1\" class=\"dataframe\">\n",
       "  <thead>\n",
       "    <tr style=\"text-align: right;\">\n",
       "      <th></th>\n",
       "      <th>inflation</th>\n",
       "    </tr>\n",
       "    <tr>\n",
       "      <th>area</th>\n",
       "      <th></th>\n",
       "    </tr>\n",
       "  </thead>\n",
       "  <tbody>\n",
       "    <tr>\n",
       "      <th>USA</th>\n",
       "      <td>3.2</td>\n",
       "    </tr>\n",
       "    <tr>\n",
       "      <th>Eurozone</th>\n",
       "      <td>2.5</td>\n",
       "    </tr>\n",
       "    <tr>\n",
       "      <th>Japan</th>\n",
       "      <td>1.0</td>\n",
       "    </tr>\n",
       "    <tr>\n",
       "      <th>UK</th>\n",
       "      <td>2.8</td>\n",
       "    </tr>\n",
       "    <tr>\n",
       "      <th>Canada</th>\n",
       "      <td>2.2</td>\n",
       "    </tr>\n",
       "    <tr>\n",
       "      <th>Australia</th>\n",
       "      <td>2.6</td>\n",
       "    </tr>\n",
       "  </tbody>\n",
       "</table>\n",
       "</div>"
      ],
      "text/plain": [
       "           inflation\n",
       "area                \n",
       "USA              3.2\n",
       "Eurozone         2.5\n",
       "Japan            1.0\n",
       "UK               2.8\n",
       "Canada           2.2\n",
       "Australia        2.6"
      ]
     },
     "execution_count": 2286,
     "metadata": {},
     "output_type": "execute_result"
    }
   ],
   "source": [
    "print(type(df[['inflation']]))\n",
    "\n",
    "df[['inflation']]  # returns a dataframe!"
   ]
  },
  {
   "cell_type": "markdown",
   "metadata": {},
   "source": [
    "This is useful for selecting multiple columns at once."
   ]
  },
  {
   "cell_type": "code",
   "execution_count": 2287,
   "metadata": {},
   "outputs": [
    {
     "data": {
      "application/vnd.microsoft.datawrangler.viewer.v0+json": {
       "columns": [
        {
         "name": "area",
         "rawType": "object",
         "type": "string"
        },
        {
         "name": "inflation",
         "rawType": "float64",
         "type": "float"
        },
        {
         "name": "unemployment",
         "rawType": "float64",
         "type": "float"
        }
       ],
       "ref": "4ced82a0-a523-4b7b-a306-86addb83003f",
       "rows": [
        [
         "USA",
         "3.2",
         "3.8"
        ],
        [
         "Eurozone",
         "2.5",
         "6.5"
        ],
        [
         "Japan",
         "1.0",
         "2.6"
        ],
        [
         "UK",
         "2.8",
         "4.2"
        ],
        [
         "Canada",
         "2.2",
         "5.1"
        ],
        [
         "Australia",
         "2.6",
         "4.0"
        ]
       ],
       "shape": {
        "columns": 2,
        "rows": 6
       }
      },
      "text/html": [
       "<div>\n",
       "<style scoped>\n",
       "    .dataframe tbody tr th:only-of-type {\n",
       "        vertical-align: middle;\n",
       "    }\n",
       "\n",
       "    .dataframe tbody tr th {\n",
       "        vertical-align: top;\n",
       "    }\n",
       "\n",
       "    .dataframe thead th {\n",
       "        text-align: right;\n",
       "    }\n",
       "</style>\n",
       "<table border=\"1\" class=\"dataframe\">\n",
       "  <thead>\n",
       "    <tr style=\"text-align: right;\">\n",
       "      <th></th>\n",
       "      <th>inflation</th>\n",
       "      <th>unemployment</th>\n",
       "    </tr>\n",
       "    <tr>\n",
       "      <th>area</th>\n",
       "      <th></th>\n",
       "      <th></th>\n",
       "    </tr>\n",
       "  </thead>\n",
       "  <tbody>\n",
       "    <tr>\n",
       "      <th>USA</th>\n",
       "      <td>3.2</td>\n",
       "      <td>3.8</td>\n",
       "    </tr>\n",
       "    <tr>\n",
       "      <th>Eurozone</th>\n",
       "      <td>2.5</td>\n",
       "      <td>6.5</td>\n",
       "    </tr>\n",
       "    <tr>\n",
       "      <th>Japan</th>\n",
       "      <td>1.0</td>\n",
       "      <td>2.6</td>\n",
       "    </tr>\n",
       "    <tr>\n",
       "      <th>UK</th>\n",
       "      <td>2.8</td>\n",
       "      <td>4.2</td>\n",
       "    </tr>\n",
       "    <tr>\n",
       "      <th>Canada</th>\n",
       "      <td>2.2</td>\n",
       "      <td>5.1</td>\n",
       "    </tr>\n",
       "    <tr>\n",
       "      <th>Australia</th>\n",
       "      <td>2.6</td>\n",
       "      <td>4.0</td>\n",
       "    </tr>\n",
       "  </tbody>\n",
       "</table>\n",
       "</div>"
      ],
      "text/plain": [
       "           inflation  unemployment\n",
       "area                              \n",
       "USA              3.2           3.8\n",
       "Eurozone         2.5           6.5\n",
       "Japan            1.0           2.6\n",
       "UK               2.8           4.2\n",
       "Canada           2.2           5.1\n",
       "Australia        2.6           4.0"
      ]
     },
     "execution_count": 2287,
     "metadata": {},
     "output_type": "execute_result"
    }
   ],
   "source": [
    "df[['inflation', 'unemployment']]  # returns a dataframe with selected columns"
   ]
  },
  {
   "cell_type": "markdown",
   "metadata": {},
   "source": [
    "We can use `.loc` to select rows and columns by label, and `.iloc` to select rows and columns by position.\n",
    "\n",
    "- **`.loc`** uses labels (names) for both rows and columns. The syntax is `df.loc[rows, columns]`. Both can be single labels, lists, or slices. Slices with `.loc` are **inclusive** of the end.\n",
    "- **`.iloc`** uses integer positions (like Python lists). The syntax is `df.iloc[rows, columns]`. Slices with `.iloc` are **exclusive** of the end (like standard Python slicing).\n",
    "\n",
    "**Examples:**\n",
    "\n",
    "Suppose `df` looks like this:\n",
    "\n",
    "| - | name  | age | city   |\n",
    "|---|-------|-----|--------|\n",
    "| 0 | Alice | 23  | Madrid |\n",
    "| 1 | Bob   | 34  | London |\n",
    "| 2 | Carol | 29  | Berlin |\n",
    "\n",
    "- `df['age']` or `df.age` -> Series with ages.\n",
    "- `df[['name', 'city']]` -> DataFrame with just name and city columns.\n",
    "- `df.loc[1, 'city']` -> `'London'` (row label 1, column 'city').\n",
    "- `df.loc[0:1, ['name', 'age']]` -> Rows 0 to 1, columns 'name' and 'age' (inclusive).\n",
    "- `df.iloc[0:2, 1:3]` -> Rows 0 to 1, columns 1 and 2 (note that row 2 and column 3 are not included).\n",
    "- `df[df['age'] > 25]` -> Rows where age is greater than 25.\n",
    "\n",
    "**Tips:**\n",
    "\n",
    "- Use `:` to select all rows or columns: \n",
    "    - `df.loc[:, 'age']` (all rows, 'age' column).\n",
    "    - `df.iloc[1, :]` (row 1, all columns).\n",
    "- Remember: `.loc` is label-based and **inclusive**; `.iloc` is position-based and **exclusive**."
   ]
  },
  {
   "cell_type": "code",
   "execution_count": 2288,
   "metadata": {},
   "outputs": [
    {
     "data": {
      "text/plain": [
       "np.float64(1.5)"
      ]
     },
     "execution_count": 2288,
     "metadata": {},
     "output_type": "execute_result"
    }
   ],
   "source": [
    "df.loc[\"UK\",\"gdp_growth\"] # get the value in row \"UK\" and column \"gdp_growth\""
   ]
  },
  {
   "cell_type": "code",
   "execution_count": 2289,
   "metadata": {},
   "outputs": [
    {
     "data": {
      "text/plain": [
       "np.float64(1.5)"
      ]
     },
     "execution_count": 2289,
     "metadata": {},
     "output_type": "execute_result"
    }
   ],
   "source": [
    "df.iloc[3,1] # get the value in row 3 and column 1 (recall: python uses zero-based index)"
   ]
  },
  {
   "cell_type": "code",
   "execution_count": 2290,
   "metadata": {},
   "outputs": [
    {
     "data": {
      "application/vnd.microsoft.datawrangler.viewer.v0+json": {
       "columns": [
        {
         "name": "area",
         "rawType": "object",
         "type": "string"
        },
        {
         "name": "policy_rate",
         "rawType": "float64",
         "type": "float"
        },
        {
         "name": "fx_usd",
         "rawType": "float64",
         "type": "float"
        }
       ],
       "ref": "16bab9e0-9f1f-4727-9c46-70f77abff713",
       "rows": [
        [
         "USA",
         "5.25",
         "1.0"
        ],
        [
         "Eurozone",
         "4.0",
         "1.09"
        ],
        [
         "Japan",
         "-0.1",
         "143.5"
        ],
        [
         "UK",
         "5.0",
         "0.79"
        ]
       ],
       "shape": {
        "columns": 2,
        "rows": 4
       }
      },
      "text/html": [
       "<div>\n",
       "<style scoped>\n",
       "    .dataframe tbody tr th:only-of-type {\n",
       "        vertical-align: middle;\n",
       "    }\n",
       "\n",
       "    .dataframe tbody tr th {\n",
       "        vertical-align: top;\n",
       "    }\n",
       "\n",
       "    .dataframe thead th {\n",
       "        text-align: right;\n",
       "    }\n",
       "</style>\n",
       "<table border=\"1\" class=\"dataframe\">\n",
       "  <thead>\n",
       "    <tr style=\"text-align: right;\">\n",
       "      <th></th>\n",
       "      <th>policy_rate</th>\n",
       "      <th>fx_usd</th>\n",
       "    </tr>\n",
       "    <tr>\n",
       "      <th>area</th>\n",
       "      <th></th>\n",
       "      <th></th>\n",
       "    </tr>\n",
       "  </thead>\n",
       "  <tbody>\n",
       "    <tr>\n",
       "      <th>USA</th>\n",
       "      <td>5.25</td>\n",
       "      <td>1.00</td>\n",
       "    </tr>\n",
       "    <tr>\n",
       "      <th>Eurozone</th>\n",
       "      <td>4.00</td>\n",
       "      <td>1.09</td>\n",
       "    </tr>\n",
       "    <tr>\n",
       "      <th>Japan</th>\n",
       "      <td>-0.10</td>\n",
       "      <td>143.50</td>\n",
       "    </tr>\n",
       "    <tr>\n",
       "      <th>UK</th>\n",
       "      <td>5.00</td>\n",
       "      <td>0.79</td>\n",
       "    </tr>\n",
       "  </tbody>\n",
       "</table>\n",
       "</div>"
      ],
      "text/plain": [
       "          policy_rate  fx_usd\n",
       "area                         \n",
       "USA              5.25    1.00\n",
       "Eurozone         4.00    1.09\n",
       "Japan           -0.10  143.50\n",
       "UK               5.00    0.79"
      ]
     },
     "execution_count": 2290,
     "metadata": {},
     "output_type": "execute_result"
    }
   ],
   "source": [
    "df.loc[\"USA\":\"UK\",[\"policy_rate\", \"fx_usd\"]] # Subset rows from \"USA\" to \"UK\" and columns \"policy_rate\" and \"fx_usd\""
   ]
  },
  {
   "cell_type": "code",
   "execution_count": 2291,
   "metadata": {},
   "outputs": [
    {
     "data": {
      "application/vnd.microsoft.datawrangler.viewer.v0+json": {
       "columns": [
        {
         "name": "area",
         "rawType": "object",
         "type": "string"
        },
        {
         "name": "policy_rate",
         "rawType": "float64",
         "type": "float"
        },
        {
         "name": "fx_usd",
         "rawType": "float64",
         "type": "float"
        }
       ],
       "ref": "d0b77cd1-c1b1-4cee-bca1-7e24805fb6a0",
       "rows": [
        [
         "USA",
         "5.25",
         "1.0"
        ],
        [
         "Eurozone",
         "4.0",
         "1.09"
        ],
        [
         "Japan",
         "-0.1",
         "143.5"
        ],
        [
         "UK",
         "5.0",
         "0.79"
        ]
       ],
       "shape": {
        "columns": 2,
        "rows": 4
       }
      },
      "text/html": [
       "<div>\n",
       "<style scoped>\n",
       "    .dataframe tbody tr th:only-of-type {\n",
       "        vertical-align: middle;\n",
       "    }\n",
       "\n",
       "    .dataframe tbody tr th {\n",
       "        vertical-align: top;\n",
       "    }\n",
       "\n",
       "    .dataframe thead th {\n",
       "        text-align: right;\n",
       "    }\n",
       "</style>\n",
       "<table border=\"1\" class=\"dataframe\">\n",
       "  <thead>\n",
       "    <tr style=\"text-align: right;\">\n",
       "      <th></th>\n",
       "      <th>policy_rate</th>\n",
       "      <th>fx_usd</th>\n",
       "    </tr>\n",
       "    <tr>\n",
       "      <th>area</th>\n",
       "      <th></th>\n",
       "      <th></th>\n",
       "    </tr>\n",
       "  </thead>\n",
       "  <tbody>\n",
       "    <tr>\n",
       "      <th>USA</th>\n",
       "      <td>5.25</td>\n",
       "      <td>1.00</td>\n",
       "    </tr>\n",
       "    <tr>\n",
       "      <th>Eurozone</th>\n",
       "      <td>4.00</td>\n",
       "      <td>1.09</td>\n",
       "    </tr>\n",
       "    <tr>\n",
       "      <th>Japan</th>\n",
       "      <td>-0.10</td>\n",
       "      <td>143.50</td>\n",
       "    </tr>\n",
       "    <tr>\n",
       "      <th>UK</th>\n",
       "      <td>5.00</td>\n",
       "      <td>0.79</td>\n",
       "    </tr>\n",
       "  </tbody>\n",
       "</table>\n",
       "</div>"
      ],
      "text/plain": [
       "          policy_rate  fx_usd\n",
       "area                         \n",
       "USA              5.25    1.00\n",
       "Eurozone         4.00    1.09\n",
       "Japan           -0.10  143.50\n",
       "UK               5.00    0.79"
      ]
     },
     "execution_count": 2291,
     "metadata": {},
     "output_type": "execute_result"
    }
   ],
   "source": [
    "df.iloc[0:4,[3,5]] # Subset rows from 0 to 3 and columns 3 and 5 (recall: python uses zero-based index)"
   ]
  },
  {
   "cell_type": "markdown",
   "metadata": {},
   "source": [
    "We can filter rows based on a boolean condition."
   ]
  },
  {
   "cell_type": "code",
   "execution_count": 2292,
   "metadata": {},
   "outputs": [
    {
     "data": {
      "application/vnd.microsoft.datawrangler.viewer.v0+json": {
       "columns": [
        {
         "name": "area",
         "rawType": "object",
         "type": "string"
        },
        {
         "name": "year",
         "rawType": "int64",
         "type": "integer"
        },
        {
         "name": "gdp_growth",
         "rawType": "float64",
         "type": "float"
        },
        {
         "name": "inflation",
         "rawType": "float64",
         "type": "float"
        },
        {
         "name": "policy_rate",
         "rawType": "float64",
         "type": "float"
        },
        {
         "name": "unemployment",
         "rawType": "float64",
         "type": "float"
        },
        {
         "name": "fx_usd",
         "rawType": "float64",
         "type": "float"
        }
       ],
       "ref": "c908a559-de7c-447c-8e2f-c2d781ff4162",
       "rows": [
        [
         "Eurozone",
         "2024",
         "1.3",
         "2.5",
         "4.0",
         "6.5",
         "1.09"
        ],
        [
         "Canada",
         "2024",
         "1.8",
         "2.2",
         "4.75",
         "5.1",
         "1.36"
        ]
       ],
       "shape": {
        "columns": 6,
        "rows": 2
       }
      },
      "text/html": [
       "<div>\n",
       "<style scoped>\n",
       "    .dataframe tbody tr th:only-of-type {\n",
       "        vertical-align: middle;\n",
       "    }\n",
       "\n",
       "    .dataframe tbody tr th {\n",
       "        vertical-align: top;\n",
       "    }\n",
       "\n",
       "    .dataframe thead th {\n",
       "        text-align: right;\n",
       "    }\n",
       "</style>\n",
       "<table border=\"1\" class=\"dataframe\">\n",
       "  <thead>\n",
       "    <tr style=\"text-align: right;\">\n",
       "      <th></th>\n",
       "      <th>year</th>\n",
       "      <th>gdp_growth</th>\n",
       "      <th>inflation</th>\n",
       "      <th>policy_rate</th>\n",
       "      <th>unemployment</th>\n",
       "      <th>fx_usd</th>\n",
       "    </tr>\n",
       "    <tr>\n",
       "      <th>area</th>\n",
       "      <th></th>\n",
       "      <th></th>\n",
       "      <th></th>\n",
       "      <th></th>\n",
       "      <th></th>\n",
       "      <th></th>\n",
       "    </tr>\n",
       "  </thead>\n",
       "  <tbody>\n",
       "    <tr>\n",
       "      <th>Eurozone</th>\n",
       "      <td>2024</td>\n",
       "      <td>1.3</td>\n",
       "      <td>2.5</td>\n",
       "      <td>4.00</td>\n",
       "      <td>6.5</td>\n",
       "      <td>1.09</td>\n",
       "    </tr>\n",
       "    <tr>\n",
       "      <th>Canada</th>\n",
       "      <td>2024</td>\n",
       "      <td>1.8</td>\n",
       "      <td>2.2</td>\n",
       "      <td>4.75</td>\n",
       "      <td>5.1</td>\n",
       "      <td>1.36</td>\n",
       "    </tr>\n",
       "  </tbody>\n",
       "</table>\n",
       "</div>"
      ],
      "text/plain": [
       "          year  gdp_growth  inflation  policy_rate  unemployment  fx_usd\n",
       "area                                                                    \n",
       "Eurozone  2024         1.3        2.5         4.00           6.5    1.09\n",
       "Canada    2024         1.8        2.2         4.75           5.1    1.36"
      ]
     },
     "execution_count": 2292,
     "metadata": {},
     "output_type": "execute_result"
    }
   ],
   "source": [
    "df[df['unemployment'] > 5.0]  # returns a dataframe with rows where unemployment is greater than 5.0"
   ]
  },
  {
   "cell_type": "markdown",
   "metadata": {},
   "source": [
    "**Boolean Indexing**\n",
    "\n",
    "To filter rows in a DataFrame based on multiple conditions, you can use logical operators:\n",
    "\n",
    "| Operator | Symbol | Meaning                                 | General Pattern                        |\n",
    "|----------|--------|-----------------------------------------|----------------------------------------|\n",
    "| AND      | `&`    | All conditions must be true             | `df[(condition1) & (condition2)]`      |\n",
    "| OR       | `\\|`   | At least one condition must be true     | `df[(condition1) \\| (condition2)]`     |\n",
    "| NOT      | `~`    | Negates a condition (condition is false)| `df[~(condition)]`                     |\n",
    "\n",
    "\n",
    "You can combine these operators to build more complex filters as needed. For example\n",
    "\n",
    ":::{python}\n",
    "`df[(condition1 & condition2) | (~condition3 & condition4)]`\n",
    ":::\n",
    "\n",
    "> **Important:** Always enclose each condition in parentheses to ensure correct evaluation.\n",
    "\n"
   ]
  },
  {
   "cell_type": "code",
   "execution_count": 2293,
   "metadata": {},
   "outputs": [
    {
     "data": {
      "application/vnd.microsoft.datawrangler.viewer.v0+json": {
       "columns": [
        {
         "name": "area",
         "rawType": "object",
         "type": "string"
        },
        {
         "name": "year",
         "rawType": "int64",
         "type": "integer"
        },
        {
         "name": "gdp_growth",
         "rawType": "float64",
         "type": "float"
        },
        {
         "name": "inflation",
         "rawType": "float64",
         "type": "float"
        },
        {
         "name": "policy_rate",
         "rawType": "float64",
         "type": "float"
        },
        {
         "name": "unemployment",
         "rawType": "float64",
         "type": "float"
        },
        {
         "name": "fx_usd",
         "rawType": "float64",
         "type": "float"
        }
       ],
       "ref": "eb73d964-1371-4dbc-a8f1-fa55aef700f5",
       "rows": [
        [
         "UK",
         "2024",
         "1.5",
         "2.8",
         "5.0",
         "4.2",
         "0.79"
        ]
       ],
       "shape": {
        "columns": 6,
        "rows": 1
       }
      },
      "text/html": [
       "<div>\n",
       "<style scoped>\n",
       "    .dataframe tbody tr th:only-of-type {\n",
       "        vertical-align: middle;\n",
       "    }\n",
       "\n",
       "    .dataframe tbody tr th {\n",
       "        vertical-align: top;\n",
       "    }\n",
       "\n",
       "    .dataframe thead th {\n",
       "        text-align: right;\n",
       "    }\n",
       "</style>\n",
       "<table border=\"1\" class=\"dataframe\">\n",
       "  <thead>\n",
       "    <tr style=\"text-align: right;\">\n",
       "      <th></th>\n",
       "      <th>year</th>\n",
       "      <th>gdp_growth</th>\n",
       "      <th>inflation</th>\n",
       "      <th>policy_rate</th>\n",
       "      <th>unemployment</th>\n",
       "      <th>fx_usd</th>\n",
       "    </tr>\n",
       "    <tr>\n",
       "      <th>area</th>\n",
       "      <th></th>\n",
       "      <th></th>\n",
       "      <th></th>\n",
       "      <th></th>\n",
       "      <th></th>\n",
       "      <th></th>\n",
       "    </tr>\n",
       "  </thead>\n",
       "  <tbody>\n",
       "    <tr>\n",
       "      <th>UK</th>\n",
       "      <td>2024</td>\n",
       "      <td>1.5</td>\n",
       "      <td>2.8</td>\n",
       "      <td>5.0</td>\n",
       "      <td>4.2</td>\n",
       "      <td>0.79</td>\n",
       "    </tr>\n",
       "  </tbody>\n",
       "</table>\n",
       "</div>"
      ],
      "text/plain": [
       "      year  gdp_growth  inflation  policy_rate  unemployment  fx_usd\n",
       "area                                                                \n",
       "UK    2024         1.5        2.8          5.0           4.2    0.79"
      ]
     },
     "execution_count": 2293,
     "metadata": {},
     "output_type": "execute_result"
    }
   ],
   "source": [
    "# Filter rows where fx_usd is less than 1.0 AND inflation is greater than 2.0\n",
    "df[(df['fx_usd'] < 1.0) & (df[\"inflation\"] > 2.0)]"
   ]
  },
  {
   "cell_type": "code",
   "execution_count": 2294,
   "metadata": {},
   "outputs": [
    {
     "data": {
      "application/vnd.microsoft.datawrangler.viewer.v0+json": {
       "columns": [
        {
         "name": "area",
         "rawType": "object",
         "type": "string"
        },
        {
         "name": "year",
         "rawType": "int64",
         "type": "integer"
        },
        {
         "name": "gdp_growth",
         "rawType": "float64",
         "type": "float"
        },
        {
         "name": "inflation",
         "rawType": "float64",
         "type": "float"
        },
        {
         "name": "policy_rate",
         "rawType": "float64",
         "type": "float"
        },
        {
         "name": "unemployment",
         "rawType": "float64",
         "type": "float"
        },
        {
         "name": "fx_usd",
         "rawType": "float64",
         "type": "float"
        }
       ],
       "ref": "37af0a19-11e1-43db-97c1-169ecb63e028",
       "rows": [
        [
         "USA",
         "2024",
         "2.1",
         "3.2",
         "5.25",
         "3.8",
         "1.0"
        ],
        [
         "Eurozone",
         "2024",
         "1.3",
         "2.5",
         "4.0",
         "6.5",
         "1.09"
        ],
        [
         "UK",
         "2024",
         "1.5",
         "2.8",
         "5.0",
         "4.2",
         "0.79"
        ],
        [
         "Canada",
         "2024",
         "1.8",
         "2.2",
         "4.75",
         "5.1",
         "1.36"
        ],
        [
         "Australia",
         "2024",
         "2.0",
         "2.6",
         "4.35",
         "4.0",
         "1.51"
        ]
       ],
       "shape": {
        "columns": 6,
        "rows": 5
       }
      },
      "text/html": [
       "<div>\n",
       "<style scoped>\n",
       "    .dataframe tbody tr th:only-of-type {\n",
       "        vertical-align: middle;\n",
       "    }\n",
       "\n",
       "    .dataframe tbody tr th {\n",
       "        vertical-align: top;\n",
       "    }\n",
       "\n",
       "    .dataframe thead th {\n",
       "        text-align: right;\n",
       "    }\n",
       "</style>\n",
       "<table border=\"1\" class=\"dataframe\">\n",
       "  <thead>\n",
       "    <tr style=\"text-align: right;\">\n",
       "      <th></th>\n",
       "      <th>year</th>\n",
       "      <th>gdp_growth</th>\n",
       "      <th>inflation</th>\n",
       "      <th>policy_rate</th>\n",
       "      <th>unemployment</th>\n",
       "      <th>fx_usd</th>\n",
       "    </tr>\n",
       "    <tr>\n",
       "      <th>area</th>\n",
       "      <th></th>\n",
       "      <th></th>\n",
       "      <th></th>\n",
       "      <th></th>\n",
       "      <th></th>\n",
       "      <th></th>\n",
       "    </tr>\n",
       "  </thead>\n",
       "  <tbody>\n",
       "    <tr>\n",
       "      <th>USA</th>\n",
       "      <td>2024</td>\n",
       "      <td>2.1</td>\n",
       "      <td>3.2</td>\n",
       "      <td>5.25</td>\n",
       "      <td>3.8</td>\n",
       "      <td>1.00</td>\n",
       "    </tr>\n",
       "    <tr>\n",
       "      <th>Eurozone</th>\n",
       "      <td>2024</td>\n",
       "      <td>1.3</td>\n",
       "      <td>2.5</td>\n",
       "      <td>4.00</td>\n",
       "      <td>6.5</td>\n",
       "      <td>1.09</td>\n",
       "    </tr>\n",
       "    <tr>\n",
       "      <th>UK</th>\n",
       "      <td>2024</td>\n",
       "      <td>1.5</td>\n",
       "      <td>2.8</td>\n",
       "      <td>5.00</td>\n",
       "      <td>4.2</td>\n",
       "      <td>0.79</td>\n",
       "    </tr>\n",
       "    <tr>\n",
       "      <th>Canada</th>\n",
       "      <td>2024</td>\n",
       "      <td>1.8</td>\n",
       "      <td>2.2</td>\n",
       "      <td>4.75</td>\n",
       "      <td>5.1</td>\n",
       "      <td>1.36</td>\n",
       "    </tr>\n",
       "    <tr>\n",
       "      <th>Australia</th>\n",
       "      <td>2024</td>\n",
       "      <td>2.0</td>\n",
       "      <td>2.6</td>\n",
       "      <td>4.35</td>\n",
       "      <td>4.0</td>\n",
       "      <td>1.51</td>\n",
       "    </tr>\n",
       "  </tbody>\n",
       "</table>\n",
       "</div>"
      ],
      "text/plain": [
       "           year  gdp_growth  inflation  policy_rate  unemployment  fx_usd\n",
       "area                                                                     \n",
       "USA        2024         2.1        3.2         5.25           3.8    1.00\n",
       "Eurozone   2024         1.3        2.5         4.00           6.5    1.09\n",
       "UK         2024         1.5        2.8         5.00           4.2    0.79\n",
       "Canada     2024         1.8        2.2         4.75           5.1    1.36\n",
       "Australia  2024         2.0        2.6         4.35           4.0    1.51"
      ]
     },
     "execution_count": 2294,
     "metadata": {},
     "output_type": "execute_result"
    }
   ],
   "source": [
    "# Filter rows where fx_usd is less than 1.0 OR inflation is greater than 2.0\n",
    "df[(df['fx_usd'] < 1.0) | (df[\"inflation\"] > 2.0)]"
   ]
  },
  {
   "cell_type": "markdown",
   "metadata": {},
   "source": [
    "### **5.2.3. DataFrame Operations**"
   ]
  },
  {
   "cell_type": "code",
   "execution_count": 2295,
   "metadata": {},
   "outputs": [
    {
     "name": "stdout",
     "output_type": "stream",
     "text": [
      "['T', 'abs', 'add', 'add_prefix', 'add_suffix', 'agg', 'aggregate', 'align', 'all', 'any', 'apply', 'applymap', 'asfreq', 'asof', 'assign', 'astype', 'at', 'at_time', 'attrs', 'axes', 'backfill', 'between_time', 'bfill', 'bool', 'boxplot', 'clip', 'columns', 'combine', 'combine_first', 'compare', 'convert_dtypes', 'copy', 'corr', 'corrwith', 'count', 'cov', 'cummax', 'cummin', 'cumprod', 'cumsum', 'describe', 'diff', 'div', 'divide', 'dot', 'drop', 'drop_duplicates', 'droplevel', 'dropna', 'dtypes', 'duplicated', 'empty', 'eq', 'equals', 'eval', 'ewm', 'expanding', 'explode', 'ffill', 'fillna', 'filter', 'first', 'first_valid_index', 'flags', 'floordiv', 'from_dict', 'from_records', 'ge', 'get', 'groupby', 'gt', 'head', 'hist', 'iat', 'idxmax', 'idxmin', 'iloc', 'index', 'infer_objects', 'info', 'insert', 'interpolate', 'isetitem', 'isin', 'isna', 'isnull', 'items', 'iterrows', 'itertuples', 'join', 'keys', 'kurt', 'kurtosis', 'last', 'last_valid_index', 'le', 'loc', 'lt', 'map', 'mask', 'max', 'mean', 'median', 'melt', 'memory_usage', 'merge', 'min', 'mod', 'mode', 'mul', 'multiply', 'ndim', 'ne', 'nlargest', 'notna', 'notnull', 'nsmallest', 'nunique', 'pad', 'pct_change', 'pipe', 'pivot', 'pivot_table', 'plot', 'pop', 'pow', 'prod', 'product', 'quantile', 'query', 'radd', 'rank', 'rdiv', 'reindex', 'reindex_like', 'rename', 'rename_axis', 'reorder_levels', 'replace', 'resample', 'reset_index', 'rfloordiv', 'rmod', 'rmul', 'rolling', 'round', 'rpow', 'rsub', 'rtruediv', 'sample', 'select_dtypes', 'sem', 'set_axis', 'set_flags', 'set_index', 'shape', 'shift', 'size', 'skew', 'sort_index', 'sort_values', 'sparse', 'squeeze', 'stack', 'std', 'style', 'sub', 'subtract', 'sum', 'swapaxes', 'swaplevel', 'tail', 'take', 'to_clipboard', 'to_csv', 'to_dict', 'to_excel', 'to_feather', 'to_gbq', 'to_hdf', 'to_html', 'to_json', 'to_latex', 'to_markdown', 'to_numpy', 'to_orc', 'to_parquet', 'to_period', 'to_pickle', 'to_records', 'to_sql', 'to_stata', 'to_string', 'to_timestamp', 'to_xarray', 'to_xml', 'transform', 'transpose', 'truediv', 'truncate', 'tz_convert', 'tz_localize', 'unstack', 'update', 'value_counts', 'values', 'var', 'where', 'xs']\n"
     ]
    }
   ],
   "source": [
    "print([_ for _ in dir(pd.DataFrame) if not _.startswith(\"_\")])  # print all common methods"
   ]
  },
  {
   "cell_type": "code",
   "execution_count": 2296,
   "metadata": {},
   "outputs": [
    {
     "data": {
      "application/vnd.microsoft.datawrangler.viewer.v0+json": {
       "columns": [
        {
         "name": "area",
         "rawType": "object",
         "type": "string"
        },
        {
         "name": "year",
         "rawType": "int64",
         "type": "integer"
        },
        {
         "name": "gdp_growth",
         "rawType": "float64",
         "type": "float"
        },
        {
         "name": "inflation",
         "rawType": "float64",
         "type": "float"
        },
        {
         "name": "policy_rate",
         "rawType": "float64",
         "type": "float"
        },
        {
         "name": "unemployment",
         "rawType": "float64",
         "type": "float"
        },
        {
         "name": "fx_usd",
         "rawType": "float64",
         "type": "float"
        }
       ],
       "ref": "aee34067-ec03-4d03-9020-076388789529",
       "rows": [
        [
         "USA",
         "2024",
         "2.1",
         "3.2",
         "5.25",
         "3.8",
         "1.0"
        ],
        [
         "Eurozone",
         "2024",
         "1.3",
         "2.5",
         "4.0",
         "6.5",
         "1.09"
        ],
        [
         "Japan",
         "2024",
         "0.7",
         "1.0",
         "-0.1",
         "2.6",
         "143.5"
        ],
        [
         "UK",
         "2024",
         "1.5",
         "2.8",
         "5.0",
         "4.2",
         "0.79"
        ],
        [
         "Canada",
         "2024",
         "1.8",
         "2.2",
         "4.75",
         "5.1",
         "1.36"
        ],
        [
         "Australia",
         "2024",
         "2.0",
         "2.6",
         "4.35",
         "4.0",
         "1.51"
        ]
       ],
       "shape": {
        "columns": 6,
        "rows": 6
       }
      },
      "text/html": [
       "<div>\n",
       "<style scoped>\n",
       "    .dataframe tbody tr th:only-of-type {\n",
       "        vertical-align: middle;\n",
       "    }\n",
       "\n",
       "    .dataframe tbody tr th {\n",
       "        vertical-align: top;\n",
       "    }\n",
       "\n",
       "    .dataframe thead th {\n",
       "        text-align: right;\n",
       "    }\n",
       "</style>\n",
       "<table border=\"1\" class=\"dataframe\">\n",
       "  <thead>\n",
       "    <tr style=\"text-align: right;\">\n",
       "      <th></th>\n",
       "      <th>year</th>\n",
       "      <th>gdp_growth</th>\n",
       "      <th>inflation</th>\n",
       "      <th>policy_rate</th>\n",
       "      <th>unemployment</th>\n",
       "      <th>fx_usd</th>\n",
       "    </tr>\n",
       "    <tr>\n",
       "      <th>area</th>\n",
       "      <th></th>\n",
       "      <th></th>\n",
       "      <th></th>\n",
       "      <th></th>\n",
       "      <th></th>\n",
       "      <th></th>\n",
       "    </tr>\n",
       "  </thead>\n",
       "  <tbody>\n",
       "    <tr>\n",
       "      <th>USA</th>\n",
       "      <td>2024</td>\n",
       "      <td>2.1</td>\n",
       "      <td>3.2</td>\n",
       "      <td>5.25</td>\n",
       "      <td>3.8</td>\n",
       "      <td>1.00</td>\n",
       "    </tr>\n",
       "    <tr>\n",
       "      <th>Eurozone</th>\n",
       "      <td>2024</td>\n",
       "      <td>1.3</td>\n",
       "      <td>2.5</td>\n",
       "      <td>4.00</td>\n",
       "      <td>6.5</td>\n",
       "      <td>1.09</td>\n",
       "    </tr>\n",
       "    <tr>\n",
       "      <th>Japan</th>\n",
       "      <td>2024</td>\n",
       "      <td>0.7</td>\n",
       "      <td>1.0</td>\n",
       "      <td>-0.10</td>\n",
       "      <td>2.6</td>\n",
       "      <td>143.50</td>\n",
       "    </tr>\n",
       "    <tr>\n",
       "      <th>UK</th>\n",
       "      <td>2024</td>\n",
       "      <td>1.5</td>\n",
       "      <td>2.8</td>\n",
       "      <td>5.00</td>\n",
       "      <td>4.2</td>\n",
       "      <td>0.79</td>\n",
       "    </tr>\n",
       "    <tr>\n",
       "      <th>Canada</th>\n",
       "      <td>2024</td>\n",
       "      <td>1.8</td>\n",
       "      <td>2.2</td>\n",
       "      <td>4.75</td>\n",
       "      <td>5.1</td>\n",
       "      <td>1.36</td>\n",
       "    </tr>\n",
       "    <tr>\n",
       "      <th>Australia</th>\n",
       "      <td>2024</td>\n",
       "      <td>2.0</td>\n",
       "      <td>2.6</td>\n",
       "      <td>4.35</td>\n",
       "      <td>4.0</td>\n",
       "      <td>1.51</td>\n",
       "    </tr>\n",
       "  </tbody>\n",
       "</table>\n",
       "</div>"
      ],
      "text/plain": [
       "           year  gdp_growth  inflation  policy_rate  unemployment  fx_usd\n",
       "area                                                                     \n",
       "USA        2024         2.1        3.2         5.25           3.8    1.00\n",
       "Eurozone   2024         1.3        2.5         4.00           6.5    1.09\n",
       "Japan      2024         0.7        1.0        -0.10           2.6  143.50\n",
       "UK         2024         1.5        2.8         5.00           4.2    0.79\n",
       "Canada     2024         1.8        2.2         4.75           5.1    1.36\n",
       "Australia  2024         2.0        2.6         4.35           4.0    1.51"
      ]
     },
     "execution_count": 2296,
     "metadata": {},
     "output_type": "execute_result"
    }
   ],
   "source": [
    "df"
   ]
  },
  {
   "cell_type": "code",
   "execution_count": 2297,
   "metadata": {},
   "outputs": [
    {
     "data": {
      "application/vnd.microsoft.datawrangler.viewer.v0+json": {
       "columns": [
        {
         "name": "index",
         "rawType": "object",
         "type": "string"
        },
        {
         "name": "0",
         "rawType": "float64",
         "type": "float"
        }
       ],
       "ref": "d3d82f53-030d-48b4-a824-68cb518723bd",
       "rows": [
        [
         "year",
         "2024.0"
        ],
        [
         "gdp_growth",
         "1.5666666666666667"
        ],
        [
         "inflation",
         "2.3833333333333333"
        ],
        [
         "policy_rate",
         "3.875"
        ],
        [
         "unemployment",
         "4.366666666666667"
        ],
        [
         "fx_usd",
         "24.875"
        ]
       ],
       "shape": {
        "columns": 1,
        "rows": 6
       }
      },
      "text/plain": [
       "year            2024.000000\n",
       "gdp_growth         1.566667\n",
       "inflation          2.383333\n",
       "policy_rate        3.875000\n",
       "unemployment       4.366667\n",
       "fx_usd            24.875000\n",
       "dtype: float64"
      ]
     },
     "execution_count": 2297,
     "metadata": {},
     "output_type": "execute_result"
    }
   ],
   "source": [
    "df.mean(numeric_only=True)  # mean of numeric columns"
   ]
  },
  {
   "cell_type": "code",
   "execution_count": 2298,
   "metadata": {},
   "outputs": [
    {
     "data": {
      "application/vnd.microsoft.datawrangler.viewer.v0+json": {
       "columns": [
        {
         "name": "index",
         "rawType": "object",
         "type": "string"
        },
        {
         "name": "year",
         "rawType": "float64",
         "type": "float"
        },
        {
         "name": "gdp_growth",
         "rawType": "float64",
         "type": "float"
        },
        {
         "name": "inflation",
         "rawType": "float64",
         "type": "float"
        },
        {
         "name": "policy_rate",
         "rawType": "float64",
         "type": "float"
        },
        {
         "name": "unemployment",
         "rawType": "float64",
         "type": "float"
        },
        {
         "name": "fx_usd",
         "rawType": "float64",
         "type": "float"
        }
       ],
       "ref": "4910ade8-1d15-47f9-8be1-65f3d59e09d9",
       "rows": [
        [
         "count",
         "6.0",
         "6.0",
         "6.0",
         "6.0",
         "6.0",
         "6.0"
        ],
        [
         "mean",
         "2024.0",
         "1.5666666666666667",
         "2.3833333333333333",
         "3.875",
         "4.366666666666667",
         "24.875"
        ],
        [
         "std",
         "0.0",
         "0.5202563470700446",
         "0.7547626558506103",
         "1.9981866779658002",
         "1.3185851002747855",
         "58.114710960306766"
        ],
        [
         "min",
         "2024.0",
         "0.7",
         "1.0",
         "-0.1",
         "2.6",
         "0.79"
        ],
        [
         "25%",
         "2024.0",
         "1.35",
         "2.2750000000000004",
         "4.0875",
         "3.8499999999999996",
         "1.0225"
        ],
        [
         "50%",
         "2024.0",
         "1.65",
         "2.55",
         "4.55",
         "4.1",
         "1.225"
        ],
        [
         "75%",
         "2024.0",
         "1.95",
         "2.75",
         "4.9375",
         "4.875",
         "1.4725000000000001"
        ],
        [
         "max",
         "2024.0",
         "2.1",
         "3.2",
         "5.25",
         "6.5",
         "143.5"
        ]
       ],
       "shape": {
        "columns": 6,
        "rows": 8
       }
      },
      "text/html": [
       "<div>\n",
       "<style scoped>\n",
       "    .dataframe tbody tr th:only-of-type {\n",
       "        vertical-align: middle;\n",
       "    }\n",
       "\n",
       "    .dataframe tbody tr th {\n",
       "        vertical-align: top;\n",
       "    }\n",
       "\n",
       "    .dataframe thead th {\n",
       "        text-align: right;\n",
       "    }\n",
       "</style>\n",
       "<table border=\"1\" class=\"dataframe\">\n",
       "  <thead>\n",
       "    <tr style=\"text-align: right;\">\n",
       "      <th></th>\n",
       "      <th>year</th>\n",
       "      <th>gdp_growth</th>\n",
       "      <th>inflation</th>\n",
       "      <th>policy_rate</th>\n",
       "      <th>unemployment</th>\n",
       "      <th>fx_usd</th>\n",
       "    </tr>\n",
       "  </thead>\n",
       "  <tbody>\n",
       "    <tr>\n",
       "      <th>count</th>\n",
       "      <td>6.0</td>\n",
       "      <td>6.000000</td>\n",
       "      <td>6.000000</td>\n",
       "      <td>6.000000</td>\n",
       "      <td>6.000000</td>\n",
       "      <td>6.000000</td>\n",
       "    </tr>\n",
       "    <tr>\n",
       "      <th>mean</th>\n",
       "      <td>2024.0</td>\n",
       "      <td>1.566667</td>\n",
       "      <td>2.383333</td>\n",
       "      <td>3.875000</td>\n",
       "      <td>4.366667</td>\n",
       "      <td>24.875000</td>\n",
       "    </tr>\n",
       "    <tr>\n",
       "      <th>std</th>\n",
       "      <td>0.0</td>\n",
       "      <td>0.520256</td>\n",
       "      <td>0.754763</td>\n",
       "      <td>1.998187</td>\n",
       "      <td>1.318585</td>\n",
       "      <td>58.114711</td>\n",
       "    </tr>\n",
       "    <tr>\n",
       "      <th>min</th>\n",
       "      <td>2024.0</td>\n",
       "      <td>0.700000</td>\n",
       "      <td>1.000000</td>\n",
       "      <td>-0.100000</td>\n",
       "      <td>2.600000</td>\n",
       "      <td>0.790000</td>\n",
       "    </tr>\n",
       "    <tr>\n",
       "      <th>25%</th>\n",
       "      <td>2024.0</td>\n",
       "      <td>1.350000</td>\n",
       "      <td>2.275000</td>\n",
       "      <td>4.087500</td>\n",
       "      <td>3.850000</td>\n",
       "      <td>1.022500</td>\n",
       "    </tr>\n",
       "    <tr>\n",
       "      <th>50%</th>\n",
       "      <td>2024.0</td>\n",
       "      <td>1.650000</td>\n",
       "      <td>2.550000</td>\n",
       "      <td>4.550000</td>\n",
       "      <td>4.100000</td>\n",
       "      <td>1.225000</td>\n",
       "    </tr>\n",
       "    <tr>\n",
       "      <th>75%</th>\n",
       "      <td>2024.0</td>\n",
       "      <td>1.950000</td>\n",
       "      <td>2.750000</td>\n",
       "      <td>4.937500</td>\n",
       "      <td>4.875000</td>\n",
       "      <td>1.472500</td>\n",
       "    </tr>\n",
       "    <tr>\n",
       "      <th>max</th>\n",
       "      <td>2024.0</td>\n",
       "      <td>2.100000</td>\n",
       "      <td>3.200000</td>\n",
       "      <td>5.250000</td>\n",
       "      <td>6.500000</td>\n",
       "      <td>143.500000</td>\n",
       "    </tr>\n",
       "  </tbody>\n",
       "</table>\n",
       "</div>"
      ],
      "text/plain": [
       "         year  gdp_growth  inflation  policy_rate  unemployment      fx_usd\n",
       "count     6.0    6.000000   6.000000     6.000000      6.000000    6.000000\n",
       "mean   2024.0    1.566667   2.383333     3.875000      4.366667   24.875000\n",
       "std       0.0    0.520256   0.754763     1.998187      1.318585   58.114711\n",
       "min    2024.0    0.700000   1.000000    -0.100000      2.600000    0.790000\n",
       "25%    2024.0    1.350000   2.275000     4.087500      3.850000    1.022500\n",
       "50%    2024.0    1.650000   2.550000     4.550000      4.100000    1.225000\n",
       "75%    2024.0    1.950000   2.750000     4.937500      4.875000    1.472500\n",
       "max    2024.0    2.100000   3.200000     5.250000      6.500000  143.500000"
      ]
     },
     "execution_count": 2298,
     "metadata": {},
     "output_type": "execute_result"
    }
   ],
   "source": [
    "df.describe()"
   ]
  },
  {
   "cell_type": "markdown",
   "metadata": {},
   "source": [
    "### **5.2.4. Adding / Overwriting data**\n",
    "\n",
    "- Adding Columns\n",
    "\n",
    "| Method         | Code Pattern (Abstraction)                | Notes                                      |\n",
    "|----------------|------------------------------------------|--------------------------------------------|\n",
    "| Direct assign  | `df[new_col] = values`                   | Adds or overwrites a column                |\n",
    "| `assign()`     | `df.assign(new_col=values)`              | Adds a new column (returns a new DataFrame) |\n",
    "| `insert()`     | `df.insert(loc, new_col, values)`        | Adds at specific position                  |\n",
    "| Multiple cols  | `df[[col1, col2]] = values`              | Assign multiple columns at once            |\n",
    "\n",
    "\n",
    "- Adding Rows\n",
    "\n",
    "| Method      | Code Pattern (Abstraction)            | Notes                                         |\n",
    "|-------------|--------------------------------------|-----------------------------------------------|\n",
    "| `loc`       | `df.loc[new_label] = values`         | Adds or overwrites a row by index label       |\n",
    "| `iloc`      | `df.iloc[position] = values`         | Overwrites a row at a specific integer position (does not add a new row) |\n",
    "| `concat()`  | `df = pd.concat([df, new_rows_df])`  | Adds one or more new rows from another DataFrame |\n"
   ]
  },
  {
   "cell_type": "code",
   "execution_count": 2299,
   "metadata": {},
   "outputs": [
    {
     "data": {
      "application/vnd.microsoft.datawrangler.viewer.v0+json": {
       "columns": [
        {
         "name": "area",
         "rawType": "object",
         "type": "string"
        },
        {
         "name": "year",
         "rawType": "int64",
         "type": "integer"
        },
        {
         "name": "gdp_growth",
         "rawType": "float64",
         "type": "float"
        },
        {
         "name": "inflation",
         "rawType": "float64",
         "type": "float"
        },
        {
         "name": "policy_rate",
         "rawType": "float64",
         "type": "float"
        },
        {
         "name": "unemployment",
         "rawType": "float64",
         "type": "float"
        },
        {
         "name": "fx_usd",
         "rawType": "float64",
         "type": "float"
        },
        {
         "name": "net_gdp_growth",
         "rawType": "float64",
         "type": "float"
        },
        {
         "name": "avg_weather",
         "rawType": "float64",
         "type": "float"
        }
       ],
       "ref": "bd5896f3-326d-484b-bd16-f246b4e25bc5",
       "rows": [
        [
         "USA",
         "2024",
         "2.1",
         "3.2",
         "5.25",
         "3.8",
         "1.0",
         "-1.1",
         "20.5"
        ],
        [
         "Eurozone",
         "2024",
         "1.3",
         "2.5",
         "4.0",
         "6.5",
         "1.09",
         "-1.2",
         "18.0"
        ],
        [
         "Japan",
         "2024",
         "0.7",
         "1.0",
         "-0.1",
         "2.6",
         "143.5",
         "-0.30000000000000004",
         "15.0"
        ],
        [
         "UK",
         "2024",
         "1.5",
         "2.8",
         "5.0",
         "4.2",
         "0.79",
         "-1.2999999999999998",
         "12.5"
        ],
        [
         "Canada",
         "2024",
         "1.8",
         "2.2",
         "4.75",
         "5.1",
         "1.36",
         "-0.40000000000000013",
         "10.0"
        ],
        [
         "Australia",
         "2024",
         "2.0",
         "2.6",
         "4.35",
         "4.0",
         "1.51",
         "-0.6000000000000001",
         "22.0"
        ]
       ],
       "shape": {
        "columns": 8,
        "rows": 6
       }
      },
      "text/html": [
       "<div>\n",
       "<style scoped>\n",
       "    .dataframe tbody tr th:only-of-type {\n",
       "        vertical-align: middle;\n",
       "    }\n",
       "\n",
       "    .dataframe tbody tr th {\n",
       "        vertical-align: top;\n",
       "    }\n",
       "\n",
       "    .dataframe thead th {\n",
       "        text-align: right;\n",
       "    }\n",
       "</style>\n",
       "<table border=\"1\" class=\"dataframe\">\n",
       "  <thead>\n",
       "    <tr style=\"text-align: right;\">\n",
       "      <th></th>\n",
       "      <th>year</th>\n",
       "      <th>gdp_growth</th>\n",
       "      <th>inflation</th>\n",
       "      <th>policy_rate</th>\n",
       "      <th>unemployment</th>\n",
       "      <th>fx_usd</th>\n",
       "      <th>net_gdp_growth</th>\n",
       "      <th>avg_weather</th>\n",
       "    </tr>\n",
       "    <tr>\n",
       "      <th>area</th>\n",
       "      <th></th>\n",
       "      <th></th>\n",
       "      <th></th>\n",
       "      <th></th>\n",
       "      <th></th>\n",
       "      <th></th>\n",
       "      <th></th>\n",
       "      <th></th>\n",
       "    </tr>\n",
       "  </thead>\n",
       "  <tbody>\n",
       "    <tr>\n",
       "      <th>USA</th>\n",
       "      <td>2024</td>\n",
       "      <td>2.1</td>\n",
       "      <td>3.2</td>\n",
       "      <td>5.25</td>\n",
       "      <td>3.8</td>\n",
       "      <td>1.00</td>\n",
       "      <td>-1.1</td>\n",
       "      <td>20.5</td>\n",
       "    </tr>\n",
       "    <tr>\n",
       "      <th>Eurozone</th>\n",
       "      <td>2024</td>\n",
       "      <td>1.3</td>\n",
       "      <td>2.5</td>\n",
       "      <td>4.00</td>\n",
       "      <td>6.5</td>\n",
       "      <td>1.09</td>\n",
       "      <td>-1.2</td>\n",
       "      <td>18.0</td>\n",
       "    </tr>\n",
       "    <tr>\n",
       "      <th>Japan</th>\n",
       "      <td>2024</td>\n",
       "      <td>0.7</td>\n",
       "      <td>1.0</td>\n",
       "      <td>-0.10</td>\n",
       "      <td>2.6</td>\n",
       "      <td>143.50</td>\n",
       "      <td>-0.3</td>\n",
       "      <td>15.0</td>\n",
       "    </tr>\n",
       "    <tr>\n",
       "      <th>UK</th>\n",
       "      <td>2024</td>\n",
       "      <td>1.5</td>\n",
       "      <td>2.8</td>\n",
       "      <td>5.00</td>\n",
       "      <td>4.2</td>\n",
       "      <td>0.79</td>\n",
       "      <td>-1.3</td>\n",
       "      <td>12.5</td>\n",
       "    </tr>\n",
       "    <tr>\n",
       "      <th>Canada</th>\n",
       "      <td>2024</td>\n",
       "      <td>1.8</td>\n",
       "      <td>2.2</td>\n",
       "      <td>4.75</td>\n",
       "      <td>5.1</td>\n",
       "      <td>1.36</td>\n",
       "      <td>-0.4</td>\n",
       "      <td>10.0</td>\n",
       "    </tr>\n",
       "    <tr>\n",
       "      <th>Australia</th>\n",
       "      <td>2024</td>\n",
       "      <td>2.0</td>\n",
       "      <td>2.6</td>\n",
       "      <td>4.35</td>\n",
       "      <td>4.0</td>\n",
       "      <td>1.51</td>\n",
       "      <td>-0.6</td>\n",
       "      <td>22.0</td>\n",
       "    </tr>\n",
       "  </tbody>\n",
       "</table>\n",
       "</div>"
      ],
      "text/plain": [
       "           year  gdp_growth  inflation  policy_rate  unemployment  fx_usd  \\\n",
       "area                                                                        \n",
       "USA        2024         2.1        3.2         5.25           3.8    1.00   \n",
       "Eurozone   2024         1.3        2.5         4.00           6.5    1.09   \n",
       "Japan      2024         0.7        1.0        -0.10           2.6  143.50   \n",
       "UK         2024         1.5        2.8         5.00           4.2    0.79   \n",
       "Canada     2024         1.8        2.2         4.75           5.1    1.36   \n",
       "Australia  2024         2.0        2.6         4.35           4.0    1.51   \n",
       "\n",
       "           net_gdp_growth  avg_weather  \n",
       "area                                    \n",
       "USA                  -1.1         20.5  \n",
       "Eurozone             -1.2         18.0  \n",
       "Japan                -0.3         15.0  \n",
       "UK                   -1.3         12.5  \n",
       "Canada               -0.4         10.0  \n",
       "Australia            -0.6         22.0  "
      ]
     },
     "execution_count": 2299,
     "metadata": {},
     "output_type": "execute_result"
    }
   ],
   "source": [
    "df[\"net_gdp_growth\"] = df.gdp_growth - df.inflation  # Create a new column as the ratio of inflation to unemployment\n",
    "df[\"avg_weather\"] = [20.5, 18.0, 15.0, 12.5, 10.0, 22.0]  # Add a new column with average weather data\n",
    "df"
   ]
  },
  {
   "cell_type": "code",
   "execution_count": 2300,
   "metadata": {},
   "outputs": [
    {
     "data": {
      "application/vnd.microsoft.datawrangler.viewer.v0+json": {
       "columns": [
        {
         "name": "area",
         "rawType": "object",
         "type": "string"
        },
        {
         "name": "year",
         "rawType": "int64",
         "type": "integer"
        },
        {
         "name": "gdp_growth",
         "rawType": "float64",
         "type": "float"
        },
        {
         "name": "inflation",
         "rawType": "float64",
         "type": "float"
        },
        {
         "name": "policy_rate",
         "rawType": "float64",
         "type": "float"
        },
        {
         "name": "unemployment",
         "rawType": "float64",
         "type": "float"
        },
        {
         "name": "fx_usd",
         "rawType": "float64",
         "type": "float"
        },
        {
         "name": "net_gdp_growth",
         "rawType": "float64",
         "type": "float"
        },
        {
         "name": "avg_weather",
         "rawType": "float64",
         "type": "float"
        }
       ],
       "ref": "158ab9e3-08a3-4b75-9c1a-16d2b649961f",
       "rows": [
        [
         "USA",
         "2023",
         "2.1",
         "3.2",
         "5.25",
         "3.8",
         "1.0",
         "-1.1",
         "20.5"
        ],
        [
         "Eurozone",
         "2023",
         "1.3",
         "2.5",
         "4.0",
         "6.5",
         "1.09",
         "-1.2",
         "18.0"
        ],
        [
         "Japan",
         "2023",
         "0.7",
         "1.0",
         "-0.1",
         "2.6",
         "143.5",
         "-0.30000000000000004",
         "15.0"
        ],
        [
         "UK",
         "2023",
         "1.5",
         "2.8",
         "5.0",
         "4.2",
         "0.79",
         "-1.2999999999999998",
         "12.5"
        ],
        [
         "Canada",
         "2023",
         "1.8",
         "2.2",
         "4.75",
         "5.1",
         "1.36",
         "-0.40000000000000013",
         "10.0"
        ],
        [
         "Australia",
         "2023",
         "2.0",
         "2.6",
         "4.35",
         "4.0",
         "1.51",
         "-0.6000000000000001",
         "22.0"
        ]
       ],
       "shape": {
        "columns": 8,
        "rows": 6
       }
      },
      "text/html": [
       "<div>\n",
       "<style scoped>\n",
       "    .dataframe tbody tr th:only-of-type {\n",
       "        vertical-align: middle;\n",
       "    }\n",
       "\n",
       "    .dataframe tbody tr th {\n",
       "        vertical-align: top;\n",
       "    }\n",
       "\n",
       "    .dataframe thead th {\n",
       "        text-align: right;\n",
       "    }\n",
       "</style>\n",
       "<table border=\"1\" class=\"dataframe\">\n",
       "  <thead>\n",
       "    <tr style=\"text-align: right;\">\n",
       "      <th></th>\n",
       "      <th>year</th>\n",
       "      <th>gdp_growth</th>\n",
       "      <th>inflation</th>\n",
       "      <th>policy_rate</th>\n",
       "      <th>unemployment</th>\n",
       "      <th>fx_usd</th>\n",
       "      <th>net_gdp_growth</th>\n",
       "      <th>avg_weather</th>\n",
       "    </tr>\n",
       "    <tr>\n",
       "      <th>area</th>\n",
       "      <th></th>\n",
       "      <th></th>\n",
       "      <th></th>\n",
       "      <th></th>\n",
       "      <th></th>\n",
       "      <th></th>\n",
       "      <th></th>\n",
       "      <th></th>\n",
       "    </tr>\n",
       "  </thead>\n",
       "  <tbody>\n",
       "    <tr>\n",
       "      <th>USA</th>\n",
       "      <td>2023</td>\n",
       "      <td>2.1</td>\n",
       "      <td>3.2</td>\n",
       "      <td>5.25</td>\n",
       "      <td>3.8</td>\n",
       "      <td>1.00</td>\n",
       "      <td>-1.1</td>\n",
       "      <td>20.5</td>\n",
       "    </tr>\n",
       "    <tr>\n",
       "      <th>Eurozone</th>\n",
       "      <td>2023</td>\n",
       "      <td>1.3</td>\n",
       "      <td>2.5</td>\n",
       "      <td>4.00</td>\n",
       "      <td>6.5</td>\n",
       "      <td>1.09</td>\n",
       "      <td>-1.2</td>\n",
       "      <td>18.0</td>\n",
       "    </tr>\n",
       "    <tr>\n",
       "      <th>Japan</th>\n",
       "      <td>2023</td>\n",
       "      <td>0.7</td>\n",
       "      <td>1.0</td>\n",
       "      <td>-0.10</td>\n",
       "      <td>2.6</td>\n",
       "      <td>143.50</td>\n",
       "      <td>-0.3</td>\n",
       "      <td>15.0</td>\n",
       "    </tr>\n",
       "    <tr>\n",
       "      <th>UK</th>\n",
       "      <td>2023</td>\n",
       "      <td>1.5</td>\n",
       "      <td>2.8</td>\n",
       "      <td>5.00</td>\n",
       "      <td>4.2</td>\n",
       "      <td>0.79</td>\n",
       "      <td>-1.3</td>\n",
       "      <td>12.5</td>\n",
       "    </tr>\n",
       "    <tr>\n",
       "      <th>Canada</th>\n",
       "      <td>2023</td>\n",
       "      <td>1.8</td>\n",
       "      <td>2.2</td>\n",
       "      <td>4.75</td>\n",
       "      <td>5.1</td>\n",
       "      <td>1.36</td>\n",
       "      <td>-0.4</td>\n",
       "      <td>10.0</td>\n",
       "    </tr>\n",
       "    <tr>\n",
       "      <th>Australia</th>\n",
       "      <td>2023</td>\n",
       "      <td>2.0</td>\n",
       "      <td>2.6</td>\n",
       "      <td>4.35</td>\n",
       "      <td>4.0</td>\n",
       "      <td>1.51</td>\n",
       "      <td>-0.6</td>\n",
       "      <td>22.0</td>\n",
       "    </tr>\n",
       "  </tbody>\n",
       "</table>\n",
       "</div>"
      ],
      "text/plain": [
       "           year  gdp_growth  inflation  policy_rate  unemployment  fx_usd  \\\n",
       "area                                                                        \n",
       "USA        2023         2.1        3.2         5.25           3.8    1.00   \n",
       "Eurozone   2023         1.3        2.5         4.00           6.5    1.09   \n",
       "Japan      2023         0.7        1.0        -0.10           2.6  143.50   \n",
       "UK         2023         1.5        2.8         5.00           4.2    0.79   \n",
       "Canada     2023         1.8        2.2         4.75           5.1    1.36   \n",
       "Australia  2023         2.0        2.6         4.35           4.0    1.51   \n",
       "\n",
       "           net_gdp_growth  avg_weather  \n",
       "area                                    \n",
       "USA                  -1.1         20.5  \n",
       "Eurozone             -1.2         18.0  \n",
       "Japan                -0.3         15.0  \n",
       "UK                   -1.3         12.5  \n",
       "Canada               -0.4         10.0  \n",
       "Australia            -0.6         22.0  "
      ]
     },
     "execution_count": 2300,
     "metadata": {},
     "output_type": "execute_result"
    }
   ],
   "source": [
    "df.assign(\n",
    "    year=df['year']-1, \n",
    ")"
   ]
  },
  {
   "cell_type": "code",
   "execution_count": 2301,
   "metadata": {},
   "outputs": [
    {
     "data": {
      "application/vnd.microsoft.datawrangler.viewer.v0+json": {
       "columns": [
        {
         "name": "area",
         "rawType": "object",
         "type": "string"
        },
        {
         "name": "year",
         "rawType": "int64",
         "type": "integer"
        },
        {
         "name": "gdp_growth",
         "rawType": "float64",
         "type": "float"
        },
        {
         "name": "gdp_per_capita",
         "rawType": "float64",
         "type": "float"
        },
        {
         "name": "inflation",
         "rawType": "float64",
         "type": "float"
        },
        {
         "name": "policy_rate",
         "rawType": "float64",
         "type": "float"
        },
        {
         "name": "unemployment",
         "rawType": "float64",
         "type": "float"
        },
        {
         "name": "fx_usd",
         "rawType": "float64",
         "type": "float"
        },
        {
         "name": "net_gdp_growth",
         "rawType": "float64",
         "type": "float"
        },
        {
         "name": "avg_weather",
         "rawType": "float64",
         "type": "float"
        }
       ],
       "ref": "1d674937-4055-4b12-a12e-89979b829441",
       "rows": [
        [
         "USA",
         "2024",
         "2.1",
         "60000.0",
         "3.2",
         "5.25",
         "3.8",
         "1.0",
         "-1.1",
         "20.5"
        ],
        [
         "Eurozone",
         "2024",
         "1.3",
         null,
         "2.5",
         "4.0",
         "6.5",
         "1.09",
         "-1.2",
         "18.0"
        ],
        [
         "Japan",
         "2024",
         "0.7",
         "40000.0",
         "1.0",
         "-0.1",
         "2.6",
         "143.5",
         "-0.30000000000000004",
         "15.0"
        ],
        [
         "UK",
         "2024",
         "1.5",
         null,
         "2.8",
         "5.0",
         "4.2",
         "0.79",
         "-1.2999999999999998",
         "12.5"
        ],
        [
         "Canada",
         "2024",
         "1.8",
         "55000.0",
         "2.2",
         "4.75",
         "5.1",
         "1.36",
         "-0.40000000000000013",
         "10.0"
        ],
        [
         "Australia",
         "2024",
         "2.0",
         "70000.0",
         "2.6",
         "4.35",
         "4.0",
         "1.51",
         "-0.6000000000000001",
         "22.0"
        ]
       ],
       "shape": {
        "columns": 9,
        "rows": 6
       }
      },
      "text/html": [
       "<div>\n",
       "<style scoped>\n",
       "    .dataframe tbody tr th:only-of-type {\n",
       "        vertical-align: middle;\n",
       "    }\n",
       "\n",
       "    .dataframe tbody tr th {\n",
       "        vertical-align: top;\n",
       "    }\n",
       "\n",
       "    .dataframe thead th {\n",
       "        text-align: right;\n",
       "    }\n",
       "</style>\n",
       "<table border=\"1\" class=\"dataframe\">\n",
       "  <thead>\n",
       "    <tr style=\"text-align: right;\">\n",
       "      <th></th>\n",
       "      <th>year</th>\n",
       "      <th>gdp_growth</th>\n",
       "      <th>gdp_per_capita</th>\n",
       "      <th>inflation</th>\n",
       "      <th>policy_rate</th>\n",
       "      <th>unemployment</th>\n",
       "      <th>fx_usd</th>\n",
       "      <th>net_gdp_growth</th>\n",
       "      <th>avg_weather</th>\n",
       "    </tr>\n",
       "    <tr>\n",
       "      <th>area</th>\n",
       "      <th></th>\n",
       "      <th></th>\n",
       "      <th></th>\n",
       "      <th></th>\n",
       "      <th></th>\n",
       "      <th></th>\n",
       "      <th></th>\n",
       "      <th></th>\n",
       "      <th></th>\n",
       "    </tr>\n",
       "  </thead>\n",
       "  <tbody>\n",
       "    <tr>\n",
       "      <th>USA</th>\n",
       "      <td>2024</td>\n",
       "      <td>2.1</td>\n",
       "      <td>60000.0</td>\n",
       "      <td>3.2</td>\n",
       "      <td>5.25</td>\n",
       "      <td>3.8</td>\n",
       "      <td>1.00</td>\n",
       "      <td>-1.1</td>\n",
       "      <td>20.5</td>\n",
       "    </tr>\n",
       "    <tr>\n",
       "      <th>Eurozone</th>\n",
       "      <td>2024</td>\n",
       "      <td>1.3</td>\n",
       "      <td>NaN</td>\n",
       "      <td>2.5</td>\n",
       "      <td>4.00</td>\n",
       "      <td>6.5</td>\n",
       "      <td>1.09</td>\n",
       "      <td>-1.2</td>\n",
       "      <td>18.0</td>\n",
       "    </tr>\n",
       "    <tr>\n",
       "      <th>Japan</th>\n",
       "      <td>2024</td>\n",
       "      <td>0.7</td>\n",
       "      <td>40000.0</td>\n",
       "      <td>1.0</td>\n",
       "      <td>-0.10</td>\n",
       "      <td>2.6</td>\n",
       "      <td>143.50</td>\n",
       "      <td>-0.3</td>\n",
       "      <td>15.0</td>\n",
       "    </tr>\n",
       "    <tr>\n",
       "      <th>UK</th>\n",
       "      <td>2024</td>\n",
       "      <td>1.5</td>\n",
       "      <td>NaN</td>\n",
       "      <td>2.8</td>\n",
       "      <td>5.00</td>\n",
       "      <td>4.2</td>\n",
       "      <td>0.79</td>\n",
       "      <td>-1.3</td>\n",
       "      <td>12.5</td>\n",
       "    </tr>\n",
       "    <tr>\n",
       "      <th>Canada</th>\n",
       "      <td>2024</td>\n",
       "      <td>1.8</td>\n",
       "      <td>55000.0</td>\n",
       "      <td>2.2</td>\n",
       "      <td>4.75</td>\n",
       "      <td>5.1</td>\n",
       "      <td>1.36</td>\n",
       "      <td>-0.4</td>\n",
       "      <td>10.0</td>\n",
       "    </tr>\n",
       "    <tr>\n",
       "      <th>Australia</th>\n",
       "      <td>2024</td>\n",
       "      <td>2.0</td>\n",
       "      <td>70000.0</td>\n",
       "      <td>2.6</td>\n",
       "      <td>4.35</td>\n",
       "      <td>4.0</td>\n",
       "      <td>1.51</td>\n",
       "      <td>-0.6</td>\n",
       "      <td>22.0</td>\n",
       "    </tr>\n",
       "  </tbody>\n",
       "</table>\n",
       "</div>"
      ],
      "text/plain": [
       "           year  gdp_growth  gdp_per_capita  inflation  policy_rate  \\\n",
       "area                                                                  \n",
       "USA        2024         2.1         60000.0        3.2         5.25   \n",
       "Eurozone   2024         1.3             NaN        2.5         4.00   \n",
       "Japan      2024         0.7         40000.0        1.0        -0.10   \n",
       "UK         2024         1.5             NaN        2.8         5.00   \n",
       "Canada     2024         1.8         55000.0        2.2         4.75   \n",
       "Australia  2024         2.0         70000.0        2.6         4.35   \n",
       "\n",
       "           unemployment  fx_usd  net_gdp_growth  avg_weather  \n",
       "area                                                          \n",
       "USA                 3.8    1.00            -1.1         20.5  \n",
       "Eurozone            6.5    1.09            -1.2         18.0  \n",
       "Japan               2.6  143.50            -0.3         15.0  \n",
       "UK                  4.2    0.79            -1.3         12.5  \n",
       "Canada              5.1    1.36            -0.4         10.0  \n",
       "Australia           4.0    1.51            -0.6         22.0  "
      ]
     },
     "execution_count": 2301,
     "metadata": {},
     "output_type": "execute_result"
    }
   ],
   "source": [
    "df.insert(\n",
    "    loc=2,  # Insert at the third position (0-based index)\n",
    "    column='gdp_per_capita',  # Name of the new column\n",
    "    value=[60000, np.nan, 40000, np.nan, 55000, 70000]  # Values for the new column\n",
    ")\n",
    "df"
   ]
  },
  {
   "cell_type": "markdown",
   "metadata": {},
   "source": [
    "Deleting data\n",
    "\n",
    "| What to Remove         | Method/Option         | Code Pattern (Abstraction)                                 | Notes                                 |\n",
    "|------------------------|----------------------|------------------------------------------------------------|---------------------------------------|\n",
    "| Columns by label       | `drop()`             | `df.drop([col1, col2, ...], axis=1)`                       | Returns new DataFrame                 |\n",
    "| Columns by label (in-place) | `drop()`        | `df.drop([col1, col2, ...], axis=1, inplace=True)`         | Modifies original DataFrame           |\n",
    "| Columns by position    | `drop()`             | `df.drop(df.columns[[pos1, pos2, ...]], axis=1)`           | Use integer positions                 |\n",
    "| Columns with missing values | `dropna()`      | `df.dropna(axis=1)`                                        | Removes columns with any missing      |\n",
    "| Rows by label          | `drop()`             | `df.drop([row1, row2, ...], axis=0)`                       | Returns new DataFrame                 |\n",
    "| Rows by label (in-place) | `drop()`           | `df.drop([row1, row2, ...], axis=0, inplace=True)`         | Modifies original DataFrame           |\n",
    "| Rows by position       | `drop()`             | `df.drop(df.index[[pos1, pos2, ...]], axis=0)`             | Use integer positions                 |\n",
    "| Rows with missing values | `dropna()`         | `df.dropna(axis=0)`                                        | Removes rows with any missing         |\n",
    "| Duplicate rows         | `drop_duplicates()`  | `df.drop_duplicates()`                                     | Removes duplicate rows                |"
   ]
  },
  {
   "cell_type": "code",
   "execution_count": 2302,
   "metadata": {},
   "outputs": [
    {
     "data": {
      "application/vnd.microsoft.datawrangler.viewer.v0+json": {
       "columns": [
        {
         "name": "area",
         "rawType": "object",
         "type": "string"
        },
        {
         "name": "year",
         "rawType": "int64",
         "type": "integer"
        },
        {
         "name": "gdp_growth",
         "rawType": "float64",
         "type": "float"
        },
        {
         "name": "gdp_per_capita",
         "rawType": "float64",
         "type": "float"
        },
        {
         "name": "inflation",
         "rawType": "float64",
         "type": "float"
        },
        {
         "name": "policy_rate",
         "rawType": "float64",
         "type": "float"
        },
        {
         "name": "unemployment",
         "rawType": "float64",
         "type": "float"
        },
        {
         "name": "fx_usd",
         "rawType": "float64",
         "type": "float"
        },
        {
         "name": "net_gdp_growth",
         "rawType": "float64",
         "type": "float"
        }
       ],
       "ref": "fad30ef9-d5c2-4664-bce5-8a1ed24e660e",
       "rows": [
        [
         "USA",
         "2024",
         "2.1",
         "60000.0",
         "3.2",
         "5.25",
         "3.8",
         "1.0",
         "-1.1"
        ],
        [
         "Eurozone",
         "2024",
         "1.3",
         null,
         "2.5",
         "4.0",
         "6.5",
         "1.09",
         "-1.2"
        ],
        [
         "Japan",
         "2024",
         "0.7",
         "40000.0",
         "1.0",
         "-0.1",
         "2.6",
         "143.5",
         "-0.30000000000000004"
        ],
        [
         "UK",
         "2024",
         "1.5",
         null,
         "2.8",
         "5.0",
         "4.2",
         "0.79",
         "-1.2999999999999998"
        ],
        [
         "Canada",
         "2024",
         "1.8",
         "55000.0",
         "2.2",
         "4.75",
         "5.1",
         "1.36",
         "-0.40000000000000013"
        ],
        [
         "Australia",
         "2024",
         "2.0",
         "70000.0",
         "2.6",
         "4.35",
         "4.0",
         "1.51",
         "-0.6000000000000001"
        ]
       ],
       "shape": {
        "columns": 8,
        "rows": 6
       }
      },
      "text/html": [
       "<div>\n",
       "<style scoped>\n",
       "    .dataframe tbody tr th:only-of-type {\n",
       "        vertical-align: middle;\n",
       "    }\n",
       "\n",
       "    .dataframe tbody tr th {\n",
       "        vertical-align: top;\n",
       "    }\n",
       "\n",
       "    .dataframe thead th {\n",
       "        text-align: right;\n",
       "    }\n",
       "</style>\n",
       "<table border=\"1\" class=\"dataframe\">\n",
       "  <thead>\n",
       "    <tr style=\"text-align: right;\">\n",
       "      <th></th>\n",
       "      <th>year</th>\n",
       "      <th>gdp_growth</th>\n",
       "      <th>gdp_per_capita</th>\n",
       "      <th>inflation</th>\n",
       "      <th>policy_rate</th>\n",
       "      <th>unemployment</th>\n",
       "      <th>fx_usd</th>\n",
       "      <th>net_gdp_growth</th>\n",
       "    </tr>\n",
       "    <tr>\n",
       "      <th>area</th>\n",
       "      <th></th>\n",
       "      <th></th>\n",
       "      <th></th>\n",
       "      <th></th>\n",
       "      <th></th>\n",
       "      <th></th>\n",
       "      <th></th>\n",
       "      <th></th>\n",
       "    </tr>\n",
       "  </thead>\n",
       "  <tbody>\n",
       "    <tr>\n",
       "      <th>USA</th>\n",
       "      <td>2024</td>\n",
       "      <td>2.1</td>\n",
       "      <td>60000.0</td>\n",
       "      <td>3.2</td>\n",
       "      <td>5.25</td>\n",
       "      <td>3.8</td>\n",
       "      <td>1.00</td>\n",
       "      <td>-1.1</td>\n",
       "    </tr>\n",
       "    <tr>\n",
       "      <th>Eurozone</th>\n",
       "      <td>2024</td>\n",
       "      <td>1.3</td>\n",
       "      <td>NaN</td>\n",
       "      <td>2.5</td>\n",
       "      <td>4.00</td>\n",
       "      <td>6.5</td>\n",
       "      <td>1.09</td>\n",
       "      <td>-1.2</td>\n",
       "    </tr>\n",
       "    <tr>\n",
       "      <th>Japan</th>\n",
       "      <td>2024</td>\n",
       "      <td>0.7</td>\n",
       "      <td>40000.0</td>\n",
       "      <td>1.0</td>\n",
       "      <td>-0.10</td>\n",
       "      <td>2.6</td>\n",
       "      <td>143.50</td>\n",
       "      <td>-0.3</td>\n",
       "    </tr>\n",
       "    <tr>\n",
       "      <th>UK</th>\n",
       "      <td>2024</td>\n",
       "      <td>1.5</td>\n",
       "      <td>NaN</td>\n",
       "      <td>2.8</td>\n",
       "      <td>5.00</td>\n",
       "      <td>4.2</td>\n",
       "      <td>0.79</td>\n",
       "      <td>-1.3</td>\n",
       "    </tr>\n",
       "    <tr>\n",
       "      <th>Canada</th>\n",
       "      <td>2024</td>\n",
       "      <td>1.8</td>\n",
       "      <td>55000.0</td>\n",
       "      <td>2.2</td>\n",
       "      <td>4.75</td>\n",
       "      <td>5.1</td>\n",
       "      <td>1.36</td>\n",
       "      <td>-0.4</td>\n",
       "    </tr>\n",
       "    <tr>\n",
       "      <th>Australia</th>\n",
       "      <td>2024</td>\n",
       "      <td>2.0</td>\n",
       "      <td>70000.0</td>\n",
       "      <td>2.6</td>\n",
       "      <td>4.35</td>\n",
       "      <td>4.0</td>\n",
       "      <td>1.51</td>\n",
       "      <td>-0.6</td>\n",
       "    </tr>\n",
       "  </tbody>\n",
       "</table>\n",
       "</div>"
      ],
      "text/plain": [
       "           year  gdp_growth  gdp_per_capita  inflation  policy_rate  \\\n",
       "area                                                                  \n",
       "USA        2024         2.1         60000.0        3.2         5.25   \n",
       "Eurozone   2024         1.3             NaN        2.5         4.00   \n",
       "Japan      2024         0.7         40000.0        1.0        -0.10   \n",
       "UK         2024         1.5             NaN        2.8         5.00   \n",
       "Canada     2024         1.8         55000.0        2.2         4.75   \n",
       "Australia  2024         2.0         70000.0        2.6         4.35   \n",
       "\n",
       "           unemployment  fx_usd  net_gdp_growth  \n",
       "area                                             \n",
       "USA                 3.8    1.00            -1.1  \n",
       "Eurozone            6.5    1.09            -1.2  \n",
       "Japan               2.6  143.50            -0.3  \n",
       "UK                  4.2    0.79            -1.3  \n",
       "Canada              5.1    1.36            -0.4  \n",
       "Australia           4.0    1.51            -0.6  "
      ]
     },
     "execution_count": 2302,
     "metadata": {},
     "output_type": "execute_result"
    }
   ],
   "source": [
    "df.drop(\"avg_weather\", axis=1)"
   ]
  },
  {
   "cell_type": "markdown",
   "metadata": {},
   "source": [
    "We can update the variable `df` by either overwriting `df` or passing an `inplace` keyword:"
   ]
  },
  {
   "cell_type": "code",
   "execution_count": 2303,
   "metadata": {},
   "outputs": [
    {
     "data": {
      "application/vnd.microsoft.datawrangler.viewer.v0+json": {
       "columns": [
        {
         "name": "area",
         "rawType": "object",
         "type": "string"
        },
        {
         "name": "year",
         "rawType": "int64",
         "type": "integer"
        },
        {
         "name": "gdp_growth",
         "rawType": "float64",
         "type": "float"
        },
        {
         "name": "gdp_per_capita",
         "rawType": "float64",
         "type": "float"
        },
        {
         "name": "inflation",
         "rawType": "float64",
         "type": "float"
        },
        {
         "name": "policy_rate",
         "rawType": "float64",
         "type": "float"
        },
        {
         "name": "unemployment",
         "rawType": "float64",
         "type": "float"
        },
        {
         "name": "fx_usd",
         "rawType": "float64",
         "type": "float"
        },
        {
         "name": "avg_weather",
         "rawType": "float64",
         "type": "float"
        }
       ],
       "ref": "74afab9f-e8b8-41a4-a615-c5e2fe41febf",
       "rows": [
        [
         "USA",
         "2024",
         "2.1",
         "60000.0",
         "3.2",
         "5.25",
         "3.8",
         "1.0",
         "20.5"
        ],
        [
         "Eurozone",
         "2024",
         "1.3",
         null,
         "2.5",
         "4.0",
         "6.5",
         "1.09",
         "18.0"
        ],
        [
         "Japan",
         "2024",
         "0.7",
         "40000.0",
         "1.0",
         "-0.1",
         "2.6",
         "143.5",
         "15.0"
        ],
        [
         "UK",
         "2024",
         "1.5",
         null,
         "2.8",
         "5.0",
         "4.2",
         "0.79",
         "12.5"
        ],
        [
         "Canada",
         "2024",
         "1.8",
         "55000.0",
         "2.2",
         "4.75",
         "5.1",
         "1.36",
         "10.0"
        ],
        [
         "Australia",
         "2024",
         "2.0",
         "70000.0",
         "2.6",
         "4.35",
         "4.0",
         "1.51",
         "22.0"
        ]
       ],
       "shape": {
        "columns": 8,
        "rows": 6
       }
      },
      "text/html": [
       "<div>\n",
       "<style scoped>\n",
       "    .dataframe tbody tr th:only-of-type {\n",
       "        vertical-align: middle;\n",
       "    }\n",
       "\n",
       "    .dataframe tbody tr th {\n",
       "        vertical-align: top;\n",
       "    }\n",
       "\n",
       "    .dataframe thead th {\n",
       "        text-align: right;\n",
       "    }\n",
       "</style>\n",
       "<table border=\"1\" class=\"dataframe\">\n",
       "  <thead>\n",
       "    <tr style=\"text-align: right;\">\n",
       "      <th></th>\n",
       "      <th>year</th>\n",
       "      <th>gdp_growth</th>\n",
       "      <th>gdp_per_capita</th>\n",
       "      <th>inflation</th>\n",
       "      <th>policy_rate</th>\n",
       "      <th>unemployment</th>\n",
       "      <th>fx_usd</th>\n",
       "      <th>avg_weather</th>\n",
       "    </tr>\n",
       "    <tr>\n",
       "      <th>area</th>\n",
       "      <th></th>\n",
       "      <th></th>\n",
       "      <th></th>\n",
       "      <th></th>\n",
       "      <th></th>\n",
       "      <th></th>\n",
       "      <th></th>\n",
       "      <th></th>\n",
       "    </tr>\n",
       "  </thead>\n",
       "  <tbody>\n",
       "    <tr>\n",
       "      <th>USA</th>\n",
       "      <td>2024</td>\n",
       "      <td>2.1</td>\n",
       "      <td>60000.0</td>\n",
       "      <td>3.2</td>\n",
       "      <td>5.25</td>\n",
       "      <td>3.8</td>\n",
       "      <td>1.00</td>\n",
       "      <td>20.5</td>\n",
       "    </tr>\n",
       "    <tr>\n",
       "      <th>Eurozone</th>\n",
       "      <td>2024</td>\n",
       "      <td>1.3</td>\n",
       "      <td>NaN</td>\n",
       "      <td>2.5</td>\n",
       "      <td>4.00</td>\n",
       "      <td>6.5</td>\n",
       "      <td>1.09</td>\n",
       "      <td>18.0</td>\n",
       "    </tr>\n",
       "    <tr>\n",
       "      <th>Japan</th>\n",
       "      <td>2024</td>\n",
       "      <td>0.7</td>\n",
       "      <td>40000.0</td>\n",
       "      <td>1.0</td>\n",
       "      <td>-0.10</td>\n",
       "      <td>2.6</td>\n",
       "      <td>143.50</td>\n",
       "      <td>15.0</td>\n",
       "    </tr>\n",
       "    <tr>\n",
       "      <th>UK</th>\n",
       "      <td>2024</td>\n",
       "      <td>1.5</td>\n",
       "      <td>NaN</td>\n",
       "      <td>2.8</td>\n",
       "      <td>5.00</td>\n",
       "      <td>4.2</td>\n",
       "      <td>0.79</td>\n",
       "      <td>12.5</td>\n",
       "    </tr>\n",
       "    <tr>\n",
       "      <th>Canada</th>\n",
       "      <td>2024</td>\n",
       "      <td>1.8</td>\n",
       "      <td>55000.0</td>\n",
       "      <td>2.2</td>\n",
       "      <td>4.75</td>\n",
       "      <td>5.1</td>\n",
       "      <td>1.36</td>\n",
       "      <td>10.0</td>\n",
       "    </tr>\n",
       "    <tr>\n",
       "      <th>Australia</th>\n",
       "      <td>2024</td>\n",
       "      <td>2.0</td>\n",
       "      <td>70000.0</td>\n",
       "      <td>2.6</td>\n",
       "      <td>4.35</td>\n",
       "      <td>4.0</td>\n",
       "      <td>1.51</td>\n",
       "      <td>22.0</td>\n",
       "    </tr>\n",
       "  </tbody>\n",
       "</table>\n",
       "</div>"
      ],
      "text/plain": [
       "           year  gdp_growth  gdp_per_capita  inflation  policy_rate  \\\n",
       "area                                                                  \n",
       "USA        2024         2.1         60000.0        3.2         5.25   \n",
       "Eurozone   2024         1.3             NaN        2.5         4.00   \n",
       "Japan      2024         0.7         40000.0        1.0        -0.10   \n",
       "UK         2024         1.5             NaN        2.8         5.00   \n",
       "Canada     2024         1.8         55000.0        2.2         4.75   \n",
       "Australia  2024         2.0         70000.0        2.6         4.35   \n",
       "\n",
       "           unemployment  fx_usd  avg_weather  \n",
       "area                                          \n",
       "USA                 3.8    1.00         20.5  \n",
       "Eurozone            6.5    1.09         18.0  \n",
       "Japan               2.6  143.50         15.0  \n",
       "UK                  4.2    0.79         12.5  \n",
       "Canada              5.1    1.36         10.0  \n",
       "Australia           4.0    1.51         22.0  "
      ]
     },
     "execution_count": 2303,
     "metadata": {},
     "output_type": "execute_result"
    }
   ],
   "source": [
    "df = df.drop(\"net_gdp_growth\", axis=1) # Overwrite df without the 'net_gdp_growth' column\n",
    "df"
   ]
  },
  {
   "cell_type": "code",
   "execution_count": 2304,
   "metadata": {},
   "outputs": [
    {
     "data": {
      "application/vnd.microsoft.datawrangler.viewer.v0+json": {
       "columns": [
        {
         "name": "area",
         "rawType": "object",
         "type": "string"
        },
        {
         "name": "gdp_growth",
         "rawType": "float64",
         "type": "float"
        },
        {
         "name": "gdp_per_capita",
         "rawType": "float64",
         "type": "float"
        },
        {
         "name": "inflation",
         "rawType": "float64",
         "type": "float"
        },
        {
         "name": "policy_rate",
         "rawType": "float64",
         "type": "float"
        },
        {
         "name": "unemployment",
         "rawType": "float64",
         "type": "float"
        },
        {
         "name": "fx_usd",
         "rawType": "float64",
         "type": "float"
        },
        {
         "name": "avg_weather",
         "rawType": "float64",
         "type": "float"
        }
       ],
       "ref": "8e6c9f14-0759-4611-9fbd-f859bf10544b",
       "rows": [
        [
         "USA",
         "2.1",
         "60000.0",
         "3.2",
         "5.25",
         "3.8",
         "1.0",
         "20.5"
        ],
        [
         "Eurozone",
         "1.3",
         null,
         "2.5",
         "4.0",
         "6.5",
         "1.09",
         "18.0"
        ],
        [
         "Japan",
         "0.7",
         "40000.0",
         "1.0",
         "-0.1",
         "2.6",
         "143.5",
         "15.0"
        ],
        [
         "UK",
         "1.5",
         null,
         "2.8",
         "5.0",
         "4.2",
         "0.79",
         "12.5"
        ],
        [
         "Canada",
         "1.8",
         "55000.0",
         "2.2",
         "4.75",
         "5.1",
         "1.36",
         "10.0"
        ],
        [
         "Australia",
         "2.0",
         "70000.0",
         "2.6",
         "4.35",
         "4.0",
         "1.51",
         "22.0"
        ]
       ],
       "shape": {
        "columns": 7,
        "rows": 6
       }
      },
      "text/html": [
       "<div>\n",
       "<style scoped>\n",
       "    .dataframe tbody tr th:only-of-type {\n",
       "        vertical-align: middle;\n",
       "    }\n",
       "\n",
       "    .dataframe tbody tr th {\n",
       "        vertical-align: top;\n",
       "    }\n",
       "\n",
       "    .dataframe thead th {\n",
       "        text-align: right;\n",
       "    }\n",
       "</style>\n",
       "<table border=\"1\" class=\"dataframe\">\n",
       "  <thead>\n",
       "    <tr style=\"text-align: right;\">\n",
       "      <th></th>\n",
       "      <th>gdp_growth</th>\n",
       "      <th>gdp_per_capita</th>\n",
       "      <th>inflation</th>\n",
       "      <th>policy_rate</th>\n",
       "      <th>unemployment</th>\n",
       "      <th>fx_usd</th>\n",
       "      <th>avg_weather</th>\n",
       "    </tr>\n",
       "    <tr>\n",
       "      <th>area</th>\n",
       "      <th></th>\n",
       "      <th></th>\n",
       "      <th></th>\n",
       "      <th></th>\n",
       "      <th></th>\n",
       "      <th></th>\n",
       "      <th></th>\n",
       "    </tr>\n",
       "  </thead>\n",
       "  <tbody>\n",
       "    <tr>\n",
       "      <th>USA</th>\n",
       "      <td>2.1</td>\n",
       "      <td>60000.0</td>\n",
       "      <td>3.2</td>\n",
       "      <td>5.25</td>\n",
       "      <td>3.8</td>\n",
       "      <td>1.00</td>\n",
       "      <td>20.5</td>\n",
       "    </tr>\n",
       "    <tr>\n",
       "      <th>Eurozone</th>\n",
       "      <td>1.3</td>\n",
       "      <td>NaN</td>\n",
       "      <td>2.5</td>\n",
       "      <td>4.00</td>\n",
       "      <td>6.5</td>\n",
       "      <td>1.09</td>\n",
       "      <td>18.0</td>\n",
       "    </tr>\n",
       "    <tr>\n",
       "      <th>Japan</th>\n",
       "      <td>0.7</td>\n",
       "      <td>40000.0</td>\n",
       "      <td>1.0</td>\n",
       "      <td>-0.10</td>\n",
       "      <td>2.6</td>\n",
       "      <td>143.50</td>\n",
       "      <td>15.0</td>\n",
       "    </tr>\n",
       "    <tr>\n",
       "      <th>UK</th>\n",
       "      <td>1.5</td>\n",
       "      <td>NaN</td>\n",
       "      <td>2.8</td>\n",
       "      <td>5.00</td>\n",
       "      <td>4.2</td>\n",
       "      <td>0.79</td>\n",
       "      <td>12.5</td>\n",
       "    </tr>\n",
       "    <tr>\n",
       "      <th>Canada</th>\n",
       "      <td>1.8</td>\n",
       "      <td>55000.0</td>\n",
       "      <td>2.2</td>\n",
       "      <td>4.75</td>\n",
       "      <td>5.1</td>\n",
       "      <td>1.36</td>\n",
       "      <td>10.0</td>\n",
       "    </tr>\n",
       "    <tr>\n",
       "      <th>Australia</th>\n",
       "      <td>2.0</td>\n",
       "      <td>70000.0</td>\n",
       "      <td>2.6</td>\n",
       "      <td>4.35</td>\n",
       "      <td>4.0</td>\n",
       "      <td>1.51</td>\n",
       "      <td>22.0</td>\n",
       "    </tr>\n",
       "  </tbody>\n",
       "</table>\n",
       "</div>"
      ],
      "text/plain": [
       "           gdp_growth  gdp_per_capita  inflation  policy_rate  unemployment  \\\n",
       "area                                                                          \n",
       "USA               2.1         60000.0        3.2         5.25           3.8   \n",
       "Eurozone          1.3             NaN        2.5         4.00           6.5   \n",
       "Japan             0.7         40000.0        1.0        -0.10           2.6   \n",
       "UK                1.5             NaN        2.8         5.00           4.2   \n",
       "Canada            1.8         55000.0        2.2         4.75           5.1   \n",
       "Australia         2.0         70000.0        2.6         4.35           4.0   \n",
       "\n",
       "           fx_usd  avg_weather  \n",
       "area                            \n",
       "USA          1.00         20.5  \n",
       "Eurozone     1.09         18.0  \n",
       "Japan      143.50         15.0  \n",
       "UK           0.79         12.5  \n",
       "Canada       1.36         10.0  \n",
       "Australia    1.51         22.0  "
      ]
     },
     "execution_count": 2304,
     "metadata": {},
     "output_type": "execute_result"
    }
   ],
   "source": [
    "df.drop(\"year\", axis=1, inplace=True) # Drop the 'year' column in place\n",
    "df"
   ]
  },
  {
   "cell_type": "markdown",
   "metadata": {},
   "source": [
    "We can also drop columns with NaN values"
   ]
  },
  {
   "cell_type": "code",
   "execution_count": 2305,
   "metadata": {},
   "outputs": [
    {
     "data": {
      "application/vnd.microsoft.datawrangler.viewer.v0+json": {
       "columns": [
        {
         "name": "area",
         "rawType": "object",
         "type": "string"
        },
        {
         "name": "gdp_growth",
         "rawType": "float64",
         "type": "float"
        },
        {
         "name": "inflation",
         "rawType": "float64",
         "type": "float"
        },
        {
         "name": "policy_rate",
         "rawType": "float64",
         "type": "float"
        },
        {
         "name": "unemployment",
         "rawType": "float64",
         "type": "float"
        },
        {
         "name": "fx_usd",
         "rawType": "float64",
         "type": "float"
        },
        {
         "name": "avg_weather",
         "rawType": "float64",
         "type": "float"
        }
       ],
       "ref": "5ced15d0-3b79-4fa2-bad7-00af52f36e7d",
       "rows": [
        [
         "USA",
         "2.1",
         "3.2",
         "5.25",
         "3.8",
         "1.0",
         "20.5"
        ],
        [
         "Eurozone",
         "1.3",
         "2.5",
         "4.0",
         "6.5",
         "1.09",
         "18.0"
        ],
        [
         "Japan",
         "0.7",
         "1.0",
         "-0.1",
         "2.6",
         "143.5",
         "15.0"
        ],
        [
         "UK",
         "1.5",
         "2.8",
         "5.0",
         "4.2",
         "0.79",
         "12.5"
        ],
        [
         "Canada",
         "1.8",
         "2.2",
         "4.75",
         "5.1",
         "1.36",
         "10.0"
        ],
        [
         "Australia",
         "2.0",
         "2.6",
         "4.35",
         "4.0",
         "1.51",
         "22.0"
        ]
       ],
       "shape": {
        "columns": 6,
        "rows": 6
       }
      },
      "text/html": [
       "<div>\n",
       "<style scoped>\n",
       "    .dataframe tbody tr th:only-of-type {\n",
       "        vertical-align: middle;\n",
       "    }\n",
       "\n",
       "    .dataframe tbody tr th {\n",
       "        vertical-align: top;\n",
       "    }\n",
       "\n",
       "    .dataframe thead th {\n",
       "        text-align: right;\n",
       "    }\n",
       "</style>\n",
       "<table border=\"1\" class=\"dataframe\">\n",
       "  <thead>\n",
       "    <tr style=\"text-align: right;\">\n",
       "      <th></th>\n",
       "      <th>gdp_growth</th>\n",
       "      <th>inflation</th>\n",
       "      <th>policy_rate</th>\n",
       "      <th>unemployment</th>\n",
       "      <th>fx_usd</th>\n",
       "      <th>avg_weather</th>\n",
       "    </tr>\n",
       "    <tr>\n",
       "      <th>area</th>\n",
       "      <th></th>\n",
       "      <th></th>\n",
       "      <th></th>\n",
       "      <th></th>\n",
       "      <th></th>\n",
       "      <th></th>\n",
       "    </tr>\n",
       "  </thead>\n",
       "  <tbody>\n",
       "    <tr>\n",
       "      <th>USA</th>\n",
       "      <td>2.1</td>\n",
       "      <td>3.2</td>\n",
       "      <td>5.25</td>\n",
       "      <td>3.8</td>\n",
       "      <td>1.00</td>\n",
       "      <td>20.5</td>\n",
       "    </tr>\n",
       "    <tr>\n",
       "      <th>Eurozone</th>\n",
       "      <td>1.3</td>\n",
       "      <td>2.5</td>\n",
       "      <td>4.00</td>\n",
       "      <td>6.5</td>\n",
       "      <td>1.09</td>\n",
       "      <td>18.0</td>\n",
       "    </tr>\n",
       "    <tr>\n",
       "      <th>Japan</th>\n",
       "      <td>0.7</td>\n",
       "      <td>1.0</td>\n",
       "      <td>-0.10</td>\n",
       "      <td>2.6</td>\n",
       "      <td>143.50</td>\n",
       "      <td>15.0</td>\n",
       "    </tr>\n",
       "    <tr>\n",
       "      <th>UK</th>\n",
       "      <td>1.5</td>\n",
       "      <td>2.8</td>\n",
       "      <td>5.00</td>\n",
       "      <td>4.2</td>\n",
       "      <td>0.79</td>\n",
       "      <td>12.5</td>\n",
       "    </tr>\n",
       "    <tr>\n",
       "      <th>Canada</th>\n",
       "      <td>1.8</td>\n",
       "      <td>2.2</td>\n",
       "      <td>4.75</td>\n",
       "      <td>5.1</td>\n",
       "      <td>1.36</td>\n",
       "      <td>10.0</td>\n",
       "    </tr>\n",
       "    <tr>\n",
       "      <th>Australia</th>\n",
       "      <td>2.0</td>\n",
       "      <td>2.6</td>\n",
       "      <td>4.35</td>\n",
       "      <td>4.0</td>\n",
       "      <td>1.51</td>\n",
       "      <td>22.0</td>\n",
       "    </tr>\n",
       "  </tbody>\n",
       "</table>\n",
       "</div>"
      ],
      "text/plain": [
       "           gdp_growth  inflation  policy_rate  unemployment  fx_usd  \\\n",
       "area                                                                  \n",
       "USA               2.1        3.2         5.25           3.8    1.00   \n",
       "Eurozone          1.3        2.5         4.00           6.5    1.09   \n",
       "Japan             0.7        1.0        -0.10           2.6  143.50   \n",
       "UK                1.5        2.8         5.00           4.2    0.79   \n",
       "Canada            1.8        2.2         4.75           5.1    1.36   \n",
       "Australia         2.0        2.6         4.35           4.0    1.51   \n",
       "\n",
       "           avg_weather  \n",
       "area                    \n",
       "USA               20.5  \n",
       "Eurozone          18.0  \n",
       "Japan             15.0  \n",
       "UK                12.5  \n",
       "Canada            10.0  \n",
       "Australia         22.0  "
      ]
     },
     "execution_count": 2305,
     "metadata": {},
     "output_type": "execute_result"
    }
   ],
   "source": [
    "df.dropna(axis=1)"
   ]
  },
  {
   "cell_type": "markdown",
   "metadata": {},
   "source": [
    "Or fill it up with default \"fallback\" data:"
   ]
  },
  {
   "cell_type": "code",
   "execution_count": 2306,
   "metadata": {},
   "outputs": [
    {
     "data": {
      "application/vnd.microsoft.datawrangler.viewer.v0+json": {
       "columns": [
        {
         "name": "area",
         "rawType": "object",
         "type": "string"
        },
        {
         "name": "gdp_growth",
         "rawType": "float64",
         "type": "float"
        },
        {
         "name": "gdp_per_capita",
         "rawType": "float64",
         "type": "float"
        },
        {
         "name": "inflation",
         "rawType": "float64",
         "type": "float"
        },
        {
         "name": "policy_rate",
         "rawType": "float64",
         "type": "float"
        },
        {
         "name": "unemployment",
         "rawType": "float64",
         "type": "float"
        },
        {
         "name": "fx_usd",
         "rawType": "float64",
         "type": "float"
        },
        {
         "name": "avg_weather",
         "rawType": "float64",
         "type": "float"
        }
       ],
       "ref": "bcd521c0-ca38-4f46-8c36-447128cf4228",
       "rows": [
        [
         "USA",
         "2.1",
         "60000.0",
         "3.2",
         "5.25",
         "3.8",
         "1.0",
         "20.5"
        ],
        [
         "Eurozone",
         "1.3",
         "57500.0",
         "2.5",
         "4.0",
         "6.5",
         "1.09",
         "18.0"
        ],
        [
         "Japan",
         "0.7",
         "40000.0",
         "1.0",
         "-0.1",
         "2.6",
         "143.5",
         "15.0"
        ],
        [
         "UK",
         "1.5",
         "57500.0",
         "2.8",
         "5.0",
         "4.2",
         "0.79",
         "12.5"
        ],
        [
         "Canada",
         "1.8",
         "55000.0",
         "2.2",
         "4.75",
         "5.1",
         "1.36",
         "10.0"
        ],
        [
         "Australia",
         "2.0",
         "70000.0",
         "2.6",
         "4.35",
         "4.0",
         "1.51",
         "22.0"
        ]
       ],
       "shape": {
        "columns": 7,
        "rows": 6
       }
      },
      "text/html": [
       "<div>\n",
       "<style scoped>\n",
       "    .dataframe tbody tr th:only-of-type {\n",
       "        vertical-align: middle;\n",
       "    }\n",
       "\n",
       "    .dataframe tbody tr th {\n",
       "        vertical-align: top;\n",
       "    }\n",
       "\n",
       "    .dataframe thead th {\n",
       "        text-align: right;\n",
       "    }\n",
       "</style>\n",
       "<table border=\"1\" class=\"dataframe\">\n",
       "  <thead>\n",
       "    <tr style=\"text-align: right;\">\n",
       "      <th></th>\n",
       "      <th>gdp_growth</th>\n",
       "      <th>gdp_per_capita</th>\n",
       "      <th>inflation</th>\n",
       "      <th>policy_rate</th>\n",
       "      <th>unemployment</th>\n",
       "      <th>fx_usd</th>\n",
       "      <th>avg_weather</th>\n",
       "    </tr>\n",
       "    <tr>\n",
       "      <th>area</th>\n",
       "      <th></th>\n",
       "      <th></th>\n",
       "      <th></th>\n",
       "      <th></th>\n",
       "      <th></th>\n",
       "      <th></th>\n",
       "      <th></th>\n",
       "    </tr>\n",
       "  </thead>\n",
       "  <tbody>\n",
       "    <tr>\n",
       "      <th>USA</th>\n",
       "      <td>2.1</td>\n",
       "      <td>60000.0</td>\n",
       "      <td>3.2</td>\n",
       "      <td>5.25</td>\n",
       "      <td>3.8</td>\n",
       "      <td>1.00</td>\n",
       "      <td>20.5</td>\n",
       "    </tr>\n",
       "    <tr>\n",
       "      <th>Eurozone</th>\n",
       "      <td>1.3</td>\n",
       "      <td>57500.0</td>\n",
       "      <td>2.5</td>\n",
       "      <td>4.00</td>\n",
       "      <td>6.5</td>\n",
       "      <td>1.09</td>\n",
       "      <td>18.0</td>\n",
       "    </tr>\n",
       "    <tr>\n",
       "      <th>Japan</th>\n",
       "      <td>0.7</td>\n",
       "      <td>40000.0</td>\n",
       "      <td>1.0</td>\n",
       "      <td>-0.10</td>\n",
       "      <td>2.6</td>\n",
       "      <td>143.50</td>\n",
       "      <td>15.0</td>\n",
       "    </tr>\n",
       "    <tr>\n",
       "      <th>UK</th>\n",
       "      <td>1.5</td>\n",
       "      <td>57500.0</td>\n",
       "      <td>2.8</td>\n",
       "      <td>5.00</td>\n",
       "      <td>4.2</td>\n",
       "      <td>0.79</td>\n",
       "      <td>12.5</td>\n",
       "    </tr>\n",
       "    <tr>\n",
       "      <th>Canada</th>\n",
       "      <td>1.8</td>\n",
       "      <td>55000.0</td>\n",
       "      <td>2.2</td>\n",
       "      <td>4.75</td>\n",
       "      <td>5.1</td>\n",
       "      <td>1.36</td>\n",
       "      <td>10.0</td>\n",
       "    </tr>\n",
       "    <tr>\n",
       "      <th>Australia</th>\n",
       "      <td>2.0</td>\n",
       "      <td>70000.0</td>\n",
       "      <td>2.6</td>\n",
       "      <td>4.35</td>\n",
       "      <td>4.0</td>\n",
       "      <td>1.51</td>\n",
       "      <td>22.0</td>\n",
       "    </tr>\n",
       "  </tbody>\n",
       "</table>\n",
       "</div>"
      ],
      "text/plain": [
       "           gdp_growth  gdp_per_capita  inflation  policy_rate  unemployment  \\\n",
       "area                                                                          \n",
       "USA               2.1         60000.0        3.2         5.25           3.8   \n",
       "Eurozone          1.3         57500.0        2.5         4.00           6.5   \n",
       "Japan             0.7         40000.0        1.0        -0.10           2.6   \n",
       "UK                1.5         57500.0        2.8         5.00           4.2   \n",
       "Canada            1.8         55000.0        2.2         4.75           5.1   \n",
       "Australia         2.0         70000.0        2.6         4.35           4.0   \n",
       "\n",
       "           fx_usd  avg_weather  \n",
       "area                            \n",
       "USA          1.00         20.5  \n",
       "Eurozone     1.09         18.0  \n",
       "Japan      143.50         15.0  \n",
       "UK           0.79         12.5  \n",
       "Canada       1.36         10.0  \n",
       "Australia    1.51         22.0  "
      ]
     },
     "execution_count": 2306,
     "metadata": {},
     "output_type": "execute_result"
    }
   ],
   "source": [
    "df.fillna(df.gdp_per_capita.median(), inplace=True)\n",
    "df"
   ]
  },
  {
   "cell_type": "markdown",
   "metadata": {},
   "source": [
    "### **5.2.5. Sorting Data**"
   ]
  },
  {
   "cell_type": "markdown",
   "metadata": {},
   "source": [
    "We can also sort the entries in dataframes, e.g. alphabetically by index or numerically by column values\n",
    "\n",
    "| What to Sort         | Method/Option         | Code Pattern (Abstraction)                       | Notes                                      |\n",
    "|----------------------|----------------------|--------------------------------------------------|--------------------------------------------|\n",
    "| By column(s)         | `sort_values()`      | `df.sort_values(by=col)`                         | Sort by one column (ascending by default)  |\n",
    "| By multiple columns  | `sort_values()`      | `df.sort_values(by=[col1, col2])`                | Sort by several columns (priority order)   |\n",
    "| By column(s), descending | `sort_values()`  | `df.sort_values(by=col, ascending=False)`         | Sort in descending order                   |\n",
    "| By multiple columns, custom order | `sort_values()` | `df.sort_values(by=[col1, col2], ascending=[True, False])` | Custom order for each column      |\n",
    "| By index             | `sort_index()`       | `df.sort_index()`                                | Sort by row index (ascending by default)   |\n",
    "| By index, descending | `sort_index()`       | `df.sort_index(ascending=False)`                 | Sort index in descending order             |\n",
    "| By columns (column labels) | `sort_index()` | `df.sort_index(axis=1)`                          | Sort columns by their labels               |\n",
    "| By columns, descending | `sort_index()`     | `df.sort_index(axis=1, ascending=False)`         | Sort columns in descending order           |\n"
   ]
  },
  {
   "cell_type": "code",
   "execution_count": 2307,
   "metadata": {},
   "outputs": [
    {
     "data": {
      "application/vnd.microsoft.datawrangler.viewer.v0+json": {
       "columns": [
        {
         "name": "area",
         "rawType": "object",
         "type": "string"
        },
        {
         "name": "gdp_growth",
         "rawType": "float64",
         "type": "float"
        },
        {
         "name": "gdp_per_capita",
         "rawType": "float64",
         "type": "float"
        },
        {
         "name": "inflation",
         "rawType": "float64",
         "type": "float"
        },
        {
         "name": "policy_rate",
         "rawType": "float64",
         "type": "float"
        },
        {
         "name": "unemployment",
         "rawType": "float64",
         "type": "float"
        },
        {
         "name": "fx_usd",
         "rawType": "float64",
         "type": "float"
        },
        {
         "name": "avg_weather",
         "rawType": "float64",
         "type": "float"
        }
       ],
       "ref": "f454e9dd-e891-462b-a0a6-5818cf7bcc18",
       "rows": [
        [
         "Australia",
         "2.0",
         "70000.0",
         "2.6",
         "4.35",
         "4.0",
         "1.51",
         "22.0"
        ],
        [
         "Canada",
         "1.8",
         "55000.0",
         "2.2",
         "4.75",
         "5.1",
         "1.36",
         "10.0"
        ],
        [
         "Eurozone",
         "1.3",
         "57500.0",
         "2.5",
         "4.0",
         "6.5",
         "1.09",
         "18.0"
        ],
        [
         "Japan",
         "0.7",
         "40000.0",
         "1.0",
         "-0.1",
         "2.6",
         "143.5",
         "15.0"
        ],
        [
         "UK",
         "1.5",
         "57500.0",
         "2.8",
         "5.0",
         "4.2",
         "0.79",
         "12.5"
        ],
        [
         "USA",
         "2.1",
         "60000.0",
         "3.2",
         "5.25",
         "3.8",
         "1.0",
         "20.5"
        ]
       ],
       "shape": {
        "columns": 7,
        "rows": 6
       }
      },
      "text/html": [
       "<div>\n",
       "<style scoped>\n",
       "    .dataframe tbody tr th:only-of-type {\n",
       "        vertical-align: middle;\n",
       "    }\n",
       "\n",
       "    .dataframe tbody tr th {\n",
       "        vertical-align: top;\n",
       "    }\n",
       "\n",
       "    .dataframe thead th {\n",
       "        text-align: right;\n",
       "    }\n",
       "</style>\n",
       "<table border=\"1\" class=\"dataframe\">\n",
       "  <thead>\n",
       "    <tr style=\"text-align: right;\">\n",
       "      <th></th>\n",
       "      <th>gdp_growth</th>\n",
       "      <th>gdp_per_capita</th>\n",
       "      <th>inflation</th>\n",
       "      <th>policy_rate</th>\n",
       "      <th>unemployment</th>\n",
       "      <th>fx_usd</th>\n",
       "      <th>avg_weather</th>\n",
       "    </tr>\n",
       "    <tr>\n",
       "      <th>area</th>\n",
       "      <th></th>\n",
       "      <th></th>\n",
       "      <th></th>\n",
       "      <th></th>\n",
       "      <th></th>\n",
       "      <th></th>\n",
       "      <th></th>\n",
       "    </tr>\n",
       "  </thead>\n",
       "  <tbody>\n",
       "    <tr>\n",
       "      <th>Australia</th>\n",
       "      <td>2.0</td>\n",
       "      <td>70000.0</td>\n",
       "      <td>2.6</td>\n",
       "      <td>4.35</td>\n",
       "      <td>4.0</td>\n",
       "      <td>1.51</td>\n",
       "      <td>22.0</td>\n",
       "    </tr>\n",
       "    <tr>\n",
       "      <th>Canada</th>\n",
       "      <td>1.8</td>\n",
       "      <td>55000.0</td>\n",
       "      <td>2.2</td>\n",
       "      <td>4.75</td>\n",
       "      <td>5.1</td>\n",
       "      <td>1.36</td>\n",
       "      <td>10.0</td>\n",
       "    </tr>\n",
       "    <tr>\n",
       "      <th>Eurozone</th>\n",
       "      <td>1.3</td>\n",
       "      <td>57500.0</td>\n",
       "      <td>2.5</td>\n",
       "      <td>4.00</td>\n",
       "      <td>6.5</td>\n",
       "      <td>1.09</td>\n",
       "      <td>18.0</td>\n",
       "    </tr>\n",
       "    <tr>\n",
       "      <th>Japan</th>\n",
       "      <td>0.7</td>\n",
       "      <td>40000.0</td>\n",
       "      <td>1.0</td>\n",
       "      <td>-0.10</td>\n",
       "      <td>2.6</td>\n",
       "      <td>143.50</td>\n",
       "      <td>15.0</td>\n",
       "    </tr>\n",
       "    <tr>\n",
       "      <th>UK</th>\n",
       "      <td>1.5</td>\n",
       "      <td>57500.0</td>\n",
       "      <td>2.8</td>\n",
       "      <td>5.00</td>\n",
       "      <td>4.2</td>\n",
       "      <td>0.79</td>\n",
       "      <td>12.5</td>\n",
       "    </tr>\n",
       "    <tr>\n",
       "      <th>USA</th>\n",
       "      <td>2.1</td>\n",
       "      <td>60000.0</td>\n",
       "      <td>3.2</td>\n",
       "      <td>5.25</td>\n",
       "      <td>3.8</td>\n",
       "      <td>1.00</td>\n",
       "      <td>20.5</td>\n",
       "    </tr>\n",
       "  </tbody>\n",
       "</table>\n",
       "</div>"
      ],
      "text/plain": [
       "           gdp_growth  gdp_per_capita  inflation  policy_rate  unemployment  \\\n",
       "area                                                                          \n",
       "Australia         2.0         70000.0        2.6         4.35           4.0   \n",
       "Canada            1.8         55000.0        2.2         4.75           5.1   \n",
       "Eurozone          1.3         57500.0        2.5         4.00           6.5   \n",
       "Japan             0.7         40000.0        1.0        -0.10           2.6   \n",
       "UK                1.5         57500.0        2.8         5.00           4.2   \n",
       "USA               2.1         60000.0        3.2         5.25           3.8   \n",
       "\n",
       "           fx_usd  avg_weather  \n",
       "area                            \n",
       "Australia    1.51         22.0  \n",
       "Canada       1.36         10.0  \n",
       "Eurozone     1.09         18.0  \n",
       "Japan      143.50         15.0  \n",
       "UK           0.79         12.5  \n",
       "USA          1.00         20.5  "
      ]
     },
     "execution_count": 2307,
     "metadata": {},
     "output_type": "execute_result"
    }
   ],
   "source": [
    "df.sort_index()"
   ]
  },
  {
   "cell_type": "code",
   "execution_count": 2308,
   "metadata": {},
   "outputs": [
    {
     "data": {
      "application/vnd.microsoft.datawrangler.viewer.v0+json": {
       "columns": [
        {
         "name": "area",
         "rawType": "object",
         "type": "string"
        },
        {
         "name": "avg_weather",
         "rawType": "float64",
         "type": "float"
        },
        {
         "name": "fx_usd",
         "rawType": "float64",
         "type": "float"
        },
        {
         "name": "gdp_growth",
         "rawType": "float64",
         "type": "float"
        },
        {
         "name": "gdp_per_capita",
         "rawType": "float64",
         "type": "float"
        },
        {
         "name": "inflation",
         "rawType": "float64",
         "type": "float"
        },
        {
         "name": "policy_rate",
         "rawType": "float64",
         "type": "float"
        },
        {
         "name": "unemployment",
         "rawType": "float64",
         "type": "float"
        }
       ],
       "ref": "da0acefb-2050-42dc-a74b-6fdde63e4b25",
       "rows": [
        [
         "USA",
         "20.5",
         "1.0",
         "2.1",
         "60000.0",
         "3.2",
         "5.25",
         "3.8"
        ],
        [
         "Eurozone",
         "18.0",
         "1.09",
         "1.3",
         "57500.0",
         "2.5",
         "4.0",
         "6.5"
        ],
        [
         "Japan",
         "15.0",
         "143.5",
         "0.7",
         "40000.0",
         "1.0",
         "-0.1",
         "2.6"
        ],
        [
         "UK",
         "12.5",
         "0.79",
         "1.5",
         "57500.0",
         "2.8",
         "5.0",
         "4.2"
        ],
        [
         "Canada",
         "10.0",
         "1.36",
         "1.8",
         "55000.0",
         "2.2",
         "4.75",
         "5.1"
        ],
        [
         "Australia",
         "22.0",
         "1.51",
         "2.0",
         "70000.0",
         "2.6",
         "4.35",
         "4.0"
        ]
       ],
       "shape": {
        "columns": 7,
        "rows": 6
       }
      },
      "text/html": [
       "<div>\n",
       "<style scoped>\n",
       "    .dataframe tbody tr th:only-of-type {\n",
       "        vertical-align: middle;\n",
       "    }\n",
       "\n",
       "    .dataframe tbody tr th {\n",
       "        vertical-align: top;\n",
       "    }\n",
       "\n",
       "    .dataframe thead th {\n",
       "        text-align: right;\n",
       "    }\n",
       "</style>\n",
       "<table border=\"1\" class=\"dataframe\">\n",
       "  <thead>\n",
       "    <tr style=\"text-align: right;\">\n",
       "      <th></th>\n",
       "      <th>avg_weather</th>\n",
       "      <th>fx_usd</th>\n",
       "      <th>gdp_growth</th>\n",
       "      <th>gdp_per_capita</th>\n",
       "      <th>inflation</th>\n",
       "      <th>policy_rate</th>\n",
       "      <th>unemployment</th>\n",
       "    </tr>\n",
       "    <tr>\n",
       "      <th>area</th>\n",
       "      <th></th>\n",
       "      <th></th>\n",
       "      <th></th>\n",
       "      <th></th>\n",
       "      <th></th>\n",
       "      <th></th>\n",
       "      <th></th>\n",
       "    </tr>\n",
       "  </thead>\n",
       "  <tbody>\n",
       "    <tr>\n",
       "      <th>USA</th>\n",
       "      <td>20.5</td>\n",
       "      <td>1.00</td>\n",
       "      <td>2.1</td>\n",
       "      <td>60000.0</td>\n",
       "      <td>3.2</td>\n",
       "      <td>5.25</td>\n",
       "      <td>3.8</td>\n",
       "    </tr>\n",
       "    <tr>\n",
       "      <th>Eurozone</th>\n",
       "      <td>18.0</td>\n",
       "      <td>1.09</td>\n",
       "      <td>1.3</td>\n",
       "      <td>57500.0</td>\n",
       "      <td>2.5</td>\n",
       "      <td>4.00</td>\n",
       "      <td>6.5</td>\n",
       "    </tr>\n",
       "    <tr>\n",
       "      <th>Japan</th>\n",
       "      <td>15.0</td>\n",
       "      <td>143.50</td>\n",
       "      <td>0.7</td>\n",
       "      <td>40000.0</td>\n",
       "      <td>1.0</td>\n",
       "      <td>-0.10</td>\n",
       "      <td>2.6</td>\n",
       "    </tr>\n",
       "    <tr>\n",
       "      <th>UK</th>\n",
       "      <td>12.5</td>\n",
       "      <td>0.79</td>\n",
       "      <td>1.5</td>\n",
       "      <td>57500.0</td>\n",
       "      <td>2.8</td>\n",
       "      <td>5.00</td>\n",
       "      <td>4.2</td>\n",
       "    </tr>\n",
       "    <tr>\n",
       "      <th>Canada</th>\n",
       "      <td>10.0</td>\n",
       "      <td>1.36</td>\n",
       "      <td>1.8</td>\n",
       "      <td>55000.0</td>\n",
       "      <td>2.2</td>\n",
       "      <td>4.75</td>\n",
       "      <td>5.1</td>\n",
       "    </tr>\n",
       "    <tr>\n",
       "      <th>Australia</th>\n",
       "      <td>22.0</td>\n",
       "      <td>1.51</td>\n",
       "      <td>2.0</td>\n",
       "      <td>70000.0</td>\n",
       "      <td>2.6</td>\n",
       "      <td>4.35</td>\n",
       "      <td>4.0</td>\n",
       "    </tr>\n",
       "  </tbody>\n",
       "</table>\n",
       "</div>"
      ],
      "text/plain": [
       "           avg_weather  fx_usd  gdp_growth  gdp_per_capita  inflation  \\\n",
       "area                                                                    \n",
       "USA               20.5    1.00         2.1         60000.0        3.2   \n",
       "Eurozone          18.0    1.09         1.3         57500.0        2.5   \n",
       "Japan             15.0  143.50         0.7         40000.0        1.0   \n",
       "UK                12.5    0.79         1.5         57500.0        2.8   \n",
       "Canada            10.0    1.36         1.8         55000.0        2.2   \n",
       "Australia         22.0    1.51         2.0         70000.0        2.6   \n",
       "\n",
       "           policy_rate  unemployment  \n",
       "area                                  \n",
       "USA               5.25           3.8  \n",
       "Eurozone          4.00           6.5  \n",
       "Japan            -0.10           2.6  \n",
       "UK                5.00           4.2  \n",
       "Canada            4.75           5.1  \n",
       "Australia         4.35           4.0  "
      ]
     },
     "execution_count": 2308,
     "metadata": {},
     "output_type": "execute_result"
    }
   ],
   "source": [
    "df.sort_index(axis=1)"
   ]
  },
  {
   "cell_type": "code",
   "execution_count": 2309,
   "metadata": {},
   "outputs": [
    {
     "data": {
      "application/vnd.microsoft.datawrangler.viewer.v0+json": {
       "columns": [
        {
         "name": "area",
         "rawType": "object",
         "type": "string"
        },
        {
         "name": "avg_weather",
         "rawType": "float64",
         "type": "float"
        },
        {
         "name": "fx_usd",
         "rawType": "float64",
         "type": "float"
        },
        {
         "name": "gdp_growth",
         "rawType": "float64",
         "type": "float"
        },
        {
         "name": "gdp_per_capita",
         "rawType": "float64",
         "type": "float"
        },
        {
         "name": "inflation",
         "rawType": "float64",
         "type": "float"
        },
        {
         "name": "policy_rate",
         "rawType": "float64",
         "type": "float"
        },
        {
         "name": "unemployment",
         "rawType": "float64",
         "type": "float"
        }
       ],
       "ref": "5261f9fb-b912-4211-9e87-4cee0dcfc7ce",
       "rows": [
        [
         "Australia",
         "22.0",
         "1.51",
         "2.0",
         "70000.0",
         "2.6",
         "4.35",
         "4.0"
        ],
        [
         "Canada",
         "10.0",
         "1.36",
         "1.8",
         "55000.0",
         "2.2",
         "4.75",
         "5.1"
        ],
        [
         "Eurozone",
         "18.0",
         "1.09",
         "1.3",
         "57500.0",
         "2.5",
         "4.0",
         "6.5"
        ],
        [
         "Japan",
         "15.0",
         "143.5",
         "0.7",
         "40000.0",
         "1.0",
         "-0.1",
         "2.6"
        ],
        [
         "UK",
         "12.5",
         "0.79",
         "1.5",
         "57500.0",
         "2.8",
         "5.0",
         "4.2"
        ],
        [
         "USA",
         "20.5",
         "1.0",
         "2.1",
         "60000.0",
         "3.2",
         "5.25",
         "3.8"
        ]
       ],
       "shape": {
        "columns": 7,
        "rows": 6
       }
      },
      "text/html": [
       "<div>\n",
       "<style scoped>\n",
       "    .dataframe tbody tr th:only-of-type {\n",
       "        vertical-align: middle;\n",
       "    }\n",
       "\n",
       "    .dataframe tbody tr th {\n",
       "        vertical-align: top;\n",
       "    }\n",
       "\n",
       "    .dataframe thead th {\n",
       "        text-align: right;\n",
       "    }\n",
       "</style>\n",
       "<table border=\"1\" class=\"dataframe\">\n",
       "  <thead>\n",
       "    <tr style=\"text-align: right;\">\n",
       "      <th></th>\n",
       "      <th>avg_weather</th>\n",
       "      <th>fx_usd</th>\n",
       "      <th>gdp_growth</th>\n",
       "      <th>gdp_per_capita</th>\n",
       "      <th>inflation</th>\n",
       "      <th>policy_rate</th>\n",
       "      <th>unemployment</th>\n",
       "    </tr>\n",
       "    <tr>\n",
       "      <th>area</th>\n",
       "      <th></th>\n",
       "      <th></th>\n",
       "      <th></th>\n",
       "      <th></th>\n",
       "      <th></th>\n",
       "      <th></th>\n",
       "      <th></th>\n",
       "    </tr>\n",
       "  </thead>\n",
       "  <tbody>\n",
       "    <tr>\n",
       "      <th>Australia</th>\n",
       "      <td>22.0</td>\n",
       "      <td>1.51</td>\n",
       "      <td>2.0</td>\n",
       "      <td>70000.0</td>\n",
       "      <td>2.6</td>\n",
       "      <td>4.35</td>\n",
       "      <td>4.0</td>\n",
       "    </tr>\n",
       "    <tr>\n",
       "      <th>Canada</th>\n",
       "      <td>10.0</td>\n",
       "      <td>1.36</td>\n",
       "      <td>1.8</td>\n",
       "      <td>55000.0</td>\n",
       "      <td>2.2</td>\n",
       "      <td>4.75</td>\n",
       "      <td>5.1</td>\n",
       "    </tr>\n",
       "    <tr>\n",
       "      <th>Eurozone</th>\n",
       "      <td>18.0</td>\n",
       "      <td>1.09</td>\n",
       "      <td>1.3</td>\n",
       "      <td>57500.0</td>\n",
       "      <td>2.5</td>\n",
       "      <td>4.00</td>\n",
       "      <td>6.5</td>\n",
       "    </tr>\n",
       "    <tr>\n",
       "      <th>Japan</th>\n",
       "      <td>15.0</td>\n",
       "      <td>143.50</td>\n",
       "      <td>0.7</td>\n",
       "      <td>40000.0</td>\n",
       "      <td>1.0</td>\n",
       "      <td>-0.10</td>\n",
       "      <td>2.6</td>\n",
       "    </tr>\n",
       "    <tr>\n",
       "      <th>UK</th>\n",
       "      <td>12.5</td>\n",
       "      <td>0.79</td>\n",
       "      <td>1.5</td>\n",
       "      <td>57500.0</td>\n",
       "      <td>2.8</td>\n",
       "      <td>5.00</td>\n",
       "      <td>4.2</td>\n",
       "    </tr>\n",
       "    <tr>\n",
       "      <th>USA</th>\n",
       "      <td>20.5</td>\n",
       "      <td>1.00</td>\n",
       "      <td>2.1</td>\n",
       "      <td>60000.0</td>\n",
       "      <td>3.2</td>\n",
       "      <td>5.25</td>\n",
       "      <td>3.8</td>\n",
       "    </tr>\n",
       "  </tbody>\n",
       "</table>\n",
       "</div>"
      ],
      "text/plain": [
       "           avg_weather  fx_usd  gdp_growth  gdp_per_capita  inflation  \\\n",
       "area                                                                    \n",
       "Australia         22.0    1.51         2.0         70000.0        2.6   \n",
       "Canada            10.0    1.36         1.8         55000.0        2.2   \n",
       "Eurozone          18.0    1.09         1.3         57500.0        2.5   \n",
       "Japan             15.0  143.50         0.7         40000.0        1.0   \n",
       "UK                12.5    0.79         1.5         57500.0        2.8   \n",
       "USA               20.5    1.00         2.1         60000.0        3.2   \n",
       "\n",
       "           policy_rate  unemployment  \n",
       "area                                  \n",
       "Australia         4.35           4.0  \n",
       "Canada            4.75           5.1  \n",
       "Eurozone          4.00           6.5  \n",
       "Japan            -0.10           2.6  \n",
       "UK                5.00           4.2  \n",
       "USA               5.25           3.8  "
      ]
     },
     "execution_count": 2309,
     "metadata": {},
     "output_type": "execute_result"
    }
   ],
   "source": [
    "df.sort_index(axis=0).sort_index(axis=1)"
   ]
  },
  {
   "cell_type": "code",
   "execution_count": 2310,
   "metadata": {},
   "outputs": [
    {
     "data": {
      "application/vnd.microsoft.datawrangler.viewer.v0+json": {
       "columns": [
        {
         "name": "area",
         "rawType": "object",
         "type": "string"
        },
        {
         "name": "gdp_growth",
         "rawType": "float64",
         "type": "float"
        },
        {
         "name": "gdp_per_capita",
         "rawType": "float64",
         "type": "float"
        },
        {
         "name": "inflation",
         "rawType": "float64",
         "type": "float"
        },
        {
         "name": "policy_rate",
         "rawType": "float64",
         "type": "float"
        },
        {
         "name": "unemployment",
         "rawType": "float64",
         "type": "float"
        },
        {
         "name": "fx_usd",
         "rawType": "float64",
         "type": "float"
        },
        {
         "name": "avg_weather",
         "rawType": "float64",
         "type": "float"
        }
       ],
       "ref": "75373cb6-321e-4121-81a9-65c4cf87c556",
       "rows": [
        [
         "USA",
         "2.1",
         "60000.0",
         "3.2",
         "5.25",
         "3.8",
         "1.0",
         "20.5"
        ],
        [
         "Australia",
         "2.0",
         "70000.0",
         "2.6",
         "4.35",
         "4.0",
         "1.51",
         "22.0"
        ],
        [
         "Canada",
         "1.8",
         "55000.0",
         "2.2",
         "4.75",
         "5.1",
         "1.36",
         "10.0"
        ],
        [
         "UK",
         "1.5",
         "57500.0",
         "2.8",
         "5.0",
         "4.2",
         "0.79",
         "12.5"
        ],
        [
         "Eurozone",
         "1.3",
         "57500.0",
         "2.5",
         "4.0",
         "6.5",
         "1.09",
         "18.0"
        ],
        [
         "Japan",
         "0.7",
         "40000.0",
         "1.0",
         "-0.1",
         "2.6",
         "143.5",
         "15.0"
        ]
       ],
       "shape": {
        "columns": 7,
        "rows": 6
       }
      },
      "text/html": [
       "<div>\n",
       "<style scoped>\n",
       "    .dataframe tbody tr th:only-of-type {\n",
       "        vertical-align: middle;\n",
       "    }\n",
       "\n",
       "    .dataframe tbody tr th {\n",
       "        vertical-align: top;\n",
       "    }\n",
       "\n",
       "    .dataframe thead th {\n",
       "        text-align: right;\n",
       "    }\n",
       "</style>\n",
       "<table border=\"1\" class=\"dataframe\">\n",
       "  <thead>\n",
       "    <tr style=\"text-align: right;\">\n",
       "      <th></th>\n",
       "      <th>gdp_growth</th>\n",
       "      <th>gdp_per_capita</th>\n",
       "      <th>inflation</th>\n",
       "      <th>policy_rate</th>\n",
       "      <th>unemployment</th>\n",
       "      <th>fx_usd</th>\n",
       "      <th>avg_weather</th>\n",
       "    </tr>\n",
       "    <tr>\n",
       "      <th>area</th>\n",
       "      <th></th>\n",
       "      <th></th>\n",
       "      <th></th>\n",
       "      <th></th>\n",
       "      <th></th>\n",
       "      <th></th>\n",
       "      <th></th>\n",
       "    </tr>\n",
       "  </thead>\n",
       "  <tbody>\n",
       "    <tr>\n",
       "      <th>USA</th>\n",
       "      <td>2.1</td>\n",
       "      <td>60000.0</td>\n",
       "      <td>3.2</td>\n",
       "      <td>5.25</td>\n",
       "      <td>3.8</td>\n",
       "      <td>1.00</td>\n",
       "      <td>20.5</td>\n",
       "    </tr>\n",
       "    <tr>\n",
       "      <th>Australia</th>\n",
       "      <td>2.0</td>\n",
       "      <td>70000.0</td>\n",
       "      <td>2.6</td>\n",
       "      <td>4.35</td>\n",
       "      <td>4.0</td>\n",
       "      <td>1.51</td>\n",
       "      <td>22.0</td>\n",
       "    </tr>\n",
       "    <tr>\n",
       "      <th>Canada</th>\n",
       "      <td>1.8</td>\n",
       "      <td>55000.0</td>\n",
       "      <td>2.2</td>\n",
       "      <td>4.75</td>\n",
       "      <td>5.1</td>\n",
       "      <td>1.36</td>\n",
       "      <td>10.0</td>\n",
       "    </tr>\n",
       "    <tr>\n",
       "      <th>UK</th>\n",
       "      <td>1.5</td>\n",
       "      <td>57500.0</td>\n",
       "      <td>2.8</td>\n",
       "      <td>5.00</td>\n",
       "      <td>4.2</td>\n",
       "      <td>0.79</td>\n",
       "      <td>12.5</td>\n",
       "    </tr>\n",
       "    <tr>\n",
       "      <th>Eurozone</th>\n",
       "      <td>1.3</td>\n",
       "      <td>57500.0</td>\n",
       "      <td>2.5</td>\n",
       "      <td>4.00</td>\n",
       "      <td>6.5</td>\n",
       "      <td>1.09</td>\n",
       "      <td>18.0</td>\n",
       "    </tr>\n",
       "    <tr>\n",
       "      <th>Japan</th>\n",
       "      <td>0.7</td>\n",
       "      <td>40000.0</td>\n",
       "      <td>1.0</td>\n",
       "      <td>-0.10</td>\n",
       "      <td>2.6</td>\n",
       "      <td>143.50</td>\n",
       "      <td>15.0</td>\n",
       "    </tr>\n",
       "  </tbody>\n",
       "</table>\n",
       "</div>"
      ],
      "text/plain": [
       "           gdp_growth  gdp_per_capita  inflation  policy_rate  unemployment  \\\n",
       "area                                                                          \n",
       "USA               2.1         60000.0        3.2         5.25           3.8   \n",
       "Australia         2.0         70000.0        2.6         4.35           4.0   \n",
       "Canada            1.8         55000.0        2.2         4.75           5.1   \n",
       "UK                1.5         57500.0        2.8         5.00           4.2   \n",
       "Eurozone          1.3         57500.0        2.5         4.00           6.5   \n",
       "Japan             0.7         40000.0        1.0        -0.10           2.6   \n",
       "\n",
       "           fx_usd  avg_weather  \n",
       "area                            \n",
       "USA          1.00         20.5  \n",
       "Australia    1.51         22.0  \n",
       "Canada       1.36         10.0  \n",
       "UK           0.79         12.5  \n",
       "Eurozone     1.09         18.0  \n",
       "Japan      143.50         15.0  "
      ]
     },
     "execution_count": 2310,
     "metadata": {},
     "output_type": "execute_result"
    }
   ],
   "source": [
    "df.sort_values(by=\"gdp_growth\", ascending=False)"
   ]
  },
  {
   "cell_type": "code",
   "execution_count": 2311,
   "metadata": {},
   "outputs": [
    {
     "data": {
      "application/vnd.microsoft.datawrangler.viewer.v0+json": {
       "columns": [
        {
         "name": "area",
         "rawType": "object",
         "type": "string"
        },
        {
         "name": "gdp_growth",
         "rawType": "float64",
         "type": "float"
        },
        {
         "name": "gdp_per_capita",
         "rawType": "float64",
         "type": "float"
        },
        {
         "name": "inflation",
         "rawType": "float64",
         "type": "float"
        },
        {
         "name": "policy_rate",
         "rawType": "float64",
         "type": "float"
        },
        {
         "name": "unemployment",
         "rawType": "float64",
         "type": "float"
        },
        {
         "name": "fx_usd",
         "rawType": "float64",
         "type": "float"
        },
        {
         "name": "avg_weather",
         "rawType": "float64",
         "type": "float"
        }
       ],
       "ref": "48e2a1d9-eac7-417c-afb7-cd5c0d2a686e",
       "rows": [
        [
         "USA",
         "2.1",
         "60000.0",
         "3.2",
         "5.25",
         "3.8",
         "1.0",
         "20.5"
        ],
        [
         "Australia",
         "2.0",
         "70000.0",
         "2.6",
         "4.35",
         "4.0",
         "1.51",
         "22.0"
        ],
        [
         "Canada",
         "1.8",
         "55000.0",
         "2.2",
         "4.75",
         "5.1",
         "1.36",
         "10.0"
        ],
        [
         "UK",
         "1.5",
         "57500.0",
         "2.8",
         "5.0",
         "4.2",
         "0.79",
         "12.5"
        ],
        [
         "Eurozone",
         "1.3",
         "57500.0",
         "2.5",
         "4.0",
         "6.5",
         "1.09",
         "18.0"
        ],
        [
         "Japan",
         "0.7",
         "40000.0",
         "1.0",
         "-0.1",
         "2.6",
         "143.5",
         "15.0"
        ]
       ],
       "shape": {
        "columns": 7,
        "rows": 6
       }
      },
      "text/html": [
       "<div>\n",
       "<style scoped>\n",
       "    .dataframe tbody tr th:only-of-type {\n",
       "        vertical-align: middle;\n",
       "    }\n",
       "\n",
       "    .dataframe tbody tr th {\n",
       "        vertical-align: top;\n",
       "    }\n",
       "\n",
       "    .dataframe thead th {\n",
       "        text-align: right;\n",
       "    }\n",
       "</style>\n",
       "<table border=\"1\" class=\"dataframe\">\n",
       "  <thead>\n",
       "    <tr style=\"text-align: right;\">\n",
       "      <th></th>\n",
       "      <th>gdp_growth</th>\n",
       "      <th>gdp_per_capita</th>\n",
       "      <th>inflation</th>\n",
       "      <th>policy_rate</th>\n",
       "      <th>unemployment</th>\n",
       "      <th>fx_usd</th>\n",
       "      <th>avg_weather</th>\n",
       "    </tr>\n",
       "    <tr>\n",
       "      <th>area</th>\n",
       "      <th></th>\n",
       "      <th></th>\n",
       "      <th></th>\n",
       "      <th></th>\n",
       "      <th></th>\n",
       "      <th></th>\n",
       "      <th></th>\n",
       "    </tr>\n",
       "  </thead>\n",
       "  <tbody>\n",
       "    <tr>\n",
       "      <th>USA</th>\n",
       "      <td>2.1</td>\n",
       "      <td>60000.0</td>\n",
       "      <td>3.2</td>\n",
       "      <td>5.25</td>\n",
       "      <td>3.8</td>\n",
       "      <td>1.00</td>\n",
       "      <td>20.5</td>\n",
       "    </tr>\n",
       "    <tr>\n",
       "      <th>Australia</th>\n",
       "      <td>2.0</td>\n",
       "      <td>70000.0</td>\n",
       "      <td>2.6</td>\n",
       "      <td>4.35</td>\n",
       "      <td>4.0</td>\n",
       "      <td>1.51</td>\n",
       "      <td>22.0</td>\n",
       "    </tr>\n",
       "    <tr>\n",
       "      <th>Canada</th>\n",
       "      <td>1.8</td>\n",
       "      <td>55000.0</td>\n",
       "      <td>2.2</td>\n",
       "      <td>4.75</td>\n",
       "      <td>5.1</td>\n",
       "      <td>1.36</td>\n",
       "      <td>10.0</td>\n",
       "    </tr>\n",
       "    <tr>\n",
       "      <th>UK</th>\n",
       "      <td>1.5</td>\n",
       "      <td>57500.0</td>\n",
       "      <td>2.8</td>\n",
       "      <td>5.00</td>\n",
       "      <td>4.2</td>\n",
       "      <td>0.79</td>\n",
       "      <td>12.5</td>\n",
       "    </tr>\n",
       "    <tr>\n",
       "      <th>Eurozone</th>\n",
       "      <td>1.3</td>\n",
       "      <td>57500.0</td>\n",
       "      <td>2.5</td>\n",
       "      <td>4.00</td>\n",
       "      <td>6.5</td>\n",
       "      <td>1.09</td>\n",
       "      <td>18.0</td>\n",
       "    </tr>\n",
       "    <tr>\n",
       "      <th>Japan</th>\n",
       "      <td>0.7</td>\n",
       "      <td>40000.0</td>\n",
       "      <td>1.0</td>\n",
       "      <td>-0.10</td>\n",
       "      <td>2.6</td>\n",
       "      <td>143.50</td>\n",
       "      <td>15.0</td>\n",
       "    </tr>\n",
       "  </tbody>\n",
       "</table>\n",
       "</div>"
      ],
      "text/plain": [
       "           gdp_growth  gdp_per_capita  inflation  policy_rate  unemployment  \\\n",
       "area                                                                          \n",
       "USA               2.1         60000.0        3.2         5.25           3.8   \n",
       "Australia         2.0         70000.0        2.6         4.35           4.0   \n",
       "Canada            1.8         55000.0        2.2         4.75           5.1   \n",
       "UK                1.5         57500.0        2.8         5.00           4.2   \n",
       "Eurozone          1.3         57500.0        2.5         4.00           6.5   \n",
       "Japan             0.7         40000.0        1.0        -0.10           2.6   \n",
       "\n",
       "           fx_usd  avg_weather  \n",
       "area                            \n",
       "USA          1.00         20.5  \n",
       "Australia    1.51         22.0  \n",
       "Canada       1.36         10.0  \n",
       "UK           0.79         12.5  \n",
       "Eurozone     1.09         18.0  \n",
       "Japan      143.50         15.0  "
      ]
     },
     "execution_count": 2311,
     "metadata": {},
     "output_type": "execute_result"
    }
   ],
   "source": [
    "df.sort_values(by=\"gdp_growth\", ascending=False)"
   ]
  },
  {
   "cell_type": "code",
   "execution_count": 2312,
   "metadata": {},
   "outputs": [
    {
     "data": {
      "application/vnd.microsoft.datawrangler.viewer.v0+json": {
       "columns": [
        {
         "name": "area",
         "rawType": "object",
         "type": "string"
        },
        {
         "name": "gdp_growth",
         "rawType": "float64",
         "type": "float"
        },
        {
         "name": "gdp_per_capita",
         "rawType": "float64",
         "type": "float"
        },
        {
         "name": "inflation",
         "rawType": "float64",
         "type": "float"
        },
        {
         "name": "policy_rate",
         "rawType": "float64",
         "type": "float"
        },
        {
         "name": "unemployment",
         "rawType": "float64",
         "type": "float"
        },
        {
         "name": "fx_usd",
         "rawType": "float64",
         "type": "float"
        },
        {
         "name": "avg_weather",
         "rawType": "float64",
         "type": "float"
        }
       ],
       "ref": "3864290f-5f4e-427f-9cd6-32b0eb2dbd61",
       "rows": [
        [
         "Japan",
         "0.7",
         "40000.0",
         "1.0",
         "-0.1",
         "2.6",
         "143.5",
         "15.0"
        ],
        [
         "Eurozone",
         "1.3",
         "57500.0",
         "2.5",
         "4.0",
         "6.5",
         "1.09",
         "18.0"
        ],
        [
         "UK",
         "1.5",
         "57500.0",
         "2.8",
         "5.0",
         "4.2",
         "0.79",
         "12.5"
        ],
        [
         "Canada",
         "1.8",
         "55000.0",
         "2.2",
         "4.75",
         "5.1",
         "1.36",
         "10.0"
        ],
        [
         "Australia",
         "2.0",
         "70000.0",
         "2.6",
         "4.35",
         "4.0",
         "1.51",
         "22.0"
        ],
        [
         "USA",
         "2.1",
         "60000.0",
         "3.2",
         "5.25",
         "3.8",
         "1.0",
         "20.5"
        ]
       ],
       "shape": {
        "columns": 7,
        "rows": 6
       }
      },
      "text/html": [
       "<div>\n",
       "<style scoped>\n",
       "    .dataframe tbody tr th:only-of-type {\n",
       "        vertical-align: middle;\n",
       "    }\n",
       "\n",
       "    .dataframe tbody tr th {\n",
       "        vertical-align: top;\n",
       "    }\n",
       "\n",
       "    .dataframe thead th {\n",
       "        text-align: right;\n",
       "    }\n",
       "</style>\n",
       "<table border=\"1\" class=\"dataframe\">\n",
       "  <thead>\n",
       "    <tr style=\"text-align: right;\">\n",
       "      <th></th>\n",
       "      <th>gdp_growth</th>\n",
       "      <th>gdp_per_capita</th>\n",
       "      <th>inflation</th>\n",
       "      <th>policy_rate</th>\n",
       "      <th>unemployment</th>\n",
       "      <th>fx_usd</th>\n",
       "      <th>avg_weather</th>\n",
       "    </tr>\n",
       "    <tr>\n",
       "      <th>area</th>\n",
       "      <th></th>\n",
       "      <th></th>\n",
       "      <th></th>\n",
       "      <th></th>\n",
       "      <th></th>\n",
       "      <th></th>\n",
       "      <th></th>\n",
       "    </tr>\n",
       "  </thead>\n",
       "  <tbody>\n",
       "    <tr>\n",
       "      <th>Japan</th>\n",
       "      <td>0.7</td>\n",
       "      <td>40000.0</td>\n",
       "      <td>1.0</td>\n",
       "      <td>-0.10</td>\n",
       "      <td>2.6</td>\n",
       "      <td>143.50</td>\n",
       "      <td>15.0</td>\n",
       "    </tr>\n",
       "    <tr>\n",
       "      <th>Eurozone</th>\n",
       "      <td>1.3</td>\n",
       "      <td>57500.0</td>\n",
       "      <td>2.5</td>\n",
       "      <td>4.00</td>\n",
       "      <td>6.5</td>\n",
       "      <td>1.09</td>\n",
       "      <td>18.0</td>\n",
       "    </tr>\n",
       "    <tr>\n",
       "      <th>UK</th>\n",
       "      <td>1.5</td>\n",
       "      <td>57500.0</td>\n",
       "      <td>2.8</td>\n",
       "      <td>5.00</td>\n",
       "      <td>4.2</td>\n",
       "      <td>0.79</td>\n",
       "      <td>12.5</td>\n",
       "    </tr>\n",
       "    <tr>\n",
       "      <th>Canada</th>\n",
       "      <td>1.8</td>\n",
       "      <td>55000.0</td>\n",
       "      <td>2.2</td>\n",
       "      <td>4.75</td>\n",
       "      <td>5.1</td>\n",
       "      <td>1.36</td>\n",
       "      <td>10.0</td>\n",
       "    </tr>\n",
       "    <tr>\n",
       "      <th>Australia</th>\n",
       "      <td>2.0</td>\n",
       "      <td>70000.0</td>\n",
       "      <td>2.6</td>\n",
       "      <td>4.35</td>\n",
       "      <td>4.0</td>\n",
       "      <td>1.51</td>\n",
       "      <td>22.0</td>\n",
       "    </tr>\n",
       "    <tr>\n",
       "      <th>USA</th>\n",
       "      <td>2.1</td>\n",
       "      <td>60000.0</td>\n",
       "      <td>3.2</td>\n",
       "      <td>5.25</td>\n",
       "      <td>3.8</td>\n",
       "      <td>1.00</td>\n",
       "      <td>20.5</td>\n",
       "    </tr>\n",
       "  </tbody>\n",
       "</table>\n",
       "</div>"
      ],
      "text/plain": [
       "           gdp_growth  gdp_per_capita  inflation  policy_rate  unemployment  \\\n",
       "area                                                                          \n",
       "Japan             0.7         40000.0        1.0        -0.10           2.6   \n",
       "Eurozone          1.3         57500.0        2.5         4.00           6.5   \n",
       "UK                1.5         57500.0        2.8         5.00           4.2   \n",
       "Canada            1.8         55000.0        2.2         4.75           5.1   \n",
       "Australia         2.0         70000.0        2.6         4.35           4.0   \n",
       "USA               2.1         60000.0        3.2         5.25           3.8   \n",
       "\n",
       "           fx_usd  avg_weather  \n",
       "area                            \n",
       "Japan      143.50         15.0  \n",
       "Eurozone     1.09         18.0  \n",
       "UK           0.79         12.5  \n",
       "Canada       1.36         10.0  \n",
       "Australia    1.51         22.0  \n",
       "USA          1.00         20.5  "
      ]
     },
     "execution_count": 2312,
     "metadata": {},
     "output_type": "execute_result"
    }
   ],
   "source": [
    "df.sort_values(by=[\"gdp_growth\",\"gdp_per_capita\"], ascending=[True, False])"
   ]
  },
  {
   "cell_type": "markdown",
   "metadata": {},
   "source": [
    "If we make a calculation using columns from the DataFrame, it will keep the same index:"
   ]
  },
  {
   "cell_type": "markdown",
   "metadata": {},
   "source": [
    "### **5.2.6. Merging Data**\n",
    "\n",
    "Pandas supports a wide range of methods for merging different datasets. These are described extensively in the [documentation](https://pandas.pydata.org/pandas-docs/stable/merging.html). Here we just give a few examples."
   ]
  },
  {
   "cell_type": "markdown",
   "metadata": {},
   "source": [
    "| Method | Function | Description | Key Parameters | Use Case |\n",
    "|--------|----------|-------------|----------------|----------|\n",
    "| **Inner Join** | `pd.merge(df1, df2, how='inner')` | Returns only rows with matching keys in both dataframes | `on`, `left_on`, `right_on` | When you only want records that exist in both datasets |\n",
    "| **Left Join** | `pd.merge(df1, df2, how='left')` | Returns all rows from left dataframe, matching rows from right | `on`, `left_on`, `right_on` | Keep all records from primary dataset, add matching info |\n",
    "| **Right Join** | `pd.merge(df1, df2, how='right')` | Returns all rows from right dataframe, matching rows from left | `on`, `left_on`, `right_on` | Keep all records from secondary dataset |\n",
    "| **Outer Join** | `pd.merge(df1, df2, how='outer')` | Returns all rows from both dataframes | `on`, `left_on`, `right_on` | When you want all records from both datasets |\n",
    "| **Cross Join** | `pd.merge(df1, df2, how='cross')` | Cartesian product of both dataframes | None required | Create all possible combinations |\n",
    "| **Concat Vertical** | `pd.concat([df1, df2])` | Stacks dataframes vertically (rows) | `axis=0`, `ignore_index` | Combine datasets with same columns |\n",
    "| **Concat Horizontal** | `pd.concat([df1, df2], axis=1)` | Joins dataframes horizontally (columns) | `axis=1`, `join` | Combine datasets with same index |\n",
    "| **Join Method** | `df1.join(df2)` | Left join based on index | `how`, `lsuffix`, `rsuffix` | Quick join on index when columns don't overlap |"
   ]
  },
  {
   "cell_type": "code",
   "execution_count": 2313,
   "metadata": {},
   "outputs": [
    {
     "data": {
      "application/vnd.microsoft.datawrangler.viewer.v0+json": {
       "columns": [
        {
         "name": "area",
         "rawType": "object",
         "type": "string"
        },
        {
         "name": "exports_bn",
         "rawType": "int64",
         "type": "integer"
        },
        {
         "name": "imports_bn",
         "rawType": "int64",
         "type": "integer"
        },
        {
         "name": "trade_balance",
         "rawType": "int64",
         "type": "integer"
        }
       ],
       "ref": "a1fcc9de-d8f1-4ced-955f-f2de2373c4ab",
       "rows": [
        [
         "USA",
         "1650",
         "2407",
         "-757"
        ],
        [
         "Eurozone",
         "2200",
         "2000",
         "200"
        ],
        [
         "Japan",
         "705",
         "641",
         "64"
        ],
        [
         "China",
         "3360",
         "2601",
         "759"
        ],
        [
         "India",
         "323",
         "507",
         "-184"
        ],
        [
         "Brazil",
         "281",
         "219",
         "62"
        ]
       ],
       "shape": {
        "columns": 3,
        "rows": 6
       }
      },
      "text/html": [
       "<div>\n",
       "<style scoped>\n",
       "    .dataframe tbody tr th:only-of-type {\n",
       "        vertical-align: middle;\n",
       "    }\n",
       "\n",
       "    .dataframe tbody tr th {\n",
       "        vertical-align: top;\n",
       "    }\n",
       "\n",
       "    .dataframe thead th {\n",
       "        text-align: right;\n",
       "    }\n",
       "</style>\n",
       "<table border=\"1\" class=\"dataframe\">\n",
       "  <thead>\n",
       "    <tr style=\"text-align: right;\">\n",
       "      <th></th>\n",
       "      <th>exports_bn</th>\n",
       "      <th>imports_bn</th>\n",
       "      <th>trade_balance</th>\n",
       "    </tr>\n",
       "    <tr>\n",
       "      <th>area</th>\n",
       "      <th></th>\n",
       "      <th></th>\n",
       "      <th></th>\n",
       "    </tr>\n",
       "  </thead>\n",
       "  <tbody>\n",
       "    <tr>\n",
       "      <th>USA</th>\n",
       "      <td>1650</td>\n",
       "      <td>2407</td>\n",
       "      <td>-757</td>\n",
       "    </tr>\n",
       "    <tr>\n",
       "      <th>Eurozone</th>\n",
       "      <td>2200</td>\n",
       "      <td>2000</td>\n",
       "      <td>200</td>\n",
       "    </tr>\n",
       "    <tr>\n",
       "      <th>Japan</th>\n",
       "      <td>705</td>\n",
       "      <td>641</td>\n",
       "      <td>64</td>\n",
       "    </tr>\n",
       "    <tr>\n",
       "      <th>China</th>\n",
       "      <td>3360</td>\n",
       "      <td>2601</td>\n",
       "      <td>759</td>\n",
       "    </tr>\n",
       "    <tr>\n",
       "      <th>India</th>\n",
       "      <td>323</td>\n",
       "      <td>507</td>\n",
       "      <td>-184</td>\n",
       "    </tr>\n",
       "    <tr>\n",
       "      <th>Brazil</th>\n",
       "      <td>281</td>\n",
       "      <td>219</td>\n",
       "      <td>62</td>\n",
       "    </tr>\n",
       "  </tbody>\n",
       "</table>\n",
       "</div>"
      ],
      "text/plain": [
       "          exports_bn  imports_bn  trade_balance\n",
       "area                                           \n",
       "USA             1650        2407           -757\n",
       "Eurozone        2200        2000            200\n",
       "Japan            705         641             64\n",
       "China           3360        2601            759\n",
       "India            323         507           -184\n",
       "Brazil           281         219             62"
      ]
     },
     "execution_count": 2313,
     "metadata": {},
     "output_type": "execute_result"
    }
   ],
   "source": [
    "df_trade = pd.DataFrame({\n",
    "    \"area\": [\"USA\", \"Eurozone\", \"Japan\", \"China\", \"India\", \"Brazil\"],\n",
    "    \"exports_bn\": [1650, 2200, 705, 3360, 323, 281],\n",
    "    \"imports_bn\": [2407, 2000, 641, 2601, 507, 219],\n",
    "    \"trade_balance\": [-757, 200, 64, 759, -184, 62]\n",
    "}).set_index(\"area\")\n",
    "df_trade"
   ]
  },
  {
   "cell_type": "code",
   "execution_count": 2314,
   "metadata": {},
   "outputs": [
    {
     "data": {
      "application/vnd.microsoft.datawrangler.viewer.v0+json": {
       "columns": [
        {
         "name": "area",
         "rawType": "object",
         "type": "string"
        },
        {
         "name": "gdp_growth",
         "rawType": "float64",
         "type": "float"
        },
        {
         "name": "gdp_per_capita",
         "rawType": "float64",
         "type": "float"
        },
        {
         "name": "inflation",
         "rawType": "float64",
         "type": "float"
        },
        {
         "name": "policy_rate",
         "rawType": "float64",
         "type": "float"
        },
        {
         "name": "unemployment",
         "rawType": "float64",
         "type": "float"
        },
        {
         "name": "fx_usd",
         "rawType": "float64",
         "type": "float"
        },
        {
         "name": "avg_weather",
         "rawType": "float64",
         "type": "float"
        },
        {
         "name": "exports_bn",
         "rawType": "int64",
         "type": "integer"
        },
        {
         "name": "imports_bn",
         "rawType": "int64",
         "type": "integer"
        },
        {
         "name": "trade_balance",
         "rawType": "int64",
         "type": "integer"
        }
       ],
       "ref": "be05302b-e20b-4a6f-b0ea-f7e2bbc8aadf",
       "rows": [
        [
         "USA",
         "2.1",
         "60000.0",
         "3.2",
         "5.25",
         "3.8",
         "1.0",
         "20.5",
         "1650",
         "2407",
         "-757"
        ],
        [
         "Eurozone",
         "1.3",
         "57500.0",
         "2.5",
         "4.0",
         "6.5",
         "1.09",
         "18.0",
         "2200",
         "2000",
         "200"
        ],
        [
         "Japan",
         "0.7",
         "40000.0",
         "1.0",
         "-0.1",
         "2.6",
         "143.5",
         "15.0",
         "705",
         "641",
         "64"
        ]
       ],
       "shape": {
        "columns": 10,
        "rows": 3
       }
      },
      "text/html": [
       "<div>\n",
       "<style scoped>\n",
       "    .dataframe tbody tr th:only-of-type {\n",
       "        vertical-align: middle;\n",
       "    }\n",
       "\n",
       "    .dataframe tbody tr th {\n",
       "        vertical-align: top;\n",
       "    }\n",
       "\n",
       "    .dataframe thead th {\n",
       "        text-align: right;\n",
       "    }\n",
       "</style>\n",
       "<table border=\"1\" class=\"dataframe\">\n",
       "  <thead>\n",
       "    <tr style=\"text-align: right;\">\n",
       "      <th></th>\n",
       "      <th>gdp_growth</th>\n",
       "      <th>gdp_per_capita</th>\n",
       "      <th>inflation</th>\n",
       "      <th>policy_rate</th>\n",
       "      <th>unemployment</th>\n",
       "      <th>fx_usd</th>\n",
       "      <th>avg_weather</th>\n",
       "      <th>exports_bn</th>\n",
       "      <th>imports_bn</th>\n",
       "      <th>trade_balance</th>\n",
       "    </tr>\n",
       "    <tr>\n",
       "      <th>area</th>\n",
       "      <th></th>\n",
       "      <th></th>\n",
       "      <th></th>\n",
       "      <th></th>\n",
       "      <th></th>\n",
       "      <th></th>\n",
       "      <th></th>\n",
       "      <th></th>\n",
       "      <th></th>\n",
       "      <th></th>\n",
       "    </tr>\n",
       "  </thead>\n",
       "  <tbody>\n",
       "    <tr>\n",
       "      <th>USA</th>\n",
       "      <td>2.1</td>\n",
       "      <td>60000.0</td>\n",
       "      <td>3.2</td>\n",
       "      <td>5.25</td>\n",
       "      <td>3.8</td>\n",
       "      <td>1.00</td>\n",
       "      <td>20.5</td>\n",
       "      <td>1650</td>\n",
       "      <td>2407</td>\n",
       "      <td>-757</td>\n",
       "    </tr>\n",
       "    <tr>\n",
       "      <th>Eurozone</th>\n",
       "      <td>1.3</td>\n",
       "      <td>57500.0</td>\n",
       "      <td>2.5</td>\n",
       "      <td>4.00</td>\n",
       "      <td>6.5</td>\n",
       "      <td>1.09</td>\n",
       "      <td>18.0</td>\n",
       "      <td>2200</td>\n",
       "      <td>2000</td>\n",
       "      <td>200</td>\n",
       "    </tr>\n",
       "    <tr>\n",
       "      <th>Japan</th>\n",
       "      <td>0.7</td>\n",
       "      <td>40000.0</td>\n",
       "      <td>1.0</td>\n",
       "      <td>-0.10</td>\n",
       "      <td>2.6</td>\n",
       "      <td>143.50</td>\n",
       "      <td>15.0</td>\n",
       "      <td>705</td>\n",
       "      <td>641</td>\n",
       "      <td>64</td>\n",
       "    </tr>\n",
       "  </tbody>\n",
       "</table>\n",
       "</div>"
      ],
      "text/plain": [
       "          gdp_growth  gdp_per_capita  inflation  policy_rate  unemployment  \\\n",
       "area                                                                         \n",
       "USA              2.1         60000.0        3.2         5.25           3.8   \n",
       "Eurozone         1.3         57500.0        2.5         4.00           6.5   \n",
       "Japan            0.7         40000.0        1.0        -0.10           2.6   \n",
       "\n",
       "          fx_usd  avg_weather  exports_bn  imports_bn  trade_balance  \n",
       "area                                                                  \n",
       "USA         1.00         20.5        1650        2407           -757  \n",
       "Eurozone    1.09         18.0        2200        2000            200  \n",
       "Japan     143.50         15.0         705         641             64  "
      ]
     },
     "execution_count": 2314,
     "metadata": {},
     "output_type": "execute_result"
    }
   ],
   "source": [
    "inner_result = pd.merge(df, df_trade, how='inner', left_index=True, right_index=True)\n",
    "inner_result"
   ]
  },
  {
   "cell_type": "code",
   "execution_count": 2315,
   "metadata": {},
   "outputs": [
    {
     "data": {
      "application/vnd.microsoft.datawrangler.viewer.v0+json": {
       "columns": [
        {
         "name": "area",
         "rawType": "object",
         "type": "string"
        },
        {
         "name": "gdp_growth",
         "rawType": "float64",
         "type": "float"
        },
        {
         "name": "gdp_per_capita",
         "rawType": "float64",
         "type": "float"
        },
        {
         "name": "inflation",
         "rawType": "float64",
         "type": "float"
        },
        {
         "name": "policy_rate",
         "rawType": "float64",
         "type": "float"
        },
        {
         "name": "unemployment",
         "rawType": "float64",
         "type": "float"
        },
        {
         "name": "fx_usd",
         "rawType": "float64",
         "type": "float"
        },
        {
         "name": "avg_weather",
         "rawType": "float64",
         "type": "float"
        },
        {
         "name": "exports_bn",
         "rawType": "float64",
         "type": "float"
        },
        {
         "name": "imports_bn",
         "rawType": "float64",
         "type": "float"
        },
        {
         "name": "trade_balance",
         "rawType": "float64",
         "type": "float"
        }
       ],
       "ref": "3783a522-b7bd-40a2-b4e6-9b8781077e45",
       "rows": [
        [
         "USA",
         "2.1",
         "60000.0",
         "3.2",
         "5.25",
         "3.8",
         "1.0",
         "20.5",
         "1650.0",
         "2407.0",
         "-757.0"
        ],
        [
         "Eurozone",
         "1.3",
         "57500.0",
         "2.5",
         "4.0",
         "6.5",
         "1.09",
         "18.0",
         "2200.0",
         "2000.0",
         "200.0"
        ],
        [
         "Japan",
         "0.7",
         "40000.0",
         "1.0",
         "-0.1",
         "2.6",
         "143.5",
         "15.0",
         "705.0",
         "641.0",
         "64.0"
        ],
        [
         "UK",
         "1.5",
         "57500.0",
         "2.8",
         "5.0",
         "4.2",
         "0.79",
         "12.5",
         null,
         null,
         null
        ],
        [
         "Canada",
         "1.8",
         "55000.0",
         "2.2",
         "4.75",
         "5.1",
         "1.36",
         "10.0",
         null,
         null,
         null
        ],
        [
         "Australia",
         "2.0",
         "70000.0",
         "2.6",
         "4.35",
         "4.0",
         "1.51",
         "22.0",
         null,
         null,
         null
        ]
       ],
       "shape": {
        "columns": 10,
        "rows": 6
       }
      },
      "text/html": [
       "<div>\n",
       "<style scoped>\n",
       "    .dataframe tbody tr th:only-of-type {\n",
       "        vertical-align: middle;\n",
       "    }\n",
       "\n",
       "    .dataframe tbody tr th {\n",
       "        vertical-align: top;\n",
       "    }\n",
       "\n",
       "    .dataframe thead th {\n",
       "        text-align: right;\n",
       "    }\n",
       "</style>\n",
       "<table border=\"1\" class=\"dataframe\">\n",
       "  <thead>\n",
       "    <tr style=\"text-align: right;\">\n",
       "      <th></th>\n",
       "      <th>gdp_growth</th>\n",
       "      <th>gdp_per_capita</th>\n",
       "      <th>inflation</th>\n",
       "      <th>policy_rate</th>\n",
       "      <th>unemployment</th>\n",
       "      <th>fx_usd</th>\n",
       "      <th>avg_weather</th>\n",
       "      <th>exports_bn</th>\n",
       "      <th>imports_bn</th>\n",
       "      <th>trade_balance</th>\n",
       "    </tr>\n",
       "    <tr>\n",
       "      <th>area</th>\n",
       "      <th></th>\n",
       "      <th></th>\n",
       "      <th></th>\n",
       "      <th></th>\n",
       "      <th></th>\n",
       "      <th></th>\n",
       "      <th></th>\n",
       "      <th></th>\n",
       "      <th></th>\n",
       "      <th></th>\n",
       "    </tr>\n",
       "  </thead>\n",
       "  <tbody>\n",
       "    <tr>\n",
       "      <th>USA</th>\n",
       "      <td>2.1</td>\n",
       "      <td>60000.0</td>\n",
       "      <td>3.2</td>\n",
       "      <td>5.25</td>\n",
       "      <td>3.8</td>\n",
       "      <td>1.00</td>\n",
       "      <td>20.5</td>\n",
       "      <td>1650.0</td>\n",
       "      <td>2407.0</td>\n",
       "      <td>-757.0</td>\n",
       "    </tr>\n",
       "    <tr>\n",
       "      <th>Eurozone</th>\n",
       "      <td>1.3</td>\n",
       "      <td>57500.0</td>\n",
       "      <td>2.5</td>\n",
       "      <td>4.00</td>\n",
       "      <td>6.5</td>\n",
       "      <td>1.09</td>\n",
       "      <td>18.0</td>\n",
       "      <td>2200.0</td>\n",
       "      <td>2000.0</td>\n",
       "      <td>200.0</td>\n",
       "    </tr>\n",
       "    <tr>\n",
       "      <th>Japan</th>\n",
       "      <td>0.7</td>\n",
       "      <td>40000.0</td>\n",
       "      <td>1.0</td>\n",
       "      <td>-0.10</td>\n",
       "      <td>2.6</td>\n",
       "      <td>143.50</td>\n",
       "      <td>15.0</td>\n",
       "      <td>705.0</td>\n",
       "      <td>641.0</td>\n",
       "      <td>64.0</td>\n",
       "    </tr>\n",
       "    <tr>\n",
       "      <th>UK</th>\n",
       "      <td>1.5</td>\n",
       "      <td>57500.0</td>\n",
       "      <td>2.8</td>\n",
       "      <td>5.00</td>\n",
       "      <td>4.2</td>\n",
       "      <td>0.79</td>\n",
       "      <td>12.5</td>\n",
       "      <td>NaN</td>\n",
       "      <td>NaN</td>\n",
       "      <td>NaN</td>\n",
       "    </tr>\n",
       "    <tr>\n",
       "      <th>Canada</th>\n",
       "      <td>1.8</td>\n",
       "      <td>55000.0</td>\n",
       "      <td>2.2</td>\n",
       "      <td>4.75</td>\n",
       "      <td>5.1</td>\n",
       "      <td>1.36</td>\n",
       "      <td>10.0</td>\n",
       "      <td>NaN</td>\n",
       "      <td>NaN</td>\n",
       "      <td>NaN</td>\n",
       "    </tr>\n",
       "    <tr>\n",
       "      <th>Australia</th>\n",
       "      <td>2.0</td>\n",
       "      <td>70000.0</td>\n",
       "      <td>2.6</td>\n",
       "      <td>4.35</td>\n",
       "      <td>4.0</td>\n",
       "      <td>1.51</td>\n",
       "      <td>22.0</td>\n",
       "      <td>NaN</td>\n",
       "      <td>NaN</td>\n",
       "      <td>NaN</td>\n",
       "    </tr>\n",
       "  </tbody>\n",
       "</table>\n",
       "</div>"
      ],
      "text/plain": [
       "           gdp_growth  gdp_per_capita  inflation  policy_rate  unemployment  \\\n",
       "area                                                                          \n",
       "USA               2.1         60000.0        3.2         5.25           3.8   \n",
       "Eurozone          1.3         57500.0        2.5         4.00           6.5   \n",
       "Japan             0.7         40000.0        1.0        -0.10           2.6   \n",
       "UK                1.5         57500.0        2.8         5.00           4.2   \n",
       "Canada            1.8         55000.0        2.2         4.75           5.1   \n",
       "Australia         2.0         70000.0        2.6         4.35           4.0   \n",
       "\n",
       "           fx_usd  avg_weather  exports_bn  imports_bn  trade_balance  \n",
       "area                                                                   \n",
       "USA          1.00         20.5      1650.0      2407.0         -757.0  \n",
       "Eurozone     1.09         18.0      2200.0      2000.0          200.0  \n",
       "Japan      143.50         15.0       705.0       641.0           64.0  \n",
       "UK           0.79         12.5         NaN         NaN            NaN  \n",
       "Canada       1.36         10.0         NaN         NaN            NaN  \n",
       "Australia    1.51         22.0         NaN         NaN            NaN  "
      ]
     },
     "execution_count": 2315,
     "metadata": {},
     "output_type": "execute_result"
    }
   ],
   "source": [
    "left_result = pd.merge(df, df_trade, how='left', left_index=True, right_index=True)\n",
    "left_result"
   ]
  },
  {
   "cell_type": "code",
   "execution_count": 2316,
   "metadata": {},
   "outputs": [
    {
     "data": {
      "application/vnd.microsoft.datawrangler.viewer.v0+json": {
       "columns": [
        {
         "name": "area",
         "rawType": "object",
         "type": "string"
        },
        {
         "name": "gdp_growth",
         "rawType": "float64",
         "type": "float"
        },
        {
         "name": "gdp_per_capita",
         "rawType": "float64",
         "type": "float"
        },
        {
         "name": "inflation",
         "rawType": "float64",
         "type": "float"
        },
        {
         "name": "policy_rate",
         "rawType": "float64",
         "type": "float"
        },
        {
         "name": "unemployment",
         "rawType": "float64",
         "type": "float"
        },
        {
         "name": "fx_usd",
         "rawType": "float64",
         "type": "float"
        },
        {
         "name": "avg_weather",
         "rawType": "float64",
         "type": "float"
        },
        {
         "name": "exports_bn",
         "rawType": "int64",
         "type": "integer"
        },
        {
         "name": "imports_bn",
         "rawType": "int64",
         "type": "integer"
        },
        {
         "name": "trade_balance",
         "rawType": "int64",
         "type": "integer"
        }
       ],
       "ref": "aaa8cde9-0121-4be0-82bd-276c4d51de8d",
       "rows": [
        [
         "USA",
         "2.1",
         "60000.0",
         "3.2",
         "5.25",
         "3.8",
         "1.0",
         "20.5",
         "1650",
         "2407",
         "-757"
        ],
        [
         "Eurozone",
         "1.3",
         "57500.0",
         "2.5",
         "4.0",
         "6.5",
         "1.09",
         "18.0",
         "2200",
         "2000",
         "200"
        ],
        [
         "Japan",
         "0.7",
         "40000.0",
         "1.0",
         "-0.1",
         "2.6",
         "143.5",
         "15.0",
         "705",
         "641",
         "64"
        ],
        [
         "China",
         null,
         null,
         null,
         null,
         null,
         null,
         null,
         "3360",
         "2601",
         "759"
        ],
        [
         "India",
         null,
         null,
         null,
         null,
         null,
         null,
         null,
         "323",
         "507",
         "-184"
        ],
        [
         "Brazil",
         null,
         null,
         null,
         null,
         null,
         null,
         null,
         "281",
         "219",
         "62"
        ]
       ],
       "shape": {
        "columns": 10,
        "rows": 6
       }
      },
      "text/html": [
       "<div>\n",
       "<style scoped>\n",
       "    .dataframe tbody tr th:only-of-type {\n",
       "        vertical-align: middle;\n",
       "    }\n",
       "\n",
       "    .dataframe tbody tr th {\n",
       "        vertical-align: top;\n",
       "    }\n",
       "\n",
       "    .dataframe thead th {\n",
       "        text-align: right;\n",
       "    }\n",
       "</style>\n",
       "<table border=\"1\" class=\"dataframe\">\n",
       "  <thead>\n",
       "    <tr style=\"text-align: right;\">\n",
       "      <th></th>\n",
       "      <th>gdp_growth</th>\n",
       "      <th>gdp_per_capita</th>\n",
       "      <th>inflation</th>\n",
       "      <th>policy_rate</th>\n",
       "      <th>unemployment</th>\n",
       "      <th>fx_usd</th>\n",
       "      <th>avg_weather</th>\n",
       "      <th>exports_bn</th>\n",
       "      <th>imports_bn</th>\n",
       "      <th>trade_balance</th>\n",
       "    </tr>\n",
       "    <tr>\n",
       "      <th>area</th>\n",
       "      <th></th>\n",
       "      <th></th>\n",
       "      <th></th>\n",
       "      <th></th>\n",
       "      <th></th>\n",
       "      <th></th>\n",
       "      <th></th>\n",
       "      <th></th>\n",
       "      <th></th>\n",
       "      <th></th>\n",
       "    </tr>\n",
       "  </thead>\n",
       "  <tbody>\n",
       "    <tr>\n",
       "      <th>USA</th>\n",
       "      <td>2.1</td>\n",
       "      <td>60000.0</td>\n",
       "      <td>3.2</td>\n",
       "      <td>5.25</td>\n",
       "      <td>3.8</td>\n",
       "      <td>1.00</td>\n",
       "      <td>20.5</td>\n",
       "      <td>1650</td>\n",
       "      <td>2407</td>\n",
       "      <td>-757</td>\n",
       "    </tr>\n",
       "    <tr>\n",
       "      <th>Eurozone</th>\n",
       "      <td>1.3</td>\n",
       "      <td>57500.0</td>\n",
       "      <td>2.5</td>\n",
       "      <td>4.00</td>\n",
       "      <td>6.5</td>\n",
       "      <td>1.09</td>\n",
       "      <td>18.0</td>\n",
       "      <td>2200</td>\n",
       "      <td>2000</td>\n",
       "      <td>200</td>\n",
       "    </tr>\n",
       "    <tr>\n",
       "      <th>Japan</th>\n",
       "      <td>0.7</td>\n",
       "      <td>40000.0</td>\n",
       "      <td>1.0</td>\n",
       "      <td>-0.10</td>\n",
       "      <td>2.6</td>\n",
       "      <td>143.50</td>\n",
       "      <td>15.0</td>\n",
       "      <td>705</td>\n",
       "      <td>641</td>\n",
       "      <td>64</td>\n",
       "    </tr>\n",
       "    <tr>\n",
       "      <th>China</th>\n",
       "      <td>NaN</td>\n",
       "      <td>NaN</td>\n",
       "      <td>NaN</td>\n",
       "      <td>NaN</td>\n",
       "      <td>NaN</td>\n",
       "      <td>NaN</td>\n",
       "      <td>NaN</td>\n",
       "      <td>3360</td>\n",
       "      <td>2601</td>\n",
       "      <td>759</td>\n",
       "    </tr>\n",
       "    <tr>\n",
       "      <th>India</th>\n",
       "      <td>NaN</td>\n",
       "      <td>NaN</td>\n",
       "      <td>NaN</td>\n",
       "      <td>NaN</td>\n",
       "      <td>NaN</td>\n",
       "      <td>NaN</td>\n",
       "      <td>NaN</td>\n",
       "      <td>323</td>\n",
       "      <td>507</td>\n",
       "      <td>-184</td>\n",
       "    </tr>\n",
       "    <tr>\n",
       "      <th>Brazil</th>\n",
       "      <td>NaN</td>\n",
       "      <td>NaN</td>\n",
       "      <td>NaN</td>\n",
       "      <td>NaN</td>\n",
       "      <td>NaN</td>\n",
       "      <td>NaN</td>\n",
       "      <td>NaN</td>\n",
       "      <td>281</td>\n",
       "      <td>219</td>\n",
       "      <td>62</td>\n",
       "    </tr>\n",
       "  </tbody>\n",
       "</table>\n",
       "</div>"
      ],
      "text/plain": [
       "          gdp_growth  gdp_per_capita  inflation  policy_rate  unemployment  \\\n",
       "area                                                                         \n",
       "USA              2.1         60000.0        3.2         5.25           3.8   \n",
       "Eurozone         1.3         57500.0        2.5         4.00           6.5   \n",
       "Japan            0.7         40000.0        1.0        -0.10           2.6   \n",
       "China            NaN             NaN        NaN          NaN           NaN   \n",
       "India            NaN             NaN        NaN          NaN           NaN   \n",
       "Brazil           NaN             NaN        NaN          NaN           NaN   \n",
       "\n",
       "          fx_usd  avg_weather  exports_bn  imports_bn  trade_balance  \n",
       "area                                                                  \n",
       "USA         1.00         20.5        1650        2407           -757  \n",
       "Eurozone    1.09         18.0        2200        2000            200  \n",
       "Japan     143.50         15.0         705         641             64  \n",
       "China        NaN          NaN        3360        2601            759  \n",
       "India        NaN          NaN         323         507           -184  \n",
       "Brazil       NaN          NaN         281         219             62  "
      ]
     },
     "execution_count": 2316,
     "metadata": {},
     "output_type": "execute_result"
    }
   ],
   "source": [
    "right_result = pd.merge(df, df_trade, how='right', left_index=True, right_index=True)\n",
    "right_result"
   ]
  },
  {
   "cell_type": "code",
   "execution_count": 2317,
   "metadata": {},
   "outputs": [
    {
     "data": {
      "application/vnd.microsoft.datawrangler.viewer.v0+json": {
       "columns": [
        {
         "name": "area",
         "rawType": "object",
         "type": "string"
        },
        {
         "name": "gdp_growth",
         "rawType": "float64",
         "type": "float"
        },
        {
         "name": "gdp_per_capita",
         "rawType": "float64",
         "type": "float"
        },
        {
         "name": "inflation",
         "rawType": "float64",
         "type": "float"
        },
        {
         "name": "policy_rate",
         "rawType": "float64",
         "type": "float"
        },
        {
         "name": "unemployment",
         "rawType": "float64",
         "type": "float"
        },
        {
         "name": "fx_usd",
         "rawType": "float64",
         "type": "float"
        },
        {
         "name": "avg_weather",
         "rawType": "float64",
         "type": "float"
        },
        {
         "name": "exports_bn",
         "rawType": "float64",
         "type": "float"
        },
        {
         "name": "imports_bn",
         "rawType": "float64",
         "type": "float"
        },
        {
         "name": "trade_balance",
         "rawType": "float64",
         "type": "float"
        }
       ],
       "ref": "79768f51-d829-45d9-8806-649123470784",
       "rows": [
        [
         "Australia",
         "2.0",
         "70000.0",
         "2.6",
         "4.35",
         "4.0",
         "1.51",
         "22.0",
         null,
         null,
         null
        ],
        [
         "Brazil",
         null,
         null,
         null,
         null,
         null,
         null,
         null,
         "281.0",
         "219.0",
         "62.0"
        ],
        [
         "Canada",
         "1.8",
         "55000.0",
         "2.2",
         "4.75",
         "5.1",
         "1.36",
         "10.0",
         null,
         null,
         null
        ],
        [
         "China",
         null,
         null,
         null,
         null,
         null,
         null,
         null,
         "3360.0",
         "2601.0",
         "759.0"
        ],
        [
         "Eurozone",
         "1.3",
         "57500.0",
         "2.5",
         "4.0",
         "6.5",
         "1.09",
         "18.0",
         "2200.0",
         "2000.0",
         "200.0"
        ],
        [
         "India",
         null,
         null,
         null,
         null,
         null,
         null,
         null,
         "323.0",
         "507.0",
         "-184.0"
        ],
        [
         "Japan",
         "0.7",
         "40000.0",
         "1.0",
         "-0.1",
         "2.6",
         "143.5",
         "15.0",
         "705.0",
         "641.0",
         "64.0"
        ],
        [
         "UK",
         "1.5",
         "57500.0",
         "2.8",
         "5.0",
         "4.2",
         "0.79",
         "12.5",
         null,
         null,
         null
        ],
        [
         "USA",
         "2.1",
         "60000.0",
         "3.2",
         "5.25",
         "3.8",
         "1.0",
         "20.5",
         "1650.0",
         "2407.0",
         "-757.0"
        ]
       ],
       "shape": {
        "columns": 10,
        "rows": 9
       }
      },
      "text/html": [
       "<div>\n",
       "<style scoped>\n",
       "    .dataframe tbody tr th:only-of-type {\n",
       "        vertical-align: middle;\n",
       "    }\n",
       "\n",
       "    .dataframe tbody tr th {\n",
       "        vertical-align: top;\n",
       "    }\n",
       "\n",
       "    .dataframe thead th {\n",
       "        text-align: right;\n",
       "    }\n",
       "</style>\n",
       "<table border=\"1\" class=\"dataframe\">\n",
       "  <thead>\n",
       "    <tr style=\"text-align: right;\">\n",
       "      <th></th>\n",
       "      <th>gdp_growth</th>\n",
       "      <th>gdp_per_capita</th>\n",
       "      <th>inflation</th>\n",
       "      <th>policy_rate</th>\n",
       "      <th>unemployment</th>\n",
       "      <th>fx_usd</th>\n",
       "      <th>avg_weather</th>\n",
       "      <th>exports_bn</th>\n",
       "      <th>imports_bn</th>\n",
       "      <th>trade_balance</th>\n",
       "    </tr>\n",
       "    <tr>\n",
       "      <th>area</th>\n",
       "      <th></th>\n",
       "      <th></th>\n",
       "      <th></th>\n",
       "      <th></th>\n",
       "      <th></th>\n",
       "      <th></th>\n",
       "      <th></th>\n",
       "      <th></th>\n",
       "      <th></th>\n",
       "      <th></th>\n",
       "    </tr>\n",
       "  </thead>\n",
       "  <tbody>\n",
       "    <tr>\n",
       "      <th>Australia</th>\n",
       "      <td>2.0</td>\n",
       "      <td>70000.0</td>\n",
       "      <td>2.6</td>\n",
       "      <td>4.35</td>\n",
       "      <td>4.0</td>\n",
       "      <td>1.51</td>\n",
       "      <td>22.0</td>\n",
       "      <td>NaN</td>\n",
       "      <td>NaN</td>\n",
       "      <td>NaN</td>\n",
       "    </tr>\n",
       "    <tr>\n",
       "      <th>Brazil</th>\n",
       "      <td>NaN</td>\n",
       "      <td>NaN</td>\n",
       "      <td>NaN</td>\n",
       "      <td>NaN</td>\n",
       "      <td>NaN</td>\n",
       "      <td>NaN</td>\n",
       "      <td>NaN</td>\n",
       "      <td>281.0</td>\n",
       "      <td>219.0</td>\n",
       "      <td>62.0</td>\n",
       "    </tr>\n",
       "    <tr>\n",
       "      <th>Canada</th>\n",
       "      <td>1.8</td>\n",
       "      <td>55000.0</td>\n",
       "      <td>2.2</td>\n",
       "      <td>4.75</td>\n",
       "      <td>5.1</td>\n",
       "      <td>1.36</td>\n",
       "      <td>10.0</td>\n",
       "      <td>NaN</td>\n",
       "      <td>NaN</td>\n",
       "      <td>NaN</td>\n",
       "    </tr>\n",
       "    <tr>\n",
       "      <th>China</th>\n",
       "      <td>NaN</td>\n",
       "      <td>NaN</td>\n",
       "      <td>NaN</td>\n",
       "      <td>NaN</td>\n",
       "      <td>NaN</td>\n",
       "      <td>NaN</td>\n",
       "      <td>NaN</td>\n",
       "      <td>3360.0</td>\n",
       "      <td>2601.0</td>\n",
       "      <td>759.0</td>\n",
       "    </tr>\n",
       "    <tr>\n",
       "      <th>Eurozone</th>\n",
       "      <td>1.3</td>\n",
       "      <td>57500.0</td>\n",
       "      <td>2.5</td>\n",
       "      <td>4.00</td>\n",
       "      <td>6.5</td>\n",
       "      <td>1.09</td>\n",
       "      <td>18.0</td>\n",
       "      <td>2200.0</td>\n",
       "      <td>2000.0</td>\n",
       "      <td>200.0</td>\n",
       "    </tr>\n",
       "    <tr>\n",
       "      <th>India</th>\n",
       "      <td>NaN</td>\n",
       "      <td>NaN</td>\n",
       "      <td>NaN</td>\n",
       "      <td>NaN</td>\n",
       "      <td>NaN</td>\n",
       "      <td>NaN</td>\n",
       "      <td>NaN</td>\n",
       "      <td>323.0</td>\n",
       "      <td>507.0</td>\n",
       "      <td>-184.0</td>\n",
       "    </tr>\n",
       "    <tr>\n",
       "      <th>Japan</th>\n",
       "      <td>0.7</td>\n",
       "      <td>40000.0</td>\n",
       "      <td>1.0</td>\n",
       "      <td>-0.10</td>\n",
       "      <td>2.6</td>\n",
       "      <td>143.50</td>\n",
       "      <td>15.0</td>\n",
       "      <td>705.0</td>\n",
       "      <td>641.0</td>\n",
       "      <td>64.0</td>\n",
       "    </tr>\n",
       "    <tr>\n",
       "      <th>UK</th>\n",
       "      <td>1.5</td>\n",
       "      <td>57500.0</td>\n",
       "      <td>2.8</td>\n",
       "      <td>5.00</td>\n",
       "      <td>4.2</td>\n",
       "      <td>0.79</td>\n",
       "      <td>12.5</td>\n",
       "      <td>NaN</td>\n",
       "      <td>NaN</td>\n",
       "      <td>NaN</td>\n",
       "    </tr>\n",
       "    <tr>\n",
       "      <th>USA</th>\n",
       "      <td>2.1</td>\n",
       "      <td>60000.0</td>\n",
       "      <td>3.2</td>\n",
       "      <td>5.25</td>\n",
       "      <td>3.8</td>\n",
       "      <td>1.00</td>\n",
       "      <td>20.5</td>\n",
       "      <td>1650.0</td>\n",
       "      <td>2407.0</td>\n",
       "      <td>-757.0</td>\n",
       "    </tr>\n",
       "  </tbody>\n",
       "</table>\n",
       "</div>"
      ],
      "text/plain": [
       "           gdp_growth  gdp_per_capita  inflation  policy_rate  unemployment  \\\n",
       "area                                                                          \n",
       "Australia         2.0         70000.0        2.6         4.35           4.0   \n",
       "Brazil            NaN             NaN        NaN          NaN           NaN   \n",
       "Canada            1.8         55000.0        2.2         4.75           5.1   \n",
       "China             NaN             NaN        NaN          NaN           NaN   \n",
       "Eurozone          1.3         57500.0        2.5         4.00           6.5   \n",
       "India             NaN             NaN        NaN          NaN           NaN   \n",
       "Japan             0.7         40000.0        1.0        -0.10           2.6   \n",
       "UK                1.5         57500.0        2.8         5.00           4.2   \n",
       "USA               2.1         60000.0        3.2         5.25           3.8   \n",
       "\n",
       "           fx_usd  avg_weather  exports_bn  imports_bn  trade_balance  \n",
       "area                                                                   \n",
       "Australia    1.51         22.0         NaN         NaN            NaN  \n",
       "Brazil        NaN          NaN       281.0       219.0           62.0  \n",
       "Canada       1.36         10.0         NaN         NaN            NaN  \n",
       "China         NaN          NaN      3360.0      2601.0          759.0  \n",
       "Eurozone     1.09         18.0      2200.0      2000.0          200.0  \n",
       "India         NaN          NaN       323.0       507.0         -184.0  \n",
       "Japan      143.50         15.0       705.0       641.0           64.0  \n",
       "UK           0.79         12.5         NaN         NaN            NaN  \n",
       "USA          1.00         20.5      1650.0      2407.0         -757.0  "
      ]
     },
     "execution_count": 2317,
     "metadata": {},
     "output_type": "execute_result"
    }
   ],
   "source": [
    "outer_result = pd.merge(df, df_trade, how='outer', left_index=True, right_index=True)\n",
    "outer_result"
   ]
  },
  {
   "cell_type": "code",
   "execution_count": 2318,
   "metadata": {},
   "outputs": [
    {
     "data": {
      "application/vnd.microsoft.datawrangler.viewer.v0+json": {
       "columns": [
        {
         "name": "area",
         "rawType": "object",
         "type": "string"
        },
        {
         "name": "gdp_growth",
         "rawType": "float64",
         "type": "float"
        },
        {
         "name": "gdp_per_capita",
         "rawType": "float64",
         "type": "float"
        },
        {
         "name": "inflation",
         "rawType": "float64",
         "type": "float"
        },
        {
         "name": "policy_rate",
         "rawType": "float64",
         "type": "float"
        },
        {
         "name": "unemployment",
         "rawType": "float64",
         "type": "float"
        },
        {
         "name": "fx_usd",
         "rawType": "float64",
         "type": "float"
        },
        {
         "name": "avg_weather",
         "rawType": "float64",
         "type": "float"
        },
        {
         "name": "exports_bn",
         "rawType": "float64",
         "type": "float"
        },
        {
         "name": "imports_bn",
         "rawType": "float64",
         "type": "float"
        },
        {
         "name": "trade_balance",
         "rawType": "float64",
         "type": "float"
        }
       ],
       "ref": "90c0d71a-76db-4c4e-8694-49981b696283",
       "rows": [
        [
         "Australia",
         "2.0",
         "70000.0",
         "2.6",
         "4.35",
         "4.0",
         "1.51",
         "22.0",
         null,
         null,
         null
        ],
        [
         "Brazil",
         null,
         null,
         null,
         null,
         null,
         null,
         null,
         "281.0",
         "219.0",
         "62.0"
        ],
        [
         "Canada",
         "1.8",
         "55000.0",
         "2.2",
         "4.75",
         "5.1",
         "1.36",
         "10.0",
         null,
         null,
         null
        ],
        [
         "China",
         null,
         null,
         null,
         null,
         null,
         null,
         null,
         "3360.0",
         "2601.0",
         "759.0"
        ],
        [
         "Eurozone",
         "1.3",
         "57500.0",
         "2.5",
         "4.0",
         "6.5",
         "1.09",
         "18.0",
         "2200.0",
         "2000.0",
         "200.0"
        ],
        [
         "India",
         null,
         null,
         null,
         null,
         null,
         null,
         null,
         "323.0",
         "507.0",
         "-184.0"
        ],
        [
         "Japan",
         "0.7",
         "40000.0",
         "1.0",
         "-0.1",
         "2.6",
         "143.5",
         "15.0",
         "705.0",
         "641.0",
         "64.0"
        ],
        [
         "UK",
         "1.5",
         "57500.0",
         "2.8",
         "5.0",
         "4.2",
         "0.79",
         "12.5",
         null,
         null,
         null
        ],
        [
         "USA",
         "2.1",
         "60000.0",
         "3.2",
         "5.25",
         "3.8",
         "1.0",
         "20.5",
         "1650.0",
         "2407.0",
         "-757.0"
        ]
       ],
       "shape": {
        "columns": 10,
        "rows": 9
       }
      },
      "text/html": [
       "<div>\n",
       "<style scoped>\n",
       "    .dataframe tbody tr th:only-of-type {\n",
       "        vertical-align: middle;\n",
       "    }\n",
       "\n",
       "    .dataframe tbody tr th {\n",
       "        vertical-align: top;\n",
       "    }\n",
       "\n",
       "    .dataframe thead th {\n",
       "        text-align: right;\n",
       "    }\n",
       "</style>\n",
       "<table border=\"1\" class=\"dataframe\">\n",
       "  <thead>\n",
       "    <tr style=\"text-align: right;\">\n",
       "      <th></th>\n",
       "      <th>gdp_growth</th>\n",
       "      <th>gdp_per_capita</th>\n",
       "      <th>inflation</th>\n",
       "      <th>policy_rate</th>\n",
       "      <th>unemployment</th>\n",
       "      <th>fx_usd</th>\n",
       "      <th>avg_weather</th>\n",
       "      <th>exports_bn</th>\n",
       "      <th>imports_bn</th>\n",
       "      <th>trade_balance</th>\n",
       "    </tr>\n",
       "    <tr>\n",
       "      <th>area</th>\n",
       "      <th></th>\n",
       "      <th></th>\n",
       "      <th></th>\n",
       "      <th></th>\n",
       "      <th></th>\n",
       "      <th></th>\n",
       "      <th></th>\n",
       "      <th></th>\n",
       "      <th></th>\n",
       "      <th></th>\n",
       "    </tr>\n",
       "  </thead>\n",
       "  <tbody>\n",
       "    <tr>\n",
       "      <th>Australia</th>\n",
       "      <td>2.0</td>\n",
       "      <td>70000.0</td>\n",
       "      <td>2.6</td>\n",
       "      <td>4.35</td>\n",
       "      <td>4.0</td>\n",
       "      <td>1.51</td>\n",
       "      <td>22.0</td>\n",
       "      <td>NaN</td>\n",
       "      <td>NaN</td>\n",
       "      <td>NaN</td>\n",
       "    </tr>\n",
       "    <tr>\n",
       "      <th>Brazil</th>\n",
       "      <td>NaN</td>\n",
       "      <td>NaN</td>\n",
       "      <td>NaN</td>\n",
       "      <td>NaN</td>\n",
       "      <td>NaN</td>\n",
       "      <td>NaN</td>\n",
       "      <td>NaN</td>\n",
       "      <td>281.0</td>\n",
       "      <td>219.0</td>\n",
       "      <td>62.0</td>\n",
       "    </tr>\n",
       "    <tr>\n",
       "      <th>Canada</th>\n",
       "      <td>1.8</td>\n",
       "      <td>55000.0</td>\n",
       "      <td>2.2</td>\n",
       "      <td>4.75</td>\n",
       "      <td>5.1</td>\n",
       "      <td>1.36</td>\n",
       "      <td>10.0</td>\n",
       "      <td>NaN</td>\n",
       "      <td>NaN</td>\n",
       "      <td>NaN</td>\n",
       "    </tr>\n",
       "    <tr>\n",
       "      <th>China</th>\n",
       "      <td>NaN</td>\n",
       "      <td>NaN</td>\n",
       "      <td>NaN</td>\n",
       "      <td>NaN</td>\n",
       "      <td>NaN</td>\n",
       "      <td>NaN</td>\n",
       "      <td>NaN</td>\n",
       "      <td>3360.0</td>\n",
       "      <td>2601.0</td>\n",
       "      <td>759.0</td>\n",
       "    </tr>\n",
       "    <tr>\n",
       "      <th>Eurozone</th>\n",
       "      <td>1.3</td>\n",
       "      <td>57500.0</td>\n",
       "      <td>2.5</td>\n",
       "      <td>4.00</td>\n",
       "      <td>6.5</td>\n",
       "      <td>1.09</td>\n",
       "      <td>18.0</td>\n",
       "      <td>2200.0</td>\n",
       "      <td>2000.0</td>\n",
       "      <td>200.0</td>\n",
       "    </tr>\n",
       "    <tr>\n",
       "      <th>India</th>\n",
       "      <td>NaN</td>\n",
       "      <td>NaN</td>\n",
       "      <td>NaN</td>\n",
       "      <td>NaN</td>\n",
       "      <td>NaN</td>\n",
       "      <td>NaN</td>\n",
       "      <td>NaN</td>\n",
       "      <td>323.0</td>\n",
       "      <td>507.0</td>\n",
       "      <td>-184.0</td>\n",
       "    </tr>\n",
       "    <tr>\n",
       "      <th>Japan</th>\n",
       "      <td>0.7</td>\n",
       "      <td>40000.0</td>\n",
       "      <td>1.0</td>\n",
       "      <td>-0.10</td>\n",
       "      <td>2.6</td>\n",
       "      <td>143.50</td>\n",
       "      <td>15.0</td>\n",
       "      <td>705.0</td>\n",
       "      <td>641.0</td>\n",
       "      <td>64.0</td>\n",
       "    </tr>\n",
       "    <tr>\n",
       "      <th>UK</th>\n",
       "      <td>1.5</td>\n",
       "      <td>57500.0</td>\n",
       "      <td>2.8</td>\n",
       "      <td>5.00</td>\n",
       "      <td>4.2</td>\n",
       "      <td>0.79</td>\n",
       "      <td>12.5</td>\n",
       "      <td>NaN</td>\n",
       "      <td>NaN</td>\n",
       "      <td>NaN</td>\n",
       "    </tr>\n",
       "    <tr>\n",
       "      <th>USA</th>\n",
       "      <td>2.1</td>\n",
       "      <td>60000.0</td>\n",
       "      <td>3.2</td>\n",
       "      <td>5.25</td>\n",
       "      <td>3.8</td>\n",
       "      <td>1.00</td>\n",
       "      <td>20.5</td>\n",
       "      <td>1650.0</td>\n",
       "      <td>2407.0</td>\n",
       "      <td>-757.0</td>\n",
       "    </tr>\n",
       "  </tbody>\n",
       "</table>\n",
       "</div>"
      ],
      "text/plain": [
       "           gdp_growth  gdp_per_capita  inflation  policy_rate  unemployment  \\\n",
       "area                                                                          \n",
       "Australia         2.0         70000.0        2.6         4.35           4.0   \n",
       "Brazil            NaN             NaN        NaN          NaN           NaN   \n",
       "Canada            1.8         55000.0        2.2         4.75           5.1   \n",
       "China             NaN             NaN        NaN          NaN           NaN   \n",
       "Eurozone          1.3         57500.0        2.5         4.00           6.5   \n",
       "India             NaN             NaN        NaN          NaN           NaN   \n",
       "Japan             0.7         40000.0        1.0        -0.10           2.6   \n",
       "UK                1.5         57500.0        2.8         5.00           4.2   \n",
       "USA               2.1         60000.0        3.2         5.25           3.8   \n",
       "\n",
       "           fx_usd  avg_weather  exports_bn  imports_bn  trade_balance  \n",
       "area                                                                   \n",
       "Australia    1.51         22.0         NaN         NaN            NaN  \n",
       "Brazil        NaN          NaN       281.0       219.0           62.0  \n",
       "Canada       1.36         10.0         NaN         NaN            NaN  \n",
       "China         NaN          NaN      3360.0      2601.0          759.0  \n",
       "Eurozone     1.09         18.0      2200.0      2000.0          200.0  \n",
       "India         NaN          NaN       323.0       507.0         -184.0  \n",
       "Japan      143.50         15.0       705.0       641.0           64.0  \n",
       "UK           0.79         12.5         NaN         NaN            NaN  \n",
       "USA          1.00         20.5      1650.0      2407.0         -757.0  "
      ]
     },
     "execution_count": 2318,
     "metadata": {},
     "output_type": "execute_result"
    }
   ],
   "source": [
    "pd.concat([df, df_trade], axis=1).sort_index()  # Concatenate along columns"
   ]
  },
  {
   "cell_type": "code",
   "execution_count": 2319,
   "metadata": {},
   "outputs": [
    {
     "data": {
      "application/vnd.microsoft.datawrangler.viewer.v0+json": {
       "columns": [
        {
         "name": "area",
         "rawType": "object",
         "type": "string"
        },
        {
         "name": "gdp_growth",
         "rawType": "float64",
         "type": "float"
        },
        {
         "name": "gdp_per_capita",
         "rawType": "float64",
         "type": "float"
        },
        {
         "name": "inflation",
         "rawType": "float64",
         "type": "float"
        },
        {
         "name": "policy_rate",
         "rawType": "float64",
         "type": "float"
        },
        {
         "name": "unemployment",
         "rawType": "float64",
         "type": "float"
        },
        {
         "name": "fx_usd",
         "rawType": "float64",
         "type": "float"
        },
        {
         "name": "avg_weather",
         "rawType": "float64",
         "type": "float"
        },
        {
         "name": "exports_bn",
         "rawType": "float64",
         "type": "float"
        },
        {
         "name": "imports_bn",
         "rawType": "float64",
         "type": "float"
        },
        {
         "name": "trade_balance",
         "rawType": "float64",
         "type": "float"
        }
       ],
       "ref": "eae99f81-49ba-4fe5-a147-e57f8d13c588",
       "rows": [
        [
         "USA",
         "2.1",
         "60000.0",
         "3.2",
         "5.25",
         "3.8",
         "1.0",
         "20.5",
         null,
         null,
         null
        ],
        [
         "Eurozone",
         "1.3",
         "57500.0",
         "2.5",
         "4.0",
         "6.5",
         "1.09",
         "18.0",
         null,
         null,
         null
        ],
        [
         "Japan",
         "0.7",
         "40000.0",
         "1.0",
         "-0.1",
         "2.6",
         "143.5",
         "15.0",
         null,
         null,
         null
        ],
        [
         "UK",
         "1.5",
         "57500.0",
         "2.8",
         "5.0",
         "4.2",
         "0.79",
         "12.5",
         null,
         null,
         null
        ],
        [
         "Canada",
         "1.8",
         "55000.0",
         "2.2",
         "4.75",
         "5.1",
         "1.36",
         "10.0",
         null,
         null,
         null
        ],
        [
         "Australia",
         "2.0",
         "70000.0",
         "2.6",
         "4.35",
         "4.0",
         "1.51",
         "22.0",
         null,
         null,
         null
        ],
        [
         "USA",
         null,
         null,
         null,
         null,
         null,
         null,
         null,
         "1650.0",
         "2407.0",
         "-757.0"
        ],
        [
         "Eurozone",
         null,
         null,
         null,
         null,
         null,
         null,
         null,
         "2200.0",
         "2000.0",
         "200.0"
        ],
        [
         "Japan",
         null,
         null,
         null,
         null,
         null,
         null,
         null,
         "705.0",
         "641.0",
         "64.0"
        ],
        [
         "China",
         null,
         null,
         null,
         null,
         null,
         null,
         null,
         "3360.0",
         "2601.0",
         "759.0"
        ],
        [
         "India",
         null,
         null,
         null,
         null,
         null,
         null,
         null,
         "323.0",
         "507.0",
         "-184.0"
        ],
        [
         "Brazil",
         null,
         null,
         null,
         null,
         null,
         null,
         null,
         "281.0",
         "219.0",
         "62.0"
        ]
       ],
       "shape": {
        "columns": 10,
        "rows": 12
       }
      },
      "text/html": [
       "<div>\n",
       "<style scoped>\n",
       "    .dataframe tbody tr th:only-of-type {\n",
       "        vertical-align: middle;\n",
       "    }\n",
       "\n",
       "    .dataframe tbody tr th {\n",
       "        vertical-align: top;\n",
       "    }\n",
       "\n",
       "    .dataframe thead th {\n",
       "        text-align: right;\n",
       "    }\n",
       "</style>\n",
       "<table border=\"1\" class=\"dataframe\">\n",
       "  <thead>\n",
       "    <tr style=\"text-align: right;\">\n",
       "      <th></th>\n",
       "      <th>gdp_growth</th>\n",
       "      <th>gdp_per_capita</th>\n",
       "      <th>inflation</th>\n",
       "      <th>policy_rate</th>\n",
       "      <th>unemployment</th>\n",
       "      <th>fx_usd</th>\n",
       "      <th>avg_weather</th>\n",
       "      <th>exports_bn</th>\n",
       "      <th>imports_bn</th>\n",
       "      <th>trade_balance</th>\n",
       "    </tr>\n",
       "    <tr>\n",
       "      <th>area</th>\n",
       "      <th></th>\n",
       "      <th></th>\n",
       "      <th></th>\n",
       "      <th></th>\n",
       "      <th></th>\n",
       "      <th></th>\n",
       "      <th></th>\n",
       "      <th></th>\n",
       "      <th></th>\n",
       "      <th></th>\n",
       "    </tr>\n",
       "  </thead>\n",
       "  <tbody>\n",
       "    <tr>\n",
       "      <th>USA</th>\n",
       "      <td>2.1</td>\n",
       "      <td>60000.0</td>\n",
       "      <td>3.2</td>\n",
       "      <td>5.25</td>\n",
       "      <td>3.8</td>\n",
       "      <td>1.00</td>\n",
       "      <td>20.5</td>\n",
       "      <td>NaN</td>\n",
       "      <td>NaN</td>\n",
       "      <td>NaN</td>\n",
       "    </tr>\n",
       "    <tr>\n",
       "      <th>Eurozone</th>\n",
       "      <td>1.3</td>\n",
       "      <td>57500.0</td>\n",
       "      <td>2.5</td>\n",
       "      <td>4.00</td>\n",
       "      <td>6.5</td>\n",
       "      <td>1.09</td>\n",
       "      <td>18.0</td>\n",
       "      <td>NaN</td>\n",
       "      <td>NaN</td>\n",
       "      <td>NaN</td>\n",
       "    </tr>\n",
       "    <tr>\n",
       "      <th>Japan</th>\n",
       "      <td>0.7</td>\n",
       "      <td>40000.0</td>\n",
       "      <td>1.0</td>\n",
       "      <td>-0.10</td>\n",
       "      <td>2.6</td>\n",
       "      <td>143.50</td>\n",
       "      <td>15.0</td>\n",
       "      <td>NaN</td>\n",
       "      <td>NaN</td>\n",
       "      <td>NaN</td>\n",
       "    </tr>\n",
       "    <tr>\n",
       "      <th>UK</th>\n",
       "      <td>1.5</td>\n",
       "      <td>57500.0</td>\n",
       "      <td>2.8</td>\n",
       "      <td>5.00</td>\n",
       "      <td>4.2</td>\n",
       "      <td>0.79</td>\n",
       "      <td>12.5</td>\n",
       "      <td>NaN</td>\n",
       "      <td>NaN</td>\n",
       "      <td>NaN</td>\n",
       "    </tr>\n",
       "    <tr>\n",
       "      <th>Canada</th>\n",
       "      <td>1.8</td>\n",
       "      <td>55000.0</td>\n",
       "      <td>2.2</td>\n",
       "      <td>4.75</td>\n",
       "      <td>5.1</td>\n",
       "      <td>1.36</td>\n",
       "      <td>10.0</td>\n",
       "      <td>NaN</td>\n",
       "      <td>NaN</td>\n",
       "      <td>NaN</td>\n",
       "    </tr>\n",
       "    <tr>\n",
       "      <th>Australia</th>\n",
       "      <td>2.0</td>\n",
       "      <td>70000.0</td>\n",
       "      <td>2.6</td>\n",
       "      <td>4.35</td>\n",
       "      <td>4.0</td>\n",
       "      <td>1.51</td>\n",
       "      <td>22.0</td>\n",
       "      <td>NaN</td>\n",
       "      <td>NaN</td>\n",
       "      <td>NaN</td>\n",
       "    </tr>\n",
       "    <tr>\n",
       "      <th>USA</th>\n",
       "      <td>NaN</td>\n",
       "      <td>NaN</td>\n",
       "      <td>NaN</td>\n",
       "      <td>NaN</td>\n",
       "      <td>NaN</td>\n",
       "      <td>NaN</td>\n",
       "      <td>NaN</td>\n",
       "      <td>1650.0</td>\n",
       "      <td>2407.0</td>\n",
       "      <td>-757.0</td>\n",
       "    </tr>\n",
       "    <tr>\n",
       "      <th>Eurozone</th>\n",
       "      <td>NaN</td>\n",
       "      <td>NaN</td>\n",
       "      <td>NaN</td>\n",
       "      <td>NaN</td>\n",
       "      <td>NaN</td>\n",
       "      <td>NaN</td>\n",
       "      <td>NaN</td>\n",
       "      <td>2200.0</td>\n",
       "      <td>2000.0</td>\n",
       "      <td>200.0</td>\n",
       "    </tr>\n",
       "    <tr>\n",
       "      <th>Japan</th>\n",
       "      <td>NaN</td>\n",
       "      <td>NaN</td>\n",
       "      <td>NaN</td>\n",
       "      <td>NaN</td>\n",
       "      <td>NaN</td>\n",
       "      <td>NaN</td>\n",
       "      <td>NaN</td>\n",
       "      <td>705.0</td>\n",
       "      <td>641.0</td>\n",
       "      <td>64.0</td>\n",
       "    </tr>\n",
       "    <tr>\n",
       "      <th>China</th>\n",
       "      <td>NaN</td>\n",
       "      <td>NaN</td>\n",
       "      <td>NaN</td>\n",
       "      <td>NaN</td>\n",
       "      <td>NaN</td>\n",
       "      <td>NaN</td>\n",
       "      <td>NaN</td>\n",
       "      <td>3360.0</td>\n",
       "      <td>2601.0</td>\n",
       "      <td>759.0</td>\n",
       "    </tr>\n",
       "    <tr>\n",
       "      <th>India</th>\n",
       "      <td>NaN</td>\n",
       "      <td>NaN</td>\n",
       "      <td>NaN</td>\n",
       "      <td>NaN</td>\n",
       "      <td>NaN</td>\n",
       "      <td>NaN</td>\n",
       "      <td>NaN</td>\n",
       "      <td>323.0</td>\n",
       "      <td>507.0</td>\n",
       "      <td>-184.0</td>\n",
       "    </tr>\n",
       "    <tr>\n",
       "      <th>Brazil</th>\n",
       "      <td>NaN</td>\n",
       "      <td>NaN</td>\n",
       "      <td>NaN</td>\n",
       "      <td>NaN</td>\n",
       "      <td>NaN</td>\n",
       "      <td>NaN</td>\n",
       "      <td>NaN</td>\n",
       "      <td>281.0</td>\n",
       "      <td>219.0</td>\n",
       "      <td>62.0</td>\n",
       "    </tr>\n",
       "  </tbody>\n",
       "</table>\n",
       "</div>"
      ],
      "text/plain": [
       "           gdp_growth  gdp_per_capita  inflation  policy_rate  unemployment  \\\n",
       "area                                                                          \n",
       "USA               2.1         60000.0        3.2         5.25           3.8   \n",
       "Eurozone          1.3         57500.0        2.5         4.00           6.5   \n",
       "Japan             0.7         40000.0        1.0        -0.10           2.6   \n",
       "UK                1.5         57500.0        2.8         5.00           4.2   \n",
       "Canada            1.8         55000.0        2.2         4.75           5.1   \n",
       "Australia         2.0         70000.0        2.6         4.35           4.0   \n",
       "USA               NaN             NaN        NaN          NaN           NaN   \n",
       "Eurozone          NaN             NaN        NaN          NaN           NaN   \n",
       "Japan             NaN             NaN        NaN          NaN           NaN   \n",
       "China             NaN             NaN        NaN          NaN           NaN   \n",
       "India             NaN             NaN        NaN          NaN           NaN   \n",
       "Brazil            NaN             NaN        NaN          NaN           NaN   \n",
       "\n",
       "           fx_usd  avg_weather  exports_bn  imports_bn  trade_balance  \n",
       "area                                                                   \n",
       "USA          1.00         20.5         NaN         NaN            NaN  \n",
       "Eurozone     1.09         18.0         NaN         NaN            NaN  \n",
       "Japan      143.50         15.0         NaN         NaN            NaN  \n",
       "UK           0.79         12.5         NaN         NaN            NaN  \n",
       "Canada       1.36         10.0         NaN         NaN            NaN  \n",
       "Australia    1.51         22.0         NaN         NaN            NaN  \n",
       "USA           NaN          NaN      1650.0      2407.0         -757.0  \n",
       "Eurozone      NaN          NaN      2200.0      2000.0          200.0  \n",
       "Japan         NaN          NaN       705.0       641.0           64.0  \n",
       "China         NaN          NaN      3360.0      2601.0          759.0  \n",
       "India         NaN          NaN       323.0       507.0         -184.0  \n",
       "Brazil        NaN          NaN       281.0       219.0           62.0  "
      ]
     },
     "execution_count": 2319,
     "metadata": {},
     "output_type": "execute_result"
    }
   ],
   "source": [
    "pd.concat([df, df_trade], axis=0)  # Concatenate along rows"
   ]
  },
  {
   "cell_type": "markdown",
   "metadata": {
    "tags": []
   },
   "source": [
    "### **5.2.7. Applying Functions**"
   ]
  },
  {
   "cell_type": "markdown",
   "metadata": {},
   "source": [
    "Sometimes it can be useful to apply a function to all values of a column/row. For instance, we might be interested in normalised inflation. We can do this using the `apply()` method. This method applies a function to each element in the Series or DataFrame."
   ]
  },
  {
   "cell_type": "code",
   "execution_count": 2320,
   "metadata": {},
   "outputs": [
    {
     "data": {
      "application/vnd.microsoft.datawrangler.viewer.v0+json": {
       "columns": [
        {
         "name": "area",
         "rawType": "object",
         "type": "string"
        },
        {
         "name": "inflation",
         "rawType": "float64",
         "type": "float"
        }
       ],
       "ref": "e8aa8ece-07d8-4e16-83a6-e55f90328c14",
       "rows": [
        [
         "USA",
         "1.0820178506928"
        ],
        [
         "Eurozone",
         "0.15457397867040001"
        ],
        [
         "Japan",
         "-1.8328057470918853"
        ],
        [
         "UK",
         "0.5520499238228568"
        ],
        [
         "Canada",
         "-0.2429019664820568"
        ],
        [
         "Australia",
         "0.2870659603878858"
        ]
       ],
       "shape": {
        "columns": 1,
        "rows": 6
       }
      },
      "text/plain": [
       "area\n",
       "USA          1.082018\n",
       "Eurozone     0.154574\n",
       "Japan       -1.832806\n",
       "UK           0.552050\n",
       "Canada      -0.242902\n",
       "Australia    0.287066\n",
       "Name: inflation, dtype: float64"
      ]
     },
     "execution_count": 2320,
     "metadata": {},
     "output_type": "execute_result"
    }
   ],
   "source": [
    "df.inflation.apply(lambda x: (x - df.inflation.mean()) / df.inflation.std())  # Standardize the inflation column"
   ]
  },
  {
   "cell_type": "markdown",
   "metadata": {},
   "source": [
    "### **5.2.8. Renaming Indices and Columns**"
   ]
  },
  {
   "cell_type": "markdown",
   "metadata": {},
   "source": [
    "| Method | Syntax | Use Case | Example |\n",
    "|--------|--------|----------|---------|\n",
    "| **Direct Assignment** | `df.columns = [list]` | Replace all column names at once | `df.columns = ['A', 'B', 'C']` |\n",
    "| **rename() with Dictionary** | `df.rename(columns={dict})` | Rename specific columns selectively | `df.rename(columns={'old': 'new'})` |\n",
    "| **rename() with inplace** | `df.rename(columns={dict}, inplace=True)` | Modify original DataFrame directly | `df.rename(columns={'old': 'new'}, inplace=True)` |\n",
    "| **rename() with Function** | `df.rename(columns=function)` | Apply transformation to all columns | `df.rename(columns=str.upper)` |\n",
    "| **String Methods** | `df.columns.str.method()` | Apply string operations to column names | `df.columns = df.columns.str.replace('_', ' ')` |\n",
    "| **Lambda Function** | `df.rename(columns=lambda x: expression)` | Custom transformations on column names | `df.rename(columns=lambda x: x.replace('old', 'new'))` |\n",
    "\n",
    "Key Parameters\n",
    "\n",
    "| Parameter | Description | Default | Example |\n",
    "|-----------|-------------|---------|---------|\n",
    "| `columns` | Dictionary or function for column mapping | `None` | `{'old_name': 'new_name'}` |\n",
    "| `inplace` | Modify DataFrame in place vs. return copy | `False` | `inplace=True` |\n",
    "| `errors` | How to handle missing keys | `'ignore'` | `errors='raise'` |"
   ]
  },
  {
   "cell_type": "markdown",
   "metadata": {},
   "source": [
    "Sometimes it can be useful to rename columns:"
   ]
  },
  {
   "cell_type": "code",
   "execution_count": 2321,
   "metadata": {},
   "outputs": [
    {
     "data": {
      "application/vnd.microsoft.datawrangler.viewer.v0+json": {
       "columns": [
        {
         "name": "area",
         "rawType": "object",
         "type": "string"
        },
        {
         "name": "gdp_growth_(%)",
         "rawType": "float64",
         "type": "float"
        },
        {
         "name": "gdp_per_capita_($)",
         "rawType": "float64",
         "type": "float"
        },
        {
         "name": "inflation_rate_(%)",
         "rawType": "float64",
         "type": "float"
        },
        {
         "name": "policy_rate_(%)",
         "rawType": "float64",
         "type": "float"
        },
        {
         "name": "unemployment_rate_(%)",
         "rawType": "float64",
         "type": "float"
        },
        {
         "name": "fx_rate_($/X)",
         "rawType": "float64",
         "type": "float"
        },
        {
         "name": "avg_weather_(°C)",
         "rawType": "float64",
         "type": "float"
        }
       ],
       "ref": "c6fad14d-212c-4e59-81c0-634ada65a226",
       "rows": [
        [
         "USA",
         "2.1",
         "60000.0",
         "3.2",
         "5.25",
         "3.8",
         "1.0",
         "20.5"
        ],
        [
         "Eurozone",
         "1.3",
         "57500.0",
         "2.5",
         "4.0",
         "6.5",
         "1.09",
         "18.0"
        ],
        [
         "Japan",
         "0.7",
         "40000.0",
         "1.0",
         "-0.1",
         "2.6",
         "143.5",
         "15.0"
        ],
        [
         "UK",
         "1.5",
         "57500.0",
         "2.8",
         "5.0",
         "4.2",
         "0.79",
         "12.5"
        ],
        [
         "Canada",
         "1.8",
         "55000.0",
         "2.2",
         "4.75",
         "5.1",
         "1.36",
         "10.0"
        ],
        [
         "Australia",
         "2.0",
         "70000.0",
         "2.6",
         "4.35",
         "4.0",
         "1.51",
         "22.0"
        ]
       ],
       "shape": {
        "columns": 7,
        "rows": 6
       }
      },
      "text/html": [
       "<div>\n",
       "<style scoped>\n",
       "    .dataframe tbody tr th:only-of-type {\n",
       "        vertical-align: middle;\n",
       "    }\n",
       "\n",
       "    .dataframe tbody tr th {\n",
       "        vertical-align: top;\n",
       "    }\n",
       "\n",
       "    .dataframe thead th {\n",
       "        text-align: right;\n",
       "    }\n",
       "</style>\n",
       "<table border=\"1\" class=\"dataframe\">\n",
       "  <thead>\n",
       "    <tr style=\"text-align: right;\">\n",
       "      <th></th>\n",
       "      <th>gdp_growth_(%)</th>\n",
       "      <th>gdp_per_capita_($)</th>\n",
       "      <th>inflation_rate_(%)</th>\n",
       "      <th>policy_rate_(%)</th>\n",
       "      <th>unemployment_rate_(%)</th>\n",
       "      <th>fx_rate_($/X)</th>\n",
       "      <th>avg_weather_(°C)</th>\n",
       "    </tr>\n",
       "    <tr>\n",
       "      <th>area</th>\n",
       "      <th></th>\n",
       "      <th></th>\n",
       "      <th></th>\n",
       "      <th></th>\n",
       "      <th></th>\n",
       "      <th></th>\n",
       "      <th></th>\n",
       "    </tr>\n",
       "  </thead>\n",
       "  <tbody>\n",
       "    <tr>\n",
       "      <th>USA</th>\n",
       "      <td>2.1</td>\n",
       "      <td>60000.0</td>\n",
       "      <td>3.2</td>\n",
       "      <td>5.25</td>\n",
       "      <td>3.8</td>\n",
       "      <td>1.00</td>\n",
       "      <td>20.5</td>\n",
       "    </tr>\n",
       "    <tr>\n",
       "      <th>Eurozone</th>\n",
       "      <td>1.3</td>\n",
       "      <td>57500.0</td>\n",
       "      <td>2.5</td>\n",
       "      <td>4.00</td>\n",
       "      <td>6.5</td>\n",
       "      <td>1.09</td>\n",
       "      <td>18.0</td>\n",
       "    </tr>\n",
       "    <tr>\n",
       "      <th>Japan</th>\n",
       "      <td>0.7</td>\n",
       "      <td>40000.0</td>\n",
       "      <td>1.0</td>\n",
       "      <td>-0.10</td>\n",
       "      <td>2.6</td>\n",
       "      <td>143.50</td>\n",
       "      <td>15.0</td>\n",
       "    </tr>\n",
       "    <tr>\n",
       "      <th>UK</th>\n",
       "      <td>1.5</td>\n",
       "      <td>57500.0</td>\n",
       "      <td>2.8</td>\n",
       "      <td>5.00</td>\n",
       "      <td>4.2</td>\n",
       "      <td>0.79</td>\n",
       "      <td>12.5</td>\n",
       "    </tr>\n",
       "    <tr>\n",
       "      <th>Canada</th>\n",
       "      <td>1.8</td>\n",
       "      <td>55000.0</td>\n",
       "      <td>2.2</td>\n",
       "      <td>4.75</td>\n",
       "      <td>5.1</td>\n",
       "      <td>1.36</td>\n",
       "      <td>10.0</td>\n",
       "    </tr>\n",
       "    <tr>\n",
       "      <th>Australia</th>\n",
       "      <td>2.0</td>\n",
       "      <td>70000.0</td>\n",
       "      <td>2.6</td>\n",
       "      <td>4.35</td>\n",
       "      <td>4.0</td>\n",
       "      <td>1.51</td>\n",
       "      <td>22.0</td>\n",
       "    </tr>\n",
       "  </tbody>\n",
       "</table>\n",
       "</div>"
      ],
      "text/plain": [
       "           gdp_growth_(%)  gdp_per_capita_($)  inflation_rate_(%)  \\\n",
       "area                                                                \n",
       "USA                   2.1             60000.0                 3.2   \n",
       "Eurozone              1.3             57500.0                 2.5   \n",
       "Japan                 0.7             40000.0                 1.0   \n",
       "UK                    1.5             57500.0                 2.8   \n",
       "Canada                1.8             55000.0                 2.2   \n",
       "Australia             2.0             70000.0                 2.6   \n",
       "\n",
       "           policy_rate_(%)  unemployment_rate_(%)  fx_rate_($/X)  \\\n",
       "area                                                               \n",
       "USA                   5.25                    3.8           1.00   \n",
       "Eurozone              4.00                    6.5           1.09   \n",
       "Japan                -0.10                    2.6         143.50   \n",
       "UK                    5.00                    4.2           0.79   \n",
       "Canada                4.75                    5.1           1.36   \n",
       "Australia             4.35                    4.0           1.51   \n",
       "\n",
       "           avg_weather_(°C)  \n",
       "area                         \n",
       "USA                    20.5  \n",
       "Eurozone               18.0  \n",
       "Japan                  15.0  \n",
       "UK                     12.5  \n",
       "Canada                 10.0  \n",
       "Australia              22.0  "
      ]
     },
     "execution_count": 2321,
     "metadata": {},
     "output_type": "execute_result"
    }
   ],
   "source": [
    "df1 = df.copy()  # Create a copy of the DataFrame\n",
    "\n",
    "df1.rename(columns={\n",
    "    \"gdp_growth\": \"gdp_growth_(%)\",\n",
    "    \"gdp_per_capita\": \"gdp_per_capita_($)\", \n",
    "    \"inflation\": \"inflation_rate_(%)\",\n",
    "    \"policy_rate\": \"policy_rate_(%)\",\n",
    "    \"unemployment\": \"unemployment_rate_(%)\",\n",
    "    \"fx_usd\": \"fx_rate_($/X)\",\n",
    "    \"avg_weather\": \"avg_weather_(°C)\",\n",
    "    }, inplace=True)  # Rename columns\n",
    "df1"
   ]
  },
  {
   "cell_type": "code",
   "execution_count": 2322,
   "metadata": {},
   "outputs": [
    {
     "data": {
      "application/vnd.microsoft.datawrangler.viewer.v0+json": {
       "columns": [
        {
         "name": "area",
         "rawType": "object",
         "type": "string"
        },
        {
         "name": "gdp growth",
         "rawType": "float64",
         "type": "float"
        },
        {
         "name": "gdp per capita",
         "rawType": "float64",
         "type": "float"
        },
        {
         "name": "inflation",
         "rawType": "float64",
         "type": "float"
        },
        {
         "name": "policy rate",
         "rawType": "float64",
         "type": "float"
        },
        {
         "name": "unemployment",
         "rawType": "float64",
         "type": "float"
        },
        {
         "name": "fx usd",
         "rawType": "float64",
         "type": "float"
        },
        {
         "name": "avg weather",
         "rawType": "float64",
         "type": "float"
        }
       ],
       "ref": "544f6287-7a91-4a1a-8d0b-a07609932db5",
       "rows": [
        [
         "USA",
         "2.1",
         "60000.0",
         "3.2",
         "5.25",
         "3.8",
         "1.0",
         "20.5"
        ],
        [
         "Eurozone",
         "1.3",
         "57500.0",
         "2.5",
         "4.0",
         "6.5",
         "1.09",
         "18.0"
        ],
        [
         "Japan",
         "0.7",
         "40000.0",
         "1.0",
         "-0.1",
         "2.6",
         "143.5",
         "15.0"
        ],
        [
         "UK",
         "1.5",
         "57500.0",
         "2.8",
         "5.0",
         "4.2",
         "0.79",
         "12.5"
        ],
        [
         "Canada",
         "1.8",
         "55000.0",
         "2.2",
         "4.75",
         "5.1",
         "1.36",
         "10.0"
        ],
        [
         "Australia",
         "2.0",
         "70000.0",
         "2.6",
         "4.35",
         "4.0",
         "1.51",
         "22.0"
        ]
       ],
       "shape": {
        "columns": 7,
        "rows": 6
       }
      },
      "text/html": [
       "<div>\n",
       "<style scoped>\n",
       "    .dataframe tbody tr th:only-of-type {\n",
       "        vertical-align: middle;\n",
       "    }\n",
       "\n",
       "    .dataframe tbody tr th {\n",
       "        vertical-align: top;\n",
       "    }\n",
       "\n",
       "    .dataframe thead th {\n",
       "        text-align: right;\n",
       "    }\n",
       "</style>\n",
       "<table border=\"1\" class=\"dataframe\">\n",
       "  <thead>\n",
       "    <tr style=\"text-align: right;\">\n",
       "      <th></th>\n",
       "      <th>gdp growth</th>\n",
       "      <th>gdp per capita</th>\n",
       "      <th>inflation</th>\n",
       "      <th>policy rate</th>\n",
       "      <th>unemployment</th>\n",
       "      <th>fx usd</th>\n",
       "      <th>avg weather</th>\n",
       "    </tr>\n",
       "    <tr>\n",
       "      <th>area</th>\n",
       "      <th></th>\n",
       "      <th></th>\n",
       "      <th></th>\n",
       "      <th></th>\n",
       "      <th></th>\n",
       "      <th></th>\n",
       "      <th></th>\n",
       "    </tr>\n",
       "  </thead>\n",
       "  <tbody>\n",
       "    <tr>\n",
       "      <th>USA</th>\n",
       "      <td>2.1</td>\n",
       "      <td>60000.0</td>\n",
       "      <td>3.2</td>\n",
       "      <td>5.25</td>\n",
       "      <td>3.8</td>\n",
       "      <td>1.00</td>\n",
       "      <td>20.5</td>\n",
       "    </tr>\n",
       "    <tr>\n",
       "      <th>Eurozone</th>\n",
       "      <td>1.3</td>\n",
       "      <td>57500.0</td>\n",
       "      <td>2.5</td>\n",
       "      <td>4.00</td>\n",
       "      <td>6.5</td>\n",
       "      <td>1.09</td>\n",
       "      <td>18.0</td>\n",
       "    </tr>\n",
       "    <tr>\n",
       "      <th>Japan</th>\n",
       "      <td>0.7</td>\n",
       "      <td>40000.0</td>\n",
       "      <td>1.0</td>\n",
       "      <td>-0.10</td>\n",
       "      <td>2.6</td>\n",
       "      <td>143.50</td>\n",
       "      <td>15.0</td>\n",
       "    </tr>\n",
       "    <tr>\n",
       "      <th>UK</th>\n",
       "      <td>1.5</td>\n",
       "      <td>57500.0</td>\n",
       "      <td>2.8</td>\n",
       "      <td>5.00</td>\n",
       "      <td>4.2</td>\n",
       "      <td>0.79</td>\n",
       "      <td>12.5</td>\n",
       "    </tr>\n",
       "    <tr>\n",
       "      <th>Canada</th>\n",
       "      <td>1.8</td>\n",
       "      <td>55000.0</td>\n",
       "      <td>2.2</td>\n",
       "      <td>4.75</td>\n",
       "      <td>5.1</td>\n",
       "      <td>1.36</td>\n",
       "      <td>10.0</td>\n",
       "    </tr>\n",
       "    <tr>\n",
       "      <th>Australia</th>\n",
       "      <td>2.0</td>\n",
       "      <td>70000.0</td>\n",
       "      <td>2.6</td>\n",
       "      <td>4.35</td>\n",
       "      <td>4.0</td>\n",
       "      <td>1.51</td>\n",
       "      <td>22.0</td>\n",
       "    </tr>\n",
       "  </tbody>\n",
       "</table>\n",
       "</div>"
      ],
      "text/plain": [
       "           gdp growth  gdp per capita  inflation  policy rate  unemployment  \\\n",
       "area                                                                          \n",
       "USA               2.1         60000.0        3.2         5.25           3.8   \n",
       "Eurozone          1.3         57500.0        2.5         4.00           6.5   \n",
       "Japan             0.7         40000.0        1.0        -0.10           2.6   \n",
       "UK                1.5         57500.0        2.8         5.00           4.2   \n",
       "Canada            1.8         55000.0        2.2         4.75           5.1   \n",
       "Australia         2.0         70000.0        2.6         4.35           4.0   \n",
       "\n",
       "           fx usd  avg weather  \n",
       "area                            \n",
       "USA          1.00         20.5  \n",
       "Eurozone     1.09         18.0  \n",
       "Japan      143.50         15.0  \n",
       "UK           0.79         12.5  \n",
       "Canada       1.36         10.0  \n",
       "Australia    1.51         22.0  "
      ]
     },
     "execution_count": 2322,
     "metadata": {},
     "output_type": "execute_result"
    }
   ],
   "source": [
    "df1.columns = df.columns.str.replace('_', ' ')\n",
    "df1"
   ]
  },
  {
   "cell_type": "code",
   "execution_count": 2323,
   "metadata": {},
   "outputs": [
    {
     "data": {
      "application/vnd.microsoft.datawrangler.viewer.v0+json": {
       "columns": [
        {
         "name": "area",
         "rawType": "object",
         "type": "string"
        },
        {
         "name": "Gdp_growth",
         "rawType": "float64",
         "type": "float"
        },
        {
         "name": "Gdp_per_capita",
         "rawType": "float64",
         "type": "float"
        },
        {
         "name": "Inflation",
         "rawType": "float64",
         "type": "float"
        },
        {
         "name": "Policy_rate",
         "rawType": "float64",
         "type": "float"
        },
        {
         "name": "Unemployment",
         "rawType": "float64",
         "type": "float"
        },
        {
         "name": "Fx_usd",
         "rawType": "float64",
         "type": "float"
        },
        {
         "name": "Avg_weather",
         "rawType": "float64",
         "type": "float"
        }
       ],
       "ref": "048a6179-9f8c-46ae-9a9c-2abae2de12c5",
       "rows": [
        [
         "USA",
         "2.1",
         "60000.0",
         "3.2",
         "5.25",
         "3.8",
         "1.0",
         "20.5"
        ],
        [
         "EUROZONE",
         "1.3",
         "57500.0",
         "2.5",
         "4.0",
         "6.5",
         "1.09",
         "18.0"
        ],
        [
         "JAPAN",
         "0.7",
         "40000.0",
         "1.0",
         "-0.1",
         "2.6",
         "143.5",
         "15.0"
        ],
        [
         "UK",
         "1.5",
         "57500.0",
         "2.8",
         "5.0",
         "4.2",
         "0.79",
         "12.5"
        ],
        [
         "CANADA",
         "1.8",
         "55000.0",
         "2.2",
         "4.75",
         "5.1",
         "1.36",
         "10.0"
        ],
        [
         "AUSTRALIA",
         "2.0",
         "70000.0",
         "2.6",
         "4.35",
         "4.0",
         "1.51",
         "22.0"
        ]
       ],
       "shape": {
        "columns": 7,
        "rows": 6
       }
      },
      "text/html": [
       "<div>\n",
       "<style scoped>\n",
       "    .dataframe tbody tr th:only-of-type {\n",
       "        vertical-align: middle;\n",
       "    }\n",
       "\n",
       "    .dataframe tbody tr th {\n",
       "        vertical-align: top;\n",
       "    }\n",
       "\n",
       "    .dataframe thead th {\n",
       "        text-align: right;\n",
       "    }\n",
       "</style>\n",
       "<table border=\"1\" class=\"dataframe\">\n",
       "  <thead>\n",
       "    <tr style=\"text-align: right;\">\n",
       "      <th></th>\n",
       "      <th>Gdp_growth</th>\n",
       "      <th>Gdp_per_capita</th>\n",
       "      <th>Inflation</th>\n",
       "      <th>Policy_rate</th>\n",
       "      <th>Unemployment</th>\n",
       "      <th>Fx_usd</th>\n",
       "      <th>Avg_weather</th>\n",
       "    </tr>\n",
       "    <tr>\n",
       "      <th>area</th>\n",
       "      <th></th>\n",
       "      <th></th>\n",
       "      <th></th>\n",
       "      <th></th>\n",
       "      <th></th>\n",
       "      <th></th>\n",
       "      <th></th>\n",
       "    </tr>\n",
       "  </thead>\n",
       "  <tbody>\n",
       "    <tr>\n",
       "      <th>USA</th>\n",
       "      <td>2.1</td>\n",
       "      <td>60000.0</td>\n",
       "      <td>3.2</td>\n",
       "      <td>5.25</td>\n",
       "      <td>3.8</td>\n",
       "      <td>1.00</td>\n",
       "      <td>20.5</td>\n",
       "    </tr>\n",
       "    <tr>\n",
       "      <th>EUROZONE</th>\n",
       "      <td>1.3</td>\n",
       "      <td>57500.0</td>\n",
       "      <td>2.5</td>\n",
       "      <td>4.00</td>\n",
       "      <td>6.5</td>\n",
       "      <td>1.09</td>\n",
       "      <td>18.0</td>\n",
       "    </tr>\n",
       "    <tr>\n",
       "      <th>JAPAN</th>\n",
       "      <td>0.7</td>\n",
       "      <td>40000.0</td>\n",
       "      <td>1.0</td>\n",
       "      <td>-0.10</td>\n",
       "      <td>2.6</td>\n",
       "      <td>143.50</td>\n",
       "      <td>15.0</td>\n",
       "    </tr>\n",
       "    <tr>\n",
       "      <th>UK</th>\n",
       "      <td>1.5</td>\n",
       "      <td>57500.0</td>\n",
       "      <td>2.8</td>\n",
       "      <td>5.00</td>\n",
       "      <td>4.2</td>\n",
       "      <td>0.79</td>\n",
       "      <td>12.5</td>\n",
       "    </tr>\n",
       "    <tr>\n",
       "      <th>CANADA</th>\n",
       "      <td>1.8</td>\n",
       "      <td>55000.0</td>\n",
       "      <td>2.2</td>\n",
       "      <td>4.75</td>\n",
       "      <td>5.1</td>\n",
       "      <td>1.36</td>\n",
       "      <td>10.0</td>\n",
       "    </tr>\n",
       "    <tr>\n",
       "      <th>AUSTRALIA</th>\n",
       "      <td>2.0</td>\n",
       "      <td>70000.0</td>\n",
       "      <td>2.6</td>\n",
       "      <td>4.35</td>\n",
       "      <td>4.0</td>\n",
       "      <td>1.51</td>\n",
       "      <td>22.0</td>\n",
       "    </tr>\n",
       "  </tbody>\n",
       "</table>\n",
       "</div>"
      ],
      "text/plain": [
       "           Gdp_growth  Gdp_per_capita  Inflation  Policy_rate  Unemployment  \\\n",
       "area                                                                          \n",
       "USA               2.1         60000.0        3.2         5.25           3.8   \n",
       "EUROZONE          1.3         57500.0        2.5         4.00           6.5   \n",
       "JAPAN             0.7         40000.0        1.0        -0.10           2.6   \n",
       "UK                1.5         57500.0        2.8         5.00           4.2   \n",
       "CANADA            1.8         55000.0        2.2         4.75           5.1   \n",
       "AUSTRALIA         2.0         70000.0        2.6         4.35           4.0   \n",
       "\n",
       "           Fx_usd  Avg_weather  \n",
       "area                            \n",
       "USA          1.00         20.5  \n",
       "EUROZONE     1.09         18.0  \n",
       "JAPAN      143.50         15.0  \n",
       "UK           0.79         12.5  \n",
       "CANADA       1.36         10.0  \n",
       "AUSTRALIA    1.51         22.0  "
      ]
     },
     "execution_count": 2323,
     "metadata": {},
     "output_type": "execute_result"
    }
   ],
   "source": [
    "# Capitalize the first letter of each area name\n",
    "df1.index = df.index.str.upper() # Convert all area names to uppercase\n",
    "df1.columns = df.columns.str.capitalize()  # Capitalize the first letter of each column name\n",
    "df1"
   ]
  },
  {
   "cell_type": "markdown",
   "metadata": {},
   "source": [
    "## Plotting\n",
    "\n",
    "DataFrames have all kinds of [useful plotting](https://pandas.pydata.org/pandas-docs/stable/visualization.html) built in. Note that we do not even have to import `matplotlib` for this."
   ]
  },
  {
   "cell_type": "code",
   "execution_count": 2331,
   "metadata": {},
   "outputs": [
    {
     "data": {
      "text/plain": [
       "<Axes: title={'center': 'Inflation vs Unemployment'}, xlabel='gdp_growth', ylabel='gdp_per_capita'>"
      ]
     },
     "execution_count": 2331,
     "metadata": {},
     "output_type": "execute_result"
    },
    {
     "data": {
      "image/png": "[encoded data removed]",
      "text/plain": [
       "<Figure size 640x480 with 1 Axes>"
      ]
     },
     "metadata": {},
     "output_type": "display_data"
    }
   ],
   "source": [
    "df.plot(kind=\"scatter\", x=\"gdp_growth\", y=\"gdp_per_capita\", title=\"Inflation vs Unemployment\")  # Scatter plot of inflation vs unemployment"
   ]
  },
  {
   "cell_type": "code",
   "execution_count": 2327,
   "metadata": {},
   "outputs": [
    {
     "data": {
      "text/plain": [
       "<Axes: ylabel='area'>"
      ]
     },
     "execution_count": 2327,
     "metadata": {},
     "output_type": "execute_result"
    },
    {
     "data": {
      "image/png": "[encoded data removed]",
      "text/plain": [
       "<Figure size 640x480 with 1 Axes>"
      ]
     },
     "metadata": {},
     "output_type": "display_data"
    }
   ],
   "source": [
    "df.sort_values(by=\"gdp_growth\", ascending=False, inplace=True)\n",
    "df.gdp_growth.plot.barh(color=\"orange\")"
   ]
  },
  {
   "cell_type": "markdown",
   "metadata": {},
   "source": [
    "## Reading and Writing Files"
   ]
  },
  {
   "cell_type": "markdown",
   "metadata": {},
   "source": [
    "To read data into pandas, we can use for instance the [`pd.read_csv()`](https://pandas.pydata.org/pandas-docs/stable/generated/pandas.read_csv.html) function. This function is incredibly powerful and complex with a multitude of settings. You can use it to extract data from almost any text file."
   ]
  },
  {
   "cell_type": "markdown",
   "metadata": {},
   "source": [
    "The `pd.read_csv()` function can take a path to a local file as an input, or even a link to an online text file."
   ]
  },
  {
   "cell_type": "markdown",
   "metadata": {},
   "source": [
    "Let's import a slightly larger dataset about the power plant fleet in Europe_"
   ]
  },
  {
   "cell_type": "code",
   "execution_count": null,
   "metadata": {},
   "outputs": [],
   "source": [
    "fn = \"https://raw.githubusercontent.com/PyPSA/powerplantmatching/master/powerplants.csv\""
   ]
  },
  {
   "cell_type": "code",
   "execution_count": null,
   "metadata": {},
   "outputs": [],
   "source": [
    "df = pd.read_csv(fn, index_col=0)\n",
    "df.iloc[:5, :10]"
   ]
  },
  {
   "cell_type": "code",
   "execution_count": null,
   "metadata": {},
   "outputs": [],
   "source": [
    "df.info()"
   ]
  },
  {
   "cell_type": "code",
   "execution_count": null,
   "metadata": {},
   "outputs": [],
   "source": [
    "df.describe()"
   ]
  },
  {
   "cell_type": "markdown",
   "metadata": {},
   "source": [
    "Sometimes, we also want to store a DataFrame for later use. There are many different file formats tabular data can be stored in,  including HTML, JSON, Excel, Parquet, Feather, etc. Here, let's say we want to store the DataFrame as CSV (comma-separated values) file under the name \"tmp.csv\"."
   ]
  },
  {
   "cell_type": "code",
   "execution_count": null,
   "metadata": {},
   "outputs": [],
   "source": [
    "df.to_csv(\"tmp.csv\")"
   ]
  },
  {
   "cell_type": "markdown",
   "metadata": {
    "tags": []
   },
   "source": [
    "## Groupby Functionality"
   ]
  },
  {
   "cell_type": "markdown",
   "metadata": {},
   "source": [
    "Both `Series` and `DataFrame` objects have a `groupby` method. It accepts a variety of arguments, but the simplest way to think about it is that you pass another series, whose unique values are used to split the original object into different groups. `groupby` is an amazingly powerful but also complex function.\n",
    "\n",
    "Here's an example which retrieves the total generation capacity per country."
   ]
  },
  {
   "cell_type": "code",
   "execution_count": null,
   "metadata": {},
   "outputs": [],
   "source": [
    "grouped = df.groupby(\"Country\").Capacity.sum()\n",
    "grouped.head()"
   ]
  },
  {
   "cell_type": "markdown",
   "metadata": {},
   "source": [
    "Such **“chaining”** operations together is very common with pandas:"
   ]
  },
  {
   "cell_type": "markdown",
   "metadata": {},
   "source": [
    "Let's break apart this operation a bit. The workflow with `groupby` can be divided into three general steps:\n",
    "\n",
    "1. **Split**: Partition the data into different groups based on some criterion.\n",
    "1. **Apply**: Do some caclulation within each group. Different types of steps might be\n",
    "   - *Aggregation*: Get the mean or max within the group.\n",
    "   - *Transformation*: Normalize all the values within a group.\n",
    "   - *Filtration*: Eliminate some groups based on a criterion.\n",
    "1. **Combine**: Put the results back together into a single object.\n",
    "\n",
    "<img src=\"https://miro.medium.com/max/1840/1*JbF6nhrQsn4f-TaSF6IR9g.png\" width=\"720px\" />"
   ]
  },
  {
   "cell_type": "code",
   "execution_count": null,
   "metadata": {},
   "outputs": [],
   "source": [
    "gb = df.groupby(\"Country\")\n",
    "gb"
   ]
  },
  {
   "cell_type": "markdown",
   "metadata": {},
   "source": [
    "The length tells us how many groups were found:"
   ]
  },
  {
   "cell_type": "code",
   "execution_count": null,
   "metadata": {},
   "outputs": [],
   "source": [
    "len(gb)"
   ]
  },
  {
   "cell_type": "markdown",
   "metadata": {},
   "source": [
    "All of the groups are available as a dictionary via the `.groups` attribute:"
   ]
  },
  {
   "cell_type": "code",
   "execution_count": null,
   "metadata": {},
   "outputs": [],
   "source": [
    "groups = gb.groups\n",
    "len(groups)"
   ]
  },
  {
   "cell_type": "code",
   "execution_count": null,
   "metadata": {},
   "outputs": [],
   "source": [
    "list(groups.keys())[:5]"
   ]
  },
  {
   "cell_type": "markdown",
   "metadata": {},
   "source": [
    "Now that we know how to create a `GroupBy` object, let's learn how to do aggregation on it."
   ]
  },
  {
   "cell_type": "code",
   "execution_count": null,
   "metadata": {},
   "outputs": [],
   "source": [
    "gb.Capacity.sum().nlargest(5)"
   ]
  },
  {
   "cell_type": "code",
   "execution_count": null,
   "metadata": {},
   "outputs": [],
   "source": [
    "gb[\"DateIn\"].mean().head()"
   ]
  },
  {
   "cell_type": "markdown",
   "metadata": {},
   "source": [
    "Grouping is not only possible on a single columns, but also on multiple columns. For instance,\n",
    "we might want to group the capacities by country **and** fuel type. To achieve this, we pass a list of functions to the `groupby` functions."
   ]
  },
  {
   "cell_type": "code",
   "execution_count": null,
   "metadata": {},
   "outputs": [],
   "source": [
    "capacities = df.groupby([\"Country\", \"Fueltype\"]).Capacity.sum()\n",
    "capacities"
   ]
  },
  {
   "cell_type": "markdown",
   "metadata": {},
   "source": [
    "By grouping by multiple attributes, our index becomes a `pd.MultiIndex` (a hierarchical index with multiple *levels*."
   ]
  },
  {
   "cell_type": "code",
   "execution_count": null,
   "metadata": {},
   "outputs": [],
   "source": [
    "capacities.index[:5]"
   ]
  },
  {
   "cell_type": "code",
   "execution_count": null,
   "metadata": {},
   "outputs": [],
   "source": [
    "type(capacities.index)"
   ]
  },
  {
   "cell_type": "markdown",
   "metadata": {},
   "source": [
    "We can use the `.unstack` function to reshape the multi-indexed `pd.Series` into a `pd.DataFrame` which has the second index level as columns. "
   ]
  },
  {
   "cell_type": "code",
   "execution_count": null,
   "metadata": {},
   "outputs": [],
   "source": [
    "capacities.unstack().tail().T"
   ]
  },
  {
   "cell_type": "markdown",
   "metadata": {},
   "source": [
    "## Exercises"
   ]
  },
  {
   "cell_type": "markdown",
   "metadata": {},
   "source": [
    "### Power Plants Data"
   ]
  },
  {
   "cell_type": "markdown",
   "metadata": {},
   "source": [
    "Run the function `.describe()` on the DataFrame that includes the power plant database:"
   ]
  },
  {
   "cell_type": "code",
   "execution_count": null,
   "metadata": {
    "tags": [
     "hide-cell"
    ]
   },
   "outputs": [],
   "source": [
    "df.describe()"
   ]
  },
  {
   "cell_type": "markdown",
   "metadata": {},
   "source": [
    "Provide a list of unique fuel types included in the dataset"
   ]
  },
  {
   "cell_type": "code",
   "execution_count": null,
   "metadata": {
    "tags": [
     "hide-cell"
    ]
   },
   "outputs": [],
   "source": [
    "df.Fueltype.unique()"
   ]
  },
  {
   "cell_type": "markdown",
   "metadata": {},
   "source": [
    "Provide a list of unique technologies included in the dataset"
   ]
  },
  {
   "cell_type": "code",
   "execution_count": null,
   "metadata": {
    "tags": [
     "hide-cell"
    ]
   },
   "outputs": [],
   "source": [
    "df.Technology.unique()"
   ]
  },
  {
   "cell_type": "markdown",
   "metadata": {},
   "source": [
    "Filter the dataset by power plants with the fuel type \"Hard Coal\""
   ]
  },
  {
   "cell_type": "code",
   "execution_count": null,
   "metadata": {
    "tags": [
     "hide-cell"
    ]
   },
   "outputs": [],
   "source": [
    "coal = df.loc[df.Fueltype == \"Hard Coal\"]\n",
    "coal"
   ]
  },
  {
   "cell_type": "markdown",
   "metadata": {},
   "source": [
    "Identify the 5 largest coal power plants. In which countries are they located? When were they built?"
   ]
  },
  {
   "cell_type": "code",
   "execution_count": null,
   "metadata": {
    "tags": [
     "hide-cell"
    ]
   },
   "outputs": [],
   "source": [
    "coal.loc[coal.Capacity.nlargest(5).index]"
   ]
  },
  {
   "cell_type": "markdown",
   "metadata": {},
   "source": [
    "Identify the power plant with the longest \"Name\"."
   ]
  },
  {
   "cell_type": "code",
   "execution_count": null,
   "metadata": {
    "tags": [
     "hide-cell"
    ]
   },
   "outputs": [],
   "source": [
    "i = df.Name.map(lambda x: len(x)).argmax()\n",
    "df.iloc[i]"
   ]
  },
  {
   "cell_type": "markdown",
   "metadata": {},
   "source": [
    "Identify the 10 northernmost powerplants. What type of power plants are they?"
   ]
  },
  {
   "cell_type": "code",
   "execution_count": null,
   "metadata": {
    "tags": [
     "hide-cell"
    ]
   },
   "outputs": [],
   "source": [
    "index = df.lat.nlargest(10).index\n",
    "df.loc[index]"
   ]
  },
  {
   "cell_type": "markdown",
   "metadata": {},
   "source": [
    "What is the average \"DateIn\" of each \"Fueltype\"? Which type of power plants is the oldest on average?"
   ]
  },
  {
   "cell_type": "code",
   "execution_count": null,
   "metadata": {
    "tags": [
     "hide-cell"
    ]
   },
   "outputs": [],
   "source": [
    "df.groupby(\"Fueltype\").DateIn.mean().sort_values()"
   ]
  },
  {
   "cell_type": "markdown",
   "metadata": {},
   "source": [
    "Plot a histogram of power plant capacities with bins of length 100 MW between 0 and 4000 MW. What do you observe?"
   ]
  },
  {
   "cell_type": "code",
   "execution_count": null,
   "metadata": {
    "tags": [
     "hide-cell"
    ]
   },
   "outputs": [],
   "source": [
    "df.Capacity.plot.hist(bins=np.arange(0, 4001, 100))"
   ]
  },
  {
   "cell_type": "markdown",
   "metadata": {},
   "source": [
    "How many power plants of each fuel type are there in each country? Display the results in a DataFrame with countries as index and fuel type as columns. Fill missing values with the value zero. Convert all values to integers.\n",
    "\n",
    "> Browse Google or the pandas documentation to find the right aggregation function to count values."
   ]
  },
  {
   "cell_type": "code",
   "execution_count": null,
   "metadata": {
    "tags": [
     "hide-cell"
    ]
   },
   "outputs": [],
   "source": [
    "df.groupby([\"Country\", \"Fueltype\"]).size().unstack().fillna(0.0).astype(int)"
   ]
  },
  {
   "cell_type": "markdown",
   "metadata": {},
   "source": [
    "### Time Series Analysis"
   ]
  },
  {
   "cell_type": "markdown",
   "metadata": {},
   "source": [
    "Read in the time series from the second lecture into a DataFrame.\n",
    "\n",
    "The file is available at https://tubcloud.tu-berlin.de/s/pKttFadrbTKSJKF/download/time-series-lecture-2.csv. and includes hourly time series for Germany in 2015 for:\n",
    "    \n",
    "1. electricity demand from [OPSD](https://open-power-system-data.org/) in GW\n",
    "2. onshore wind capacity factors from [renewables.ninja](https://www.renewables.ninja/) in per-unit of installed capacity\n",
    "3. offshore wind capacity factors from [renewables.ninja](https://www.renewables.ninja/) in per-unit of installed capacity\n",
    "4. solar PV capacity factors from [renewables.ninja](https://www.renewables.ninja/) in per-unit of installed capacity\n",
    "5. electricity day-ahead spot market prices in €/MWh from EPEX Spot zone DE/AT/LU retrieved via [SMARD platform](https://www.smard.de/home)\n",
    "\n",
    "Use the function `pd.read_csv` with the keyword arguments `index_col=` and `parse_dates=` to ensure the\n",
    "time stamps are treated as `pd.DatetimeIndex`."
   ]
  },
  {
   "cell_type": "code",
   "execution_count": null,
   "metadata": {},
   "outputs": [],
   "source": [
    "# your code here"
   ]
  },
  {
   "cell_type": "markdown",
   "metadata": {},
   "source": [
    "The start of the DataFrame should look like this:"
   ]
  },
  {
   "cell_type": "markdown",
   "metadata": {},
   "source": [
    "|                     |   load |   onwind |   offwind |   solar |   prices |\n",
    "|:--------------------|-------:|---------:|----------:|--------:|---------:|\n",
    "| 2015-01-01 00:00:00 | 41.151 |   0.1566 |    0.703  |       0 |      nan |\n",
    "| 2015-01-01 01:00:00 | 40.135 |   0.1659 |    0.6875 |       0 |      nan |\n",
    "| 2015-01-01 02:00:00 | 39.106 |   0.1746 |    0.6535 |       0 |      nan |\n",
    "| 2015-01-01 03:00:00 | 38.765 |   0.1745 |    0.6803 |       0 |      nan |\n",
    "| 2015-01-01 04:00:00 | 38.941 |   0.1826 |    0.7272 |       0 |      nan |"
   ]
  },
  {
   "cell_type": "markdown",
   "metadata": {},
   "source": [
    "And it should pass the following test:"
   ]
  },
  {
   "cell_type": "markdown",
   "metadata": {},
   "source": [
    "`assert type(df.index) == pd.DatetimeIndex`"
   ]
  },
  {
   "cell_type": "markdown",
   "metadata": {},
   "source": [
    "For each column:\n",
    "- What are the average, minimum and maximum values?\n",
    "- Find the time stamps where data on prices is missing.\n",
    "- Fill up the missing data with the prices observed one week ahead.\n",
    "- Plot the time series for the full year.\n",
    "- Plot the time series for the month May.\n",
    "- Resample the time series to daily, weeky, and monthly frequencies and plot the resulting time series in one graph.\n",
    "- Sort the values in descending order and plot the duration curve. *Hint: Run `.reset_index(drop=True)` to drop the index after sorting.*\n",
    "- Plot a histogram of the time series values.\n",
    "- Perform a Fourier transformation of the time series. What are the dominant frequencies? *Hint: Below you can find an example how Fourier transformation can be down with `numpy`.*\n",
    "- Calculate the Pearson correlation coefficients between all time series. *Hint: There is a function for that. Google for \"pandas dataframe correlation\".*"
   ]
  },
  {
   "cell_type": "markdown",
   "metadata": {
    "tags": []
   },
   "source": [
    "`abs(pd.Series(np.fft.rfft(df.solar - df.solar.mean()), index=np.fft.rfftfreq(len(df.solar), d=1./8760))**2)`"
   ]
  },
  {
   "cell_type": "code",
   "execution_count": null,
   "metadata": {},
   "outputs": [],
   "source": [
    "# your code here"
   ]
  }
 ],
 "metadata": {
  "kernelspec": {
   "display_name": "datascience_course_cemfi",
   "language": "python",
   "name": "python3"
  },
  "language_info": {
   "codemirror_mode": {
    "name": "ipython",
    "version": 3
   },
   "file_extension": ".py",
   "mimetype": "text/x-python",
   "name": "python",
   "nbconvert_exporter": "python",
   "pygments_lexer": "ipython3",
   "version": "3.13.3"
  }
 },
 "nbformat": 4,
 "nbformat_minor": 4
}
